{
 "cells": [
  {
   "cell_type": "markdown",
   "metadata": {
    "heading_collapsed": true
   },
   "source": [
    "# Table of Contents\n",
    "* [build and  update](#build-and--update)\n",
    "\t* [load](#load)\n",
    "\t* [stage1](#stage1)\n",
    "\t* [stage3](#stage3)\n",
    "\t* [inspect](#inspect)\n",
    "* [parsing](#parsing)\n",
    "\t* [run](#run)\n",
    "\t* [exp](#exp)\n",
    "* [mkdocs/ s3 dev](#mkdocs/-s3-dev)\n",
    "* [clean and spellcheck](#clean-and-spellcheck)\n",
    "* [hide](#hide)\n",
    "\t* [old build and update ds](#old-build-and-update-ds)\n"
   ]
  },
  {
   "cell_type": "code",
   "execution_count": 577,
   "metadata": {
    "collapsed": true,
    "hidden": true,
    "run_control": {
     "frozen": false,
     "read_only": false
    }
   },
   "outputs": [],
   "source": [
    "%%capture\n",
    "from __future__ import division\n",
    "import numpy as np\n",
    "import pandas as pd\n",
    "import scipy.stats as st\n",
    "import itertools\n",
    "import math\n",
    "from collections import Counter, defaultdict\n",
    "%load_ext autoreload\n",
    "%autoreload 2\n",
    "\n",
    "import copy\n",
    "import os\n",
    "import json\n",
    "from tqdm import tqdm\n",
    "\n",
    "from IPython.display import Image\n",
    "import random"
   ]
  },
  {
   "cell_type": "code",
   "execution_count": 579,
   "metadata": {
    "collapsed": true,
    "hidden": true
   },
   "outputs": [],
   "source": [
    "%%capture\n",
    "import matplotlib as mpl\n",
    "mpl.use(\"Agg\")\n",
    "import matplotlib.pylab as plt\n",
    "#%matplotlib notebook\n",
    "%matplotlib inline\n",
    "%load_ext base16_mplrc\n",
    "%base16_mplrc light solarized\n",
    "#%base16_mplrc dark solarized\n",
    "plt.rcParams['grid.linewidth'] = 0\n",
    "plt.rcParams['figure.figsize'] = (16.0, 10.0)"
   ]
  },
  {
   "cell_type": "markdown",
   "metadata": {},
   "source": [
    "# build and  update"
   ]
  },
  {
   "cell_type": "markdown",
   "metadata": {
    "heading_collapsed": true
   },
   "source": [
    "## load"
   ]
  },
  {
   "cell_type": "code",
   "execution_count": 517,
   "metadata": {
    "collapsed": true,
    "hidden": true,
    "run_control": {
     "frozen": false,
     "read_only": false
    }
   },
   "outputs": [],
   "source": [
    "from amt_utils import flintstones_pipeline\n",
    "from amt_utils.mturk import unpickle_this, pickle_this"
   ]
  },
  {
   "cell_type": "code",
   "execution_count": 518,
   "metadata": {
    "collapsed": true,
    "hidden": true,
    "run_control": {
     "frozen": false,
     "read_only": false
    }
   },
   "outputs": [],
   "source": [
    "selection_metadata_dir = 'Flintstone_Shots_GIF_Selection'\n",
    "\n",
    "with open(os.path.join(selection_metadata_dir, 'beta_gif_names.json')) as f:\n",
    "    beta_videos = json.load(f)\n",
    "        \n",
    "with open(os.path.join(selection_metadata_dir, 'production_gif_names.json')) as f:\n",
    "    production_videos = json.load(f)"
   ]
  },
  {
   "cell_type": "code",
   "execution_count": 519,
   "metadata": {
    "collapsed": true,
    "hidden": true,
    "run_control": {
     "frozen": false,
     "read_only": false
    }
   },
   "outputs": [],
   "source": [
    "processed_stage_1_a = unpickle_this('./stage_1/pickeled_results/processed_stage1_boxes.pkl')\n",
    "\n",
    "processed_stage_1_b = unpickle_this('./stage_1/pickeled_results/stage_1b_prod_all_boxes_8_29.pkl')\n",
    "\n",
    "stage_3a_settings = unpickle_this('stage_3/stage3_prod1_2_settings.pkl')\n",
    "\n",
    "stage_3b_descriptions =  unpickle_this('stage_3/stage3_prod1_2_descriptions.pkl')\n",
    "\n",
    "stage_3b_parses = unpickle_this('stage_3/stage3_prod1_2_descriptions_parses.pkl')"
   ]
  },
  {
   "cell_type": "code",
   "execution_count": 520,
   "metadata": {
    "collapsed": true,
    "hidden": true,
    "run_control": {
     "frozen": false,
     "read_only": false
    }
   },
   "outputs": [],
   "source": [
    "# vid_bins = unpickle_this('vid_bin_assignments.pkl')\n",
    "\n",
    "# vid_bin_lookup = {}\n",
    "# for k, vals in vid_bins.items():\n",
    "#     for v in vals:\n",
    "#         vid_bin_lookup[v] = k"
   ]
  },
  {
   "cell_type": "code",
   "execution_count": 521,
   "metadata": {
    "collapsed": true,
    "hidden": true,
    "run_control": {
     "frozen": false,
     "read_only": false
    }
   },
   "outputs": [],
   "source": [
    "with open('./json_data/ds_production.json') as f:\n",
    "    prod_batch_1 = json.load(f)[:20000]"
   ]
  },
  {
   "cell_type": "code",
   "execution_count": 522,
   "metadata": {
    "collapsed": true,
    "hidden": true,
    "run_control": {
     "frozen": false,
     "read_only": false
    }
   },
   "outputs": [],
   "source": [
    "prod_batch_1 = [vid['globalID'] for vid in prod_batch_1]"
   ]
  },
  {
   "cell_type": "markdown",
   "metadata": {
    "heading_collapsed": true
   },
   "source": [
    "## stage1"
   ]
  },
  {
   "cell_type": "code",
   "execution_count": 523,
   "metadata": {
    "collapsed": true,
    "hidden": true,
    "run_control": {
     "frozen": false,
     "read_only": false
    }
   },
   "outputs": [],
   "source": [
    "# prod_dataset = flintstones_pipeline.FlintstonesDataset([vid_id])\n",
    "prod_dataset = flintstones_pipeline.FlintstonesDataset(prod_batch_1)"
   ]
  },
  {
   "cell_type": "code",
   "execution_count": 524,
   "metadata": {
    "collapsed": true,
    "hidden": true,
    "run_control": {
     "frozen": false,
     "read_only": false
    }
   },
   "outputs": [],
   "source": [
    "prod_dataset.update_s1a(processed_stage_1_a)"
   ]
  },
  {
   "cell_type": "code",
   "execution_count": 525,
   "metadata": {
    "collapsed": true,
    "hidden": true,
    "run_control": {
     "frozen": false,
     "read_only": false
    }
   },
   "outputs": [],
   "source": [
    "# sorted_vids = prod_dataset.sorted_by_episode()\n",
    "# prod_dataset"
   ]
  },
  {
   "cell_type": "code",
   "execution_count": 526,
   "metadata": {
    "collapsed": true,
    "hidden": true,
    "run_control": {
     "frozen": false,
     "read_only": false
    }
   },
   "outputs": [],
   "source": [
    "prod_dataset = flintstones_pipeline.FlintstonesDataset(prod_batch_1)\n",
    "prod_dataset.update_s1a(processed_stage_1_a)\n",
    "prod_dataset.update_s1b(processed_stage_1_b)"
   ]
  },
  {
   "cell_type": "markdown",
   "metadata": {},
   "source": [
    "## stage3"
   ]
  },
  {
   "cell_type": "code",
   "execution_count": 527,
   "metadata": {
    "collapsed": true,
    "run_control": {
     "frozen": false,
     "read_only": false
    }
   },
   "outputs": [],
   "source": [
    "prod_dataset.update_s3a(stage_3a_settings)"
   ]
  },
  {
   "cell_type": "code",
   "execution_count": 528,
   "metadata": {
    "collapsed": true,
    "run_control": {
     "frozen": false,
     "read_only": false
    }
   },
   "outputs": [],
   "source": [
    "prod_dataset.update_s3b(stage_3b_descriptions)"
   ]
  },
  {
   "cell_type": "code",
   "execution_count": 529,
   "metadata": {
    "collapsed": true,
    "run_control": {
     "frozen": false,
     "read_only": false
    }
   },
   "outputs": [],
   "source": [
    "go_vids = prod_dataset.filter_videos({'go': True})"
   ]
  },
  {
   "cell_type": "code",
   "execution_count": 530,
   "metadata": {
    "collapsed": true,
    "run_control": {
     "frozen": false,
     "read_only": false
    }
   },
   "outputs": [],
   "source": [
    "# pickle_this(go_vids, 'v0p2_to_parse.pkl')"
   ]
  },
  {
   "cell_type": "code",
   "execution_count": 531,
   "metadata": {
    "collapsed": true,
    "run_control": {
     "frozen": false,
     "read_only": false
    }
   },
   "outputs": [],
   "source": [
    "# dataset_to_json(go_vids, '0p2_to_parse')"
   ]
  },
  {
   "cell_type": "code",
   "execution_count": 532,
   "metadata": {
    "collapsed": true
   },
   "outputs": [],
   "source": [
    "ds_sample_file = '/Users/schwenk/wrk/animation_gan/ai2-vision-animation-gan/data_store/dataset/dataset_v0p3_sample_coref.json'"
   ]
  },
  {
   "cell_type": "code",
   "execution_count": 533,
   "metadata": {
    "collapsed": true
   },
   "outputs": [],
   "source": [
    "with open(ds_sample_file, 'r') as f:\n",
    "    ds_sample = json.load(f)"
   ]
  },
  {
   "cell_type": "code",
   "execution_count": 534,
   "metadata": {
    "collapsed": true
   },
   "outputs": [],
   "source": [
    "o_sample_vids = set([vid['globalID'] for vid in ds_sample])"
   ]
  },
  {
   "cell_type": "code",
   "execution_count": 535,
   "metadata": {
    "collapsed": true
   },
   "outputs": [],
   "source": [
    "original_sample = [vid for vid in go_vids if vid.gid() in o_sample_vids]"
   ]
  },
  {
   "cell_type": "code",
   "execution_count": 536,
   "metadata": {
    "collapsed": true
   },
   "outputs": [],
   "source": [
    "interesting_vid_descs = {vid.gid(): vid.description() for vid in go_vids if 'phone' in vid.description()}"
   ]
  },
  {
   "cell_type": "markdown",
   "metadata": {
    "heading_collapsed": true
   },
   "source": [
    "## inspect"
   ]
  },
  {
   "cell_type": "code",
   "execution_count": null,
   "metadata": {
    "collapsed": true,
    "hidden": true,
    "run_control": {
     "frozen": false,
     "read_only": false
    }
   },
   "outputs": [],
   "source": [
    "prod_dataset = flintstones_pipeline.FlintstonesDataset(prod_batch_1)\n",
    "prod_dataset.update_s1a(processed_stage_1_a)\n",
    "prod_dataset.update_s1b(processed_stage_1_b)"
   ]
  },
  {
   "cell_type": "code",
   "execution_count": null,
   "metadata": {
    "collapsed": true,
    "hidden": true,
    "run_control": {
     "frozen": false,
     "read_only": false
    }
   },
   "outputs": [],
   "source": [
    "prod_dataset.update_s3a(stage_3a_settings)"
   ]
  },
  {
   "cell_type": "code",
   "execution_count": null,
   "metadata": {
    "collapsed": true,
    "hidden": true,
    "run_control": {
     "frozen": false,
     "read_only": false
    }
   },
   "outputs": [],
   "source": []
  },
  {
   "cell_type": "code",
   "execution_count": null,
   "metadata": {
    "collapsed": true,
    "hidden": true,
    "run_control": {
     "frozen": false,
     "read_only": false
    }
   },
   "outputs": [],
   "source": [
    "vid_id = 's_02_e_29_shot_014705_014779'\n",
    "inspect_vid = prod_dataset.get_video(vid_id)\n",
    "inspect_vid = prod_dataset.filter_videos({'go': True})[50]"
   ]
  },
  {
   "cell_type": "code",
   "execution_count": null,
   "metadata": {
    "collapsed": true,
    "hidden": true,
    "run_control": {
     "frozen": false,
     "read_only": false
    }
   },
   "outputs": [],
   "source": [
    "# inspect_vid"
   ]
  },
  {
   "cell_type": "code",
   "execution_count": null,
   "metadata": {
    "collapsed": true,
    "hidden": true,
    "run_control": {
     "frozen": false,
     "read_only": false
    }
   },
   "outputs": [],
   "source": [
    "# inspect_vid.display_gif()"
   ]
  },
  {
   "cell_type": "code",
   "execution_count": null,
   "metadata": {
    "collapsed": true,
    "hidden": true,
    "run_control": {
     "frozen": false,
     "read_only": false
    }
   },
   "outputs": [],
   "source": [
    "dfs = inspect_vid.display_bounding_boxes()\n",
    "three_frames  = inspect_vid.display_keyframes()"
   ]
  },
  {
   "cell_type": "code",
   "execution_count": null,
   "metadata": {
    "collapsed": true,
    "hidden": true,
    "run_control": {
     "frozen": false,
     "read_only": false
    }
   },
   "outputs": [],
   "source": [
    "three_frames.save(local_path + inspect_vid.gid() + '_keyframes.png')\n",
    "dfs.save(local_path + inspect_vid.gid() + '_bboxes.png')"
   ]
  },
  {
   "cell_type": "code",
   "execution_count": null,
   "metadata": {
    "collapsed": true,
    "hidden": true,
    "run_control": {
     "frozen": false,
     "read_only": false
    }
   },
   "outputs": [],
   "source": [
    "# three_frames"
   ]
  },
  {
   "cell_type": "code",
   "execution_count": null,
   "metadata": {
    "collapsed": true,
    "hidden": true,
    "run_control": {
     "frozen": false,
     "read_only": false
    }
   },
   "outputs": [],
   "source": [
    "local_path = '/Users/schwenk/wrk/animation_gan/ai2-vision-animation-gan/documentation/images/'\n",
    "\n",
    "img_base_path = 'https://s3-us-west-2.amazonaws.com/ai2-vision-animation-gan/documentation/images/'"
   ]
  },
  {
   "cell_type": "code",
   "execution_count": null,
   "metadata": {
    "collapsed": true,
    "hidden": true,
    "run_control": {
     "frozen": false,
     "read_only": false
    }
   },
   "outputs": [],
   "source": [
    "inspect_vid.characters_present()"
   ]
  },
  {
   "cell_type": "code",
   "execution_count": null,
   "metadata": {
    "collapsed": true,
    "hidden": true,
    "run_control": {
     "frozen": false,
     "read_only": false
    }
   },
   "outputs": [],
   "source": [
    "char_names_by_id = [char.name() for char in sorted(inspect_vid.data()['characters'], key=lambda x: x.char_id())]"
   ]
  },
  {
   "cell_type": "code",
   "execution_count": null,
   "metadata": {
    "collapsed": true,
    "hidden": true,
    "run_control": {
     "frozen": false,
     "read_only": false
    }
   },
   "outputs": [],
   "source": [
    "char_names_by_id"
   ]
  },
  {
   "cell_type": "markdown",
   "metadata": {},
   "source": [
    "# parsing "
   ]
  },
  {
   "cell_type": "markdown",
   "metadata": {},
   "source": [
    "## run"
   ]
  },
  {
   "cell_type": "code",
   "execution_count": 537,
   "metadata": {
    "collapsed": true,
    "run_control": {
     "frozen": false,
     "read_only": false
    }
   },
   "outputs": [],
   "source": [
    "import spacy\n",
    "from nltk.parse.stanford import StanfordParser\n",
    "from nltk.tokenize import sent_tokenize\n",
    "from nltk.tree import ParentedTree\n",
    "\n",
    "from nltk.parse.corenlp import CoreNLPServer\n",
    "from nltk.parse.corenlp import CoreNLPParser\n",
    "\n",
    "from phrase_cues.parsing import parse_video\n",
    "from phrase_cues.parsing import Tree, Node, format_parse"
   ]
  },
  {
   "cell_type": "code",
   "execution_count": 538,
   "metadata": {
    "collapsed": true,
    "run_control": {
     "frozen": false,
     "read_only": false
    }
   },
   "outputs": [],
   "source": [
    "def dataset_to_json(dataset, version, out_dir='dataset'):\n",
    "    to_json = copy.deepcopy(dataset)\n",
    "    for vid in to_json:\n",
    "        vid.vid_data['characters'] = [char.data() for char in vid.vid_data['characters']]\n",
    "\n",
    "    ds_json = [vid.vid_data for vid in to_json]\n",
    "    out_file = os.path.join(out_dir, 'dataset_v{}.json'.format(version))\n",
    "    with open(out_file, 'w') as f:\n",
    "        json.dump(ds_json, f, sort_keys=True, indent=4)"
   ]
  },
  {
   "cell_type": "code",
   "execution_count": 539,
   "metadata": {
    "collapsed": true,
    "run_control": {
     "frozen": false,
     "read_only": false
    }
   },
   "outputs": [],
   "source": [
    "nlp = spacy.load('en')\n",
    "core_nlp_base = '/Users/schwenk/wrk/animation_gan/phrase_cues/deps/stanford_core_nlp/stanford-corenlp-full-2017-06-09/'\n",
    "\n",
    "const_parse_path = '/Users/schwenk/wrk/animation_gan/build_dataset/dataset'\n",
    "const_parse_dir = 'const_parses'"
   ]
  },
  {
   "cell_type": "code",
   "execution_count": 573,
   "metadata": {},
   "outputs": [
    {
     "name": "stderr",
     "output_type": "stream",
     "text": [
      "100%|██████████| 8504/8504 [07:01<00:00, 20.19it/s]\n"
     ]
    }
   ],
   "source": [
    "for vid in tqdm(go_vids):\n",
    "    try:\n",
    "        parse_video(vid, nlp, core_parser)\n",
    "    except:\n",
    "        print(vid.gid())"
   ]
  },
  {
   "cell_type": "code",
   "execution_count": 542,
   "metadata": {
    "collapsed": true
   },
   "outputs": [],
   "source": [
    "coref_res = unpickle_this('pickled_data/coref_results_full_1.pkl')"
   ]
  },
  {
   "cell_type": "code",
   "execution_count": 543,
   "metadata": {
    "collapsed": true
   },
   "outputs": [],
   "source": [
    "for vid in original_sample:\n",
    "    vid.vid_data['parse']['coref'] = coref_res[vid.gid()] "
   ]
  },
  {
   "cell_type": "code",
   "execution_count": 544,
   "metadata": {
    "collapsed": true
   },
   "outputs": [],
   "source": [
    "dataset_to_json(original_sample, '0p4p5_sample')"
   ]
  },
  {
   "cell_type": "code",
   "execution_count": 545,
   "metadata": {
    "collapsed": true
   },
   "outputs": [],
   "source": [
    "pickle_this(original_sample, 'dataset_sample_0p4p5.pkl')"
   ]
  },
  {
   "cell_type": "code",
   "execution_count": 552,
   "metadata": {
    "collapsed": true
   },
   "outputs": [],
   "source": [
    "td1 = 'Fred is leaning up against his car. He looks very tired, his shoulders are shrugged, he says something and then lets his shoulders down. Then he looks away.'"
   ]
  },
  {
   "cell_type": "code",
   "execution_count": 561,
   "metadata": {},
   "outputs": [
    {
     "data": {
      "text/plain": [
       "8504"
      ]
     },
     "execution_count": 561,
     "metadata": {},
     "output_type": "execute_result"
    }
   ],
   "source": [
    "len(go_vids)"
   ]
  },
  {
   "cell_type": "code",
   "execution_count": 582,
   "metadata": {},
   "outputs": [],
   "source": [
    "videos_by_desc_leng = {vid.gid(): len(vid.vid_data['parse']['constituent_parse']) for vid in go_vids}"
   ]
  },
  {
   "cell_type": "code",
   "execution_count": null,
   "metadata": {
    "collapsed": true
   },
   "outputs": [],
   "source": []
  },
  {
   "cell_type": "code",
   "execution_count": 587,
   "metadata": {},
   "outputs": [],
   "source": [
    "vid_len_lists = defaultdict(list)\n",
    "for k, v in videos_by_desc_leng.items():\n",
    "    vid_len_lists[v].append(k)"
   ]
  },
  {
   "cell_type": "code",
   "execution_count": 591,
   "metadata": {},
   "outputs": [
    {
     "data": {
      "text/plain": [
       "['s_02_e_08_shot_019539_019613',\n",
       " 's_01_e_24_shot_033229_033303',\n",
       " 's_02_e_18_shot_011902_011976',\n",
       " 's_04_e_15_shot_030745_030819',\n",
       " 's_05_e_01_shot_016322_016396',\n",
       " 's_02_e_18_shot_017257_017331',\n",
       " 's_06_e_24_shot_042480_042554',\n",
       " 's_03_e_24_shot_023307_023381',\n",
       " 's_01_e_14_shot_022575_022649',\n",
       " 's_02_e_14_shot_040236_040310',\n",
       " 's_01_e_09_shot_003936_004010',\n",
       " 's_06_e_08_shot_029853_029927',\n",
       " 's_01_e_20_shot_028213_028287',\n",
       " 's_02_e_02_shot_040348_040422',\n",
       " 's_01_e_09_shot_030462_030536',\n",
       " 's_04_e_10_shot_020196_020270',\n",
       " 's_01_e_01_shot_002288_002362',\n",
       " 's_03_e_25_shot_015156_015230',\n",
       " 's_03_e_13_shot_030921_030995',\n",
       " 's_01_e_28_shot_036113_036187',\n",
       " 's_02_e_03_shot_013132_013206',\n",
       " 's_05_e_18_shot_029524_029598',\n",
       " 's_05_e_04_shot_024959_025033',\n",
       " 's_01_e_08_shot_017138_017212',\n",
       " 's_03_e_25_shot_013878_013952',\n",
       " 's_02_e_13_shot_010303_010377',\n",
       " 's_02_e_10_shot_021552_021626',\n",
       " 's_03_e_15_shot_017576_017650',\n",
       " 's_03_e_08_shot_022319_022393',\n",
       " 's_04_e_15_shot_027412_027486',\n",
       " 's_02_e_26_shot_016233_016307',\n",
       " 's_03_e_25_shot_043968_044042',\n",
       " 's_05_e_04_shot_007366_007440',\n",
       " 's_03_e_14_shot_029986_030060',\n",
       " 's_01_e_13_shot_020639_020713',\n",
       " 's_02_e_17_shot_033242_033316',\n",
       " 's_03_e_07_shot_004827_004901',\n",
       " 's_04_e_01_shot_020394_020468',\n",
       " 's_04_e_23_shot_020482_020556',\n",
       " 's_01_e_27_shot_020887_020961',\n",
       " 's_06_e_21_shot_041138_041212',\n",
       " 's_01_e_25_shot_026928_027002',\n",
       " 's_05_e_01_shot_015348_015422',\n",
       " 's_01_e_06_shot_021538_021612',\n",
       " 's_02_e_09_shot_011146_011220',\n",
       " 's_03_e_22_shot_028959_029033',\n",
       " 's_01_e_11_shot_012551_012625',\n",
       " 's_05_e_17_shot_003960_004034',\n",
       " 's_03_e_21_shot_025969_026043',\n",
       " 's_06_e_06_shot_022625_022699',\n",
       " 's_01_e_09_shot_012952_013026',\n",
       " 's_01_e_18_shot_006862_006936',\n",
       " 's_03_e_11_shot_009229_009303',\n",
       " 's_03_e_04_shot_029854_029928',\n",
       " 's_03_e_10_shot_019182_019256',\n",
       " 's_01_e_07_shot_027644_027718',\n",
       " 's_04_e_14_shot_036908_036982',\n",
       " 's_02_e_20_shot_017952_018026',\n",
       " 's_05_e_21_shot_032866_032940',\n",
       " 's_01_e_07_shot_027794_027868',\n",
       " 's_02_e_05_shot_011297_011371',\n",
       " 's_04_e_12_shot_001188_001262',\n",
       " 's_02_e_10_shot_016274_016348',\n",
       " 's_01_e_20_shot_007018_007092',\n",
       " 's_02_e_22_shot_008961_009035',\n",
       " 's_02_e_04_shot_044132_044206',\n",
       " 's_06_e_10_shot_038808_038882',\n",
       " 's_01_e_07_shot_015774_015848',\n",
       " 's_03_e_28_shot_002783_002857',\n",
       " 's_05_e_01_shot_007450_007524',\n",
       " 's_02_e_08_shot_008305_008379',\n",
       " 's_03_e_06_shot_018194_018268',\n",
       " 's_05_e_18_shot_019028_019102',\n",
       " 's_02_e_01_shot_005454_005528',\n",
       " 's_02_e_28_shot_004345_004419',\n",
       " 's_03_e_04_shot_005896_005970',\n",
       " 's_05_e_17_shot_036311_036385',\n",
       " 's_05_e_13_shot_017204_017278',\n",
       " 's_03_e_18_shot_019818_019892',\n",
       " 's_05_e_07_shot_025784_025858',\n",
       " 's_04_e_17_shot_010384_010458',\n",
       " 's_01_e_25_shot_022418_022492',\n",
       " 's_02_e_25_shot_035596_035670',\n",
       " 's_03_e_21_shot_017466_017540',\n",
       " 's_02_e_02_shot_030547_030621',\n",
       " 's_05_e_03_shot_042570_042644',\n",
       " 's_04_e_04_shot_033559_033633',\n",
       " 's_02_e_08_shot_029126_029200',\n",
       " 's_05_e_11_shot_038358_038432',\n",
       " 's_03_e_28_shot_014306_014380',\n",
       " 's_03_e_16_shot_016247_016321',\n",
       " 's_04_e_02_shot_009867_009941',\n",
       " 's_01_e_25_shot_021219_021293',\n",
       " 's_05_e_07_shot_011922_011996',\n",
       " 's_03_e_12_shot_028627_028701',\n",
       " 's_05_e_16_shot_000150_000224',\n",
       " 's_04_e_08_shot_036364_036438',\n",
       " 's_01_e_08_shot_032424_032498',\n",
       " 's_06_e_11_shot_002042_002116',\n",
       " 's_02_e_20_shot_014234_014308',\n",
       " 's_02_e_13_shot_004231_004305',\n",
       " 's_01_e_12_shot_010186_010260',\n",
       " 's_04_e_16_shot_007007_007081',\n",
       " 's_05_e_06_shot_033803_033877',\n",
       " 's_03_e_26_shot_034947_035021',\n",
       " 's_05_e_17_shot_021285_021359',\n",
       " 's_03_e_18_shot_004741_004815',\n",
       " 's_06_e_13_shot_019809_019883',\n",
       " 's_02_e_17_shot_021549_021623',\n",
       " 's_01_e_24_shot_026979_027053',\n",
       " 's_04_e_25_shot_007766_007840',\n",
       " 's_01_e_20_shot_031141_031215',\n",
       " 's_06_e_10_shot_011429_011503',\n",
       " 's_01_e_20_shot_009680_009754',\n",
       " 's_02_e_27_shot_038201_038275',\n",
       " 's_03_e_11_shot_027665_027739',\n",
       " 's_06_e_04_shot_037752_037826',\n",
       " 's_04_e_08_shot_035013_035087',\n",
       " 's_05_e_24_shot_006754_006828',\n",
       " 's_01_e_17_shot_019899_019973',\n",
       " 's_05_e_20_shot_006919_006993',\n",
       " 's_02_e_26_shot_042251_042325',\n",
       " 's_06_e_11_shot_004631_004705',\n",
       " 's_04_e_09_shot_017875_017949',\n",
       " 's_02_e_14_shot_042128_042202',\n",
       " 's_02_e_31_shot_044372_044446',\n",
       " 's_03_e_09_shot_028994_029068',\n",
       " 's_02_e_01_shot_022847_022921',\n",
       " 's_03_e_05_shot_019393_019467',\n",
       " 's_06_e_20_shot_007716_007790',\n",
       " 's_06_e_18_shot_020119_020193',\n",
       " 's_05_e_02_shot_009040_009114',\n",
       " 's_03_e_04_shot_006939_007013',\n",
       " 's_03_e_28_shot_006953_007027',\n",
       " 's_02_e_13_shot_028708_028782',\n",
       " 's_02_e_31_shot_011077_011151',\n",
       " 's_05_e_01_shot_039444_039518',\n",
       " 's_05_e_07_shot_024781_024855',\n",
       " 's_01_e_13_shot_032725_032799',\n",
       " 's_02_e_27_shot_011086_011160',\n",
       " 's_03_e_21_shot_028446_028520',\n",
       " 's_02_e_28_shot_028926_029000',\n",
       " 's_02_e_13_shot_033308_033382',\n",
       " 's_05_e_05_shot_009225_009299',\n",
       " 's_05_e_07_shot_028409_028483',\n",
       " 's_04_e_04_shot_029335_029409',\n",
       " 's_04_e_13_shot_043601_043675',\n",
       " 's_02_e_10_shot_018951_019025',\n",
       " 's_04_e_10_shot_036300_036374',\n",
       " 's_04_e_17_shot_028587_028661',\n",
       " 's_05_e_17_shot_027005_027079',\n",
       " 's_01_e_25_shot_009724_009798',\n",
       " 's_02_e_24_shot_004785_004859',\n",
       " 's_03_e_18_shot_026895_026969',\n",
       " 's_04_e_10_shot_036122_036196',\n",
       " 's_03_e_09_shot_026620_026694',\n",
       " 's_06_e_11_shot_011352_011426',\n",
       " 's_06_e_02_shot_002112_002186',\n",
       " 's_05_e_05_shot_005115_005189',\n",
       " 's_02_e_13_shot_033097_033171',\n",
       " 's_02_e_25_shot_023547_023621',\n",
       " 's_04_e_16_shot_021395_021469',\n",
       " 's_01_e_11_shot_022660_022734',\n",
       " 's_04_e_20_shot_018326_018400',\n",
       " 's_05_e_16_shot_013430_013504',\n",
       " 's_05_e_14_shot_030422_030496',\n",
       " 's_01_e_18_shot_006937_007011',\n",
       " 's_05_e_20_shot_008433_008507',\n",
       " 's_01_e_13_shot_011908_011982',\n",
       " 's_05_e_24_shot_031064_031138',\n",
       " 's_02_e_18_shot_026229_026303',\n",
       " 's_04_e_15_shot_012969_013043',\n",
       " 's_02_e_16_shot_044095_044169',\n",
       " 's_03_e_21_shot_023881_023955',\n",
       " 's_03_e_10_shot_013018_013092',\n",
       " 's_05_e_22_shot_021327_021401',\n",
       " 's_06_e_12_shot_027331_027405',\n",
       " 's_03_e_21_shot_017248_017322',\n",
       " 's_04_e_10_shot_025111_025185',\n",
       " 's_01_e_15_shot_029709_029783',\n",
       " 's_04_e_03_shot_015233_015307',\n",
       " 's_02_e_19_shot_014158_014232',\n",
       " 's_02_e_19_shot_010756_010830',\n",
       " 's_01_e_20_shot_026689_026763',\n",
       " 's_04_e_26_shot_020808_020882',\n",
       " 's_06_e_20_shot_039310_039384',\n",
       " 's_01_e_06_shot_008943_009017',\n",
       " 's_02_e_16_shot_013599_013673',\n",
       " 's_02_e_26_shot_023043_023117',\n",
       " 's_06_e_01_shot_005993_006067',\n",
       " 's_06_e_21_shot_012477_012551',\n",
       " 's_04_e_18_shot_014307_014381',\n",
       " 's_03_e_11_shot_006798_006872',\n",
       " 's_03_e_21_shot_004807_004881',\n",
       " 's_02_e_04_shot_036747_036821',\n",
       " 's_04_e_11_shot_031757_031831',\n",
       " 's_04_e_10_shot_011966_012040',\n",
       " 's_05_e_13_shot_043536_043610',\n",
       " 's_03_e_02_shot_044330_044404',\n",
       " 's_02_e_01_shot_037081_037155',\n",
       " 's_03_e_02_shot_032153_032227',\n",
       " 's_01_e_06_shot_002794_002868',\n",
       " 's_02_e_05_shot_018260_018334',\n",
       " 's_03_e_03_shot_003949_004023',\n",
       " 's_02_e_15_shot_027564_027638',\n",
       " 's_01_e_06_shot_018656_018730',\n",
       " 's_02_e_13_shot_017607_017681',\n",
       " 's_02_e_06_shot_030004_030078',\n",
       " 's_03_e_01_shot_018832_018906',\n",
       " 's_01_e_28_shot_004664_004738',\n",
       " 's_01_e_28_shot_034628_034702',\n",
       " 's_04_e_05_shot_030316_030390',\n",
       " 's_01_e_06_shot_033792_033866',\n",
       " 's_05_e_11_shot_032549_032623',\n",
       " 's_02_e_17_shot_037691_037765',\n",
       " 's_02_e_14_shot_012901_012975',\n",
       " 's_02_e_13_shot_013537_013611',\n",
       " 's_06_e_25_shot_003699_003773',\n",
       " 's_06_e_14_shot_009735_009809',\n",
       " 's_05_e_03_shot_000588_000662',\n",
       " 's_02_e_08_shot_000504_000578',\n",
       " 's_04_e_08_shot_003219_003293',\n",
       " 's_02_e_13_shot_042581_042655',\n",
       " 's_03_e_05_shot_029426_029500',\n",
       " 's_01_e_28_shot_010175_010249',\n",
       " 's_06_e_03_shot_000913_000987',\n",
       " 's_06_e_21_shot_015565_015639',\n",
       " 's_06_e_12_shot_032483_032557',\n",
       " 's_01_e_14_shot_031335_031409',\n",
       " 's_03_e_25_shot_041334_041408',\n",
       " 's_05_e_07_shot_018238_018312',\n",
       " 's_04_e_11_shot_002385_002459',\n",
       " 's_06_e_25_shot_014430_014504',\n",
       " 's_04_e_05_shot_031603_031677',\n",
       " 's_04_e_06_shot_016267_016341',\n",
       " 's_05_e_08_shot_007601_007675',\n",
       " 's_03_e_03_shot_014463_014537',\n",
       " 's_05_e_17_shot_037862_037936',\n",
       " 's_03_e_11_shot_014443_014517',\n",
       " 's_02_e_02_shot_042427_042501',\n",
       " 's_03_e_22_shot_024299_024373',\n",
       " 's_04_e_15_shot_024112_024186',\n",
       " 's_05_e_25_shot_018612_018686',\n",
       " 's_02_e_29_shot_005731_005805',\n",
       " 's_01_e_09_shot_017192_017266',\n",
       " 's_03_e_06_shot_024794_024868',\n",
       " 's_02_e_12_shot_014751_014825',\n",
       " 's_04_e_20_shot_019063_019137',\n",
       " 's_06_e_18_shot_008765_008839',\n",
       " 's_03_e_06_shot_011845_011919',\n",
       " 's_03_e_24_shot_010505_010579',\n",
       " 's_01_e_24_shot_034769_034843',\n",
       " 's_02_e_17_shot_026431_026505',\n",
       " 's_01_e_06_shot_030855_030929',\n",
       " 's_05_e_26_shot_025793_025867',\n",
       " 's_01_e_15_shot_028356_028430',\n",
       " 's_02_e_31_shot_017418_017492',\n",
       " 's_04_e_03_shot_004103_004177',\n",
       " 's_05_e_23_shot_024090_024164',\n",
       " 's_03_e_25_shot_014751_014825',\n",
       " 's_06_e_07_shot_023415_023489',\n",
       " 's_03_e_18_shot_015851_015925',\n",
       " 's_01_e_07_shot_026585_026659',\n",
       " 's_02_e_30_shot_037332_037406',\n",
       " 's_06_e_10_shot_026649_026723',\n",
       " 's_01_e_25_shot_004224_004298',\n",
       " 's_06_e_11_shot_031218_031292',\n",
       " 's_04_e_03_shot_034463_034537',\n",
       " 's_03_e_06_shot_041094_041168',\n",
       " 's_01_e_11_shot_019272_019346',\n",
       " 's_05_e_06_shot_004068_004142',\n",
       " 's_02_e_18_shot_039915_039989',\n",
       " 's_01_e_15_shot_030316_030390',\n",
       " 's_01_e_23_shot_003124_003198',\n",
       " 's_03_e_28_shot_006653_006727',\n",
       " 's_06_e_09_shot_034782_034856',\n",
       " 's_01_e_16_shot_009093_009167',\n",
       " 's_04_e_02_shot_028589_028663',\n",
       " 's_06_e_18_shot_034045_034119',\n",
       " 's_06_e_02_shot_020856_020930',\n",
       " 's_06_e_21_shot_017638_017712',\n",
       " 's_06_e_17_shot_029489_029563',\n",
       " 's_02_e_01_shot_019745_019819',\n",
       " 's_01_e_02_shot_007729_007803',\n",
       " 's_04_e_23_shot_008426_008500',\n",
       " 's_06_e_16_shot_034309_034383',\n",
       " 's_02_e_08_shot_031727_031801',\n",
       " 's_05_e_06_shot_013392_013466',\n",
       " 's_01_e_10_shot_018412_018486',\n",
       " 's_04_e_09_shot_029665_029739',\n",
       " 's_04_e_19_shot_017853_017927',\n",
       " 's_01_e_02_shot_022627_022701',\n",
       " 's_03_e_22_shot_009072_009146',\n",
       " 's_02_e_07_shot_016784_016858',\n",
       " 's_04_e_26_shot_025067_025141',\n",
       " 's_05_e_23_shot_027619_027693',\n",
       " 's_02_e_30_shot_006213_006287',\n",
       " 's_03_e_07_shot_026873_026947',\n",
       " 's_01_e_06_shot_016014_016088',\n",
       " 's_03_e_16_shot_027102_027176',\n",
       " 's_04_e_13_shot_023494_023568',\n",
       " 's_01_e_14_shot_023298_023372',\n",
       " 's_05_e_11_shot_017336_017410',\n",
       " 's_06_e_24_shot_012958_013032',\n",
       " 's_06_e_06_shot_017831_017905',\n",
       " 's_04_e_07_shot_020216_020290',\n",
       " 's_03_e_25_shot_043593_043667',\n",
       " 's_03_e_01_shot_029459_029533',\n",
       " 's_02_e_27_shot_019642_019716',\n",
       " 's_01_e_27_shot_017490_017564',\n",
       " 's_06_e_18_shot_001947_002021',\n",
       " 's_02_e_01_shot_005782_005856',\n",
       " 's_02_e_20_shot_013783_013857',\n",
       " 's_01_e_06_shot_028721_028795',\n",
       " 's_01_e_19_shot_023050_023124',\n",
       " 's_02_e_19_shot_033038_033112',\n",
       " 's_01_e_02_shot_008151_008225',\n",
       " 's_02_e_03_shot_041380_041454',\n",
       " 's_06_e_02_shot_005751_005825',\n",
       " 's_04_e_11_shot_015376_015450',\n",
       " 's_03_e_18_shot_017647_017721',\n",
       " 's_03_e_14_shot_025707_025781',\n",
       " 's_04_e_13_shot_042016_042090',\n",
       " 's_02_e_22_shot_011718_011792',\n",
       " 's_02_e_08_shot_012419_012493',\n",
       " 's_03_e_06_shot_029403_029477',\n",
       " 's_01_e_10_shot_008492_008566',\n",
       " 's_02_e_31_shot_016481_016555',\n",
       " 's_02_e_12_shot_016804_016878',\n",
       " 's_04_e_14_shot_029777_029851',\n",
       " 's_02_e_19_shot_007898_007972',\n",
       " 's_03_e_09_shot_024673_024747',\n",
       " 's_03_e_03_shot_008767_008841',\n",
       " 's_05_e_07_shot_021965_022039',\n",
       " 's_01_e_24_shot_036028_036102',\n",
       " 's_03_e_21_shot_003518_003592',\n",
       " 's_06_e_14_shot_019963_020037',\n",
       " 's_01_e_11_shot_021527_021601',\n",
       " 's_04_e_08_shot_007359_007433',\n",
       " 's_01_e_24_shot_034318_034392',\n",
       " 's_01_e_16_shot_002508_002582',\n",
       " 's_01_e_26_shot_025806_025880',\n",
       " 's_02_e_10_shot_017259_017333',\n",
       " 's_02_e_27_shot_018069_018143',\n",
       " 's_02_e_32_shot_007566_007640',\n",
       " 's_01_e_16_shot_006457_006531',\n",
       " 's_04_e_20_shot_034043_034117',\n",
       " 's_05_e_01_shot_023408_023482',\n",
       " 's_06_e_14_shot_005652_005726',\n",
       " 's_03_e_08_shot_033130_033204',\n",
       " 's_04_e_17_shot_022383_022457',\n",
       " 's_01_e_28_shot_016346_016420',\n",
       " 's_03_e_08_shot_016313_016387',\n",
       " 's_05_e_23_shot_013121_013195',\n",
       " 's_05_e_19_shot_004895_004969',\n",
       " 's_02_e_01_shot_038677_038751',\n",
       " 's_02_e_16_shot_027291_027365',\n",
       " 's_03_e_08_shot_023793_023867',\n",
       " 's_04_e_06_shot_007986_008060',\n",
       " 's_01_e_14_shot_003410_003484',\n",
       " 's_05_e_10_shot_019259_019333',\n",
       " 's_06_e_25_shot_006941_007015',\n",
       " 's_06_e_21_shot_026818_026892',\n",
       " 's_01_e_17_shot_029278_029352',\n",
       " 's_05_e_02_shot_025069_025143',\n",
       " 's_06_e_19_shot_029960_030034',\n",
       " 's_04_e_25_shot_028677_028751',\n",
       " 's_01_e_16_shot_007476_007550',\n",
       " 's_06_e_23_shot_012672_012746',\n",
       " 's_03_e_07_shot_034989_035063',\n",
       " 's_05_e_03_shot_000044_000118',\n",
       " 's_06_e_02_shot_023848_023922',\n",
       " 's_04_e_10_shot_024057_024131',\n",
       " 's_05_e_10_shot_040326_040400',\n",
       " 's_04_e_01_shot_017544_017618',\n",
       " 's_06_e_21_shot_024662_024736',\n",
       " 's_02_e_04_shot_040656_040730',\n",
       " 's_05_e_02_shot_033473_033547',\n",
       " 's_03_e_07_shot_021224_021298',\n",
       " 's_04_e_15_shot_011429_011503',\n",
       " 's_05_e_01_shot_009095_009169',\n",
       " 's_04_e_08_shot_036439_036513',\n",
       " 's_02_e_19_shot_029975_030049',\n",
       " 's_01_e_20_shot_009940_010014',\n",
       " 's_02_e_08_shot_043539_043613',\n",
       " 's_04_e_18_shot_029784_029858',\n",
       " 's_03_e_10_shot_009702_009776',\n",
       " 's_04_e_21_shot_010868_010942',\n",
       " 's_03_e_19_shot_036157_036231',\n",
       " 's_02_e_17_shot_044625_044699',\n",
       " 's_04_e_14_shot_006785_006859',\n",
       " 's_04_e_01_shot_012450_012524',\n",
       " 's_03_e_21_shot_022295_022369',\n",
       " 's_03_e_08_shot_017600_017674',\n",
       " 's_05_e_25_shot_007636_007710',\n",
       " 's_01_e_09_shot_008613_008687',\n",
       " 's_06_e_02_shot_035462_035536',\n",
       " 's_06_e_03_shot_034078_034152',\n",
       " 's_03_e_06_shot_021624_021698',\n",
       " 's_04_e_06_shot_016720_016794',\n",
       " 's_06_e_02_shot_020005_020079',\n",
       " 's_06_e_20_shot_003716_003790',\n",
       " 's_01_e_19_shot_011088_011162',\n",
       " 's_02_e_05_shot_023666_023740',\n",
       " 's_05_e_11_shot_025432_025506',\n",
       " 's_02_e_19_shot_030768_030842',\n",
       " 's_01_e_16_shot_017644_017718',\n",
       " 's_01_e_07_shot_002935_003009',\n",
       " 's_06_e_02_shot_020592_020666',\n",
       " 's_05_e_13_shot_005962_006036',\n",
       " 's_01_e_16_shot_011220_011294',\n",
       " 's_05_e_20_shot_033044_033118',\n",
       " 's_01_e_12_shot_012628_012702',\n",
       " 's_04_e_09_shot_011605_011679',\n",
       " 's_02_e_15_shot_004103_004177',\n",
       " 's_01_e_09_shot_021479_021553',\n",
       " 's_01_e_15_shot_016212_016286',\n",
       " 's_03_e_01_shot_012375_012449',\n",
       " 's_02_e_13_shot_026961_027035',\n",
       " 's_04_e_16_shot_017257_017331',\n",
       " 's_03_e_07_shot_026739_026813',\n",
       " 's_06_e_14_shot_023044_023118',\n",
       " 's_02_e_27_shot_037994_038068',\n",
       " 's_01_e_27_shot_006513_006587',\n",
       " 's_03_e_10_shot_012868_012942',\n",
       " 's_01_e_07_shot_013504_013578',\n",
       " 's_02_e_21_shot_026345_026419',\n",
       " 's_02_e_10_shot_025135_025209',\n",
       " 's_02_e_19_shot_041877_041951',\n",
       " 's_03_e_22_shot_040511_040585',\n",
       " 's_01_e_08_shot_034496_034570',\n",
       " 's_02_e_09_shot_006831_006905',\n",
       " 's_03_e_07_shot_018249_018323',\n",
       " 's_02_e_13_shot_019798_019872',\n",
       " 's_06_e_22_shot_033737_033811',\n",
       " 's_03_e_17_shot_003958_004032',\n",
       " 's_05_e_04_shot_026873_026947',\n",
       " 's_06_e_04_shot_032226_032300',\n",
       " 's_02_e_14_shot_044795_044869',\n",
       " 's_02_e_13_shot_013684_013758',\n",
       " 's_02_e_12_shot_026983_027057',\n",
       " 's_01_e_04_shot_002431_002505',\n",
       " 's_03_e_14_shot_000495_000569',\n",
       " 's_02_e_19_shot_008822_008896',\n",
       " 's_01_e_16_shot_023144_023218',\n",
       " 's_06_e_06_shot_008206_008280',\n",
       " 's_01_e_21_shot_009513_009587',\n",
       " 's_06_e_11_shot_006081_006155',\n",
       " 's_06_e_21_shot_016936_017010',\n",
       " 's_04_e_26_shot_008863_008937',\n",
       " 's_04_e_12_shot_025091_025165',\n",
       " 's_04_e_07_shot_007478_007552',\n",
       " 's_03_e_13_shot_032063_032137',\n",
       " 's_02_e_23_shot_017427_017501',\n",
       " 's_02_e_28_shot_014751_014825',\n",
       " 's_06_e_09_shot_005643_005717',\n",
       " 's_01_e_04_shot_011242_011316',\n",
       " 's_04_e_20_shot_004433_004507',\n",
       " 's_02_e_19_shot_018425_018499',\n",
       " 's_06_e_24_shot_011528_011602',\n",
       " 's_02_e_23_shot_000482_000556',\n",
       " 's_05_e_26_shot_000130_000204',\n",
       " 's_01_e_14_shot_027751_027825',\n",
       " 's_02_e_08_shot_015724_015798',\n",
       " 's_01_e_19_shot_010611_010685',\n",
       " 's_05_e_25_shot_014861_014935',\n",
       " 's_01_e_15_shot_008690_008764',\n",
       " 's_04_e_26_shot_033493_033567',\n",
       " 's_05_e_18_shot_003091_003165',\n",
       " 's_06_e_24_shot_013183_013257',\n",
       " 's_02_e_09_shot_034672_034746',\n",
       " 's_02_e_01_shot_007370_007444',\n",
       " 's_03_e_01_shot_021160_021234',\n",
       " 's_05_e_13_shot_014725_014799',\n",
       " 's_04_e_14_shot_016203_016277',\n",
       " 's_04_e_15_shot_019976_020050',\n",
       " 's_02_e_18_shot_004653_004727',\n",
       " 's_02_e_08_shot_022660_022734',\n",
       " 's_04_e_05_shot_006160_006234',\n",
       " 's_03_e_19_shot_003153_003227',\n",
       " 's_03_e_21_shot_002937_003011',\n",
       " 's_04_e_25_shot_005555_005629',\n",
       " 's_02_e_22_shot_010149_010223',\n",
       " 's_02_e_16_shot_036479_036553',\n",
       " 's_05_e_09_shot_033693_033767',\n",
       " 's_03_e_28_shot_009621_009695',\n",
       " 's_03_e_07_shot_010230_010304',\n",
       " 's_05_e_03_shot_027038_027112',\n",
       " 's_06_e_23_shot_017838_017912',\n",
       " 's_01_e_09_shot_005738_005812',\n",
       " 's_05_e_02_shot_031394_031468',\n",
       " 's_06_e_20_shot_026807_026881',\n",
       " 's_05_e_01_shot_008369_008443',\n",
       " 's_02_e_03_shot_032404_032478',\n",
       " 's_04_e_08_shot_022594_022668',\n",
       " 's_02_e_13_shot_019039_019113',\n",
       " 's_05_e_17_shot_003252_003326',\n",
       " 's_01_e_07_shot_019963_020037',\n",
       " 's_05_e_03_shot_023048_023122',\n",
       " 's_03_e_25_shot_031130_031204',\n",
       " 's_05_e_13_shot_031317_031391',\n",
       " 's_02_e_10_shot_012496_012570',\n",
       " 's_04_e_22_shot_013803_013877',\n",
       " 's_02_e_31_shot_038819_038893',\n",
       " 's_03_e_21_shot_030470_030544',\n",
       " 's_02_e_26_shot_026431_026505',\n",
       " 's_04_e_06_shot_022678_022752',\n",
       " 's_02_e_16_shot_009812_009886',\n",
       " 's_05_e_05_shot_031438_031512',\n",
       " 's_03_e_21_shot_008855_008929',\n",
       " 's_02_e_20_shot_022748_022822',\n",
       " 's_05_e_01_shot_023023_023097',\n",
       " 's_06_e_07_shot_018225_018299',\n",
       " 's_06_e_04_shot_006908_006982',\n",
       " 's_01_e_19_shot_028455_028529',\n",
       " 's_02_e_04_shot_024145_024219',\n",
       " 's_06_e_13_shot_000275_000349',\n",
       " 's_02_e_22_shot_031214_031288',\n",
       " 's_02_e_09_shot_015878_015952',\n",
       " 's_01_e_20_shot_019754_019828',\n",
       " 's_03_e_07_shot_035139_035213',\n",
       " 's_01_e_12_shot_013121_013195',\n",
       " 's_04_e_15_shot_019536_019610',\n",
       " 's_01_e_03_shot_013090_013164',\n",
       " 's_01_e_20_shot_036263_036337',\n",
       " 's_03_e_05_shot_000726_000800',\n",
       " 's_01_e_10_shot_007223_007297',\n",
       " 's_04_e_13_shot_019017_019091',\n",
       " 's_06_e_17_shot_023582_023656',\n",
       " 's_03_e_10_shot_003111_003185',\n",
       " 's_01_e_27_shot_018243_018317',\n",
       " 's_04_e_03_shot_000143_000217',\n",
       " 's_01_e_20_shot_019558_019632',\n",
       " 's_01_e_13_shot_007216_007290',\n",
       " 's_05_e_15_shot_008547_008621',\n",
       " 's_03_e_09_shot_026882_026956',\n",
       " 's_02_e_01_shot_032725_032799',\n",
       " 's_01_e_23_shot_032413_032487',\n",
       " 's_04_e_25_shot_006600_006674',\n",
       " 's_03_e_28_shot_010655_010729',\n",
       " 's_06_e_09_shot_013308_013382',\n",
       " 's_04_e_18_shot_029859_029933',\n",
       " 's_01_e_07_shot_022726_022800',\n",
       " 's_01_e_11_shot_009183_009257',\n",
       " 's_04_e_01_shot_003267_003341',\n",
       " 's_04_e_13_shot_037100_037174',\n",
       " 's_03_e_01_shot_022093_022167',\n",
       " 's_02_e_20_shot_024979_025053',\n",
       " 's_04_e_10_shot_026752_026826',\n",
       " 's_02_e_03_shot_009656_009730',\n",
       " 's_02_e_31_shot_035449_035523',\n",
       " 's_05_e_14_shot_018555_018629',\n",
       " 's_02_e_01_shot_019268_019342',\n",
       " 's_03_e_21_shot_014201_014275',\n",
       " 's_03_e_01_shot_017149_017223',\n",
       " 's_05_e_04_shot_033572_033646',\n",
       " 's_01_e_06_shot_025883_025957',\n",
       " 's_01_e_01_shot_017136_017210',\n",
       " 's_05_e_09_shot_023837_023911',\n",
       " 's_05_e_09_shot_009474_009548',\n",
       " 's_06_e_11_shot_020348_020422',\n",
       " 's_03_e_14_shot_016016_016090',\n",
       " 's_06_e_20_shot_029711_029785',\n",
       " 's_03_e_10_shot_017737_017811',\n",
       " 's_01_e_07_shot_018293_018367',\n",
       " 's_05_e_09_shot_041787_041861',\n",
       " 's_03_e_22_shot_033473_033547',\n",
       " 's_03_e_03_shot_026081_026155',\n",
       " 's_03_e_17_shot_037554_037628',\n",
       " 's_05_e_01_shot_039226_039300',\n",
       " 's_06_e_24_shot_025146_025220',\n",
       " 's_02_e_16_shot_033108_033182',\n",
       " 's_02_e_27_shot_021483_021557',\n",
       " 's_03_e_20_shot_022286_022360',\n",
       " 's_06_e_19_shot_015836_015910',\n",
       " 's_01_e_08_shot_029225_029299',\n",
       " 's_02_e_30_shot_042546_042620',\n",
       " 's_03_e_13_shot_035068_035142',\n",
       " 's_03_e_15_shot_026306_026380',\n",
       " 's_02_e_24_shot_003637_003711',\n",
       " 's_03_e_28_shot_007841_007915',\n",
       " 's_03_e_07_shot_027549_027623',\n",
       " 's_05_e_09_shot_014113_014187',\n",
       " 's_04_e_03_shot_016841_016915',\n",
       " 's_02_e_13_shot_029413_029487',\n",
       " 's_02_e_23_shot_038775_038849',\n",
       " 's_02_e_09_shot_026136_026210',\n",
       " 's_01_e_15_shot_023085_023159',\n",
       " 's_02_e_26_shot_043615_043689',\n",
       " 's_06_e_07_shot_029346_029420',\n",
       " 's_01_e_19_shot_029172_029246',\n",
       " 's_06_e_09_shot_034958_035032',\n",
       " 's_01_e_27_shot_008965_009039',\n",
       " 's_06_e_15_shot_012567_012641',\n",
       " 's_02_e_11_shot_000427_000501',\n",
       " 's_03_e_03_shot_027258_027332',\n",
       " 's_01_e_12_shot_004343_004417',\n",
       " 's_02_e_20_shot_026187_026261',\n",
       " 's_03_e_13_shot_022671_022745',\n",
       " 's_02_e_18_shot_045274_045348',\n",
       " 's_06_e_14_shot_038034_038108',\n",
       " 's_01_e_10_shot_003074_003148',\n",
       " 's_02_e_04_shot_039776_039850',\n",
       " 's_02_e_18_shot_014133_014207',\n",
       " 's_02_e_26_shot_030116_030190',\n",
       " 's_03_e_19_shot_040722_040796',\n",
       " 's_04_e_18_shot_010087_010161',\n",
       " 's_01_e_19_shot_014399_014473',\n",
       " 's_05_e_16_shot_028611_028685',\n",
       " 's_01_e_06_shot_014606_014680',\n",
       " 's_03_e_20_shot_024165_024239',\n",
       " 's_01_e_13_shot_013959_014033',\n",
       " 's_05_e_07_shot_000231_000305',\n",
       " 's_06_e_20_shot_004130_004204',\n",
       " 's_02_e_07_shot_013068_013142',\n",
       " 's_04_e_16_shot_033693_033767',\n",
       " 's_02_e_12_shot_043833_043907',\n",
       " 's_01_e_26_shot_033638_033712',\n",
       " 's_04_e_16_shot_042075_042149',\n",
       " 's_03_e_03_shot_018216_018290',\n",
       " 's_05_e_07_shot_031953_032027',\n",
       " 's_02_e_19_shot_018051_018125',\n",
       " 's_06_e_09_shot_020975_021049',\n",
       " 's_03_e_27_shot_014003_014077',\n",
       " 's_02_e_21_shot_024216_024290',\n",
       " 's_04_e_07_shot_026961_027035',\n",
       " 's_06_e_12_shot_019776_019850',\n",
       " 's_03_e_25_shot_013992_014066',\n",
       " 's_06_e_06_shot_037004_037078',\n",
       " 's_04_e_21_shot_018117_018191',\n",
       " 's_02_e_27_shot_009652_009726',\n",
       " 's_02_e_10_shot_033878_033952',\n",
       " 's_03_e_21_shot_003630_003704',\n",
       " 's_03_e_07_shot_002695_002769',\n",
       " 's_04_e_16_shot_024860_024934',\n",
       " 's_03_e_23_shot_017675_017749',\n",
       " 's_02_e_31_shot_040271_040345',\n",
       " 's_03_e_17_shot_006772_006846',\n",
       " 's_02_e_02_shot_026187_026261',\n",
       " 's_06_e_06_shot_000922_000996',\n",
       " 's_01_e_19_shot_029632_029706',\n",
       " 's_06_e_24_shot_016619_016693',\n",
       " 's_01_e_06_shot_007458_007532',\n",
       " 's_05_e_03_shot_035827_035901',\n",
       " 's_02_e_16_shot_018225_018299',\n",
       " 's_03_e_08_shot_007137_007211',\n",
       " 's_02_e_18_shot_011124_011198',\n",
       " 's_01_e_21_shot_027775_027849',\n",
       " 's_02_e_04_shot_006985_007059',\n",
       " 's_02_e_26_shot_008677_008751',\n",
       " 's_04_e_02_shot_026895_026969',\n",
       " 's_04_e_04_shot_010032_010106',\n",
       " 's_06_e_22_shot_012868_012942',\n",
       " 's_02_e_15_shot_014738_014812',\n",
       " 's_03_e_28_shot_028246_028320',\n",
       " 's_04_e_16_shot_031804_031878',\n",
       " 's_03_e_26_shot_007611_007685',\n",
       " 's_04_e_10_shot_032054_032128',\n",
       " 's_04_e_24_shot_009425_009499',\n",
       " 's_04_e_08_shot_005725_005799',\n",
       " 's_06_e_17_shot_027918_027992',\n",
       " 's_02_e_06_shot_019630_019704',\n",
       " 's_04_e_16_shot_034522_034596',\n",
       " 's_01_e_17_shot_007115_007189',\n",
       " 's_01_e_25_shot_026104_026178',\n",
       " 's_01_e_08_shot_005852_005926',\n",
       " 's_01_e_24_shot_006631_006705',\n",
       " 's_03_e_05_shot_016357_016431',\n",
       " 's_05_e_06_shot_008611_008685',\n",
       " 's_03_e_25_shot_027597_027671',\n",
       " 's_06_e_03_shot_038236_038310',\n",
       " 's_02_e_25_shot_029459_029533',\n",
       " 's_02_e_18_shot_025804_025878',\n",
       " 's_04_e_02_shot_006840_006914',\n",
       " 's_01_e_03_shot_032963_033037',\n",
       " 's_03_e_09_shot_031262_031336',\n",
       " 's_02_e_27_shot_008807_008881',\n",
       " 's_06_e_22_shot_023877_023951',\n",
       " 's_01_e_12_shot_005008_005082',\n",
       " 's_04_e_12_shot_008611_008685',\n",
       " 's_06_e_12_shot_030281_030355',\n",
       " 's_04_e_03_shot_014212_014286',\n",
       " 's_02_e_01_shot_039105_039179',\n",
       " 's_06_e_03_shot_024242_024316',\n",
       " 's_04_e_06_shot_032138_032212',\n",
       " 's_05_e_13_shot_033924_033998',\n",
       " 's_04_e_04_shot_031522_031596',\n",
       " 's_03_e_28_shot_035819_035893',\n",
       " 's_05_e_17_shot_032736_032810',\n",
       " 's_03_e_13_shot_023320_023394',\n",
       " 's_03_e_18_shot_004211_004285',\n",
       " 's_04_e_19_shot_010987_011061',\n",
       " 's_06_e_11_shot_042999_043073',\n",
       " 's_02_e_26_shot_018414_018488',\n",
       " 's_02_e_16_shot_030998_031072',\n",
       " 's_06_e_08_shot_026167_026241',\n",
       " 's_03_e_12_shot_033009_033083',\n",
       " 's_03_e_17_shot_006622_006696',\n",
       " 's_04_e_06_shot_028961_029035',\n",
       " 's_03_e_14_shot_023725_023799',\n",
       " 's_06_e_22_shot_019460_019534',\n",
       " 's_01_e_12_shot_009372_009446',\n",
       " 's_05_e_07_shot_004904_004978',\n",
       " 's_02_e_12_shot_043382_043456',\n",
       " 's_04_e_21_shot_019965_020039',\n",
       " 's_01_e_16_shot_005047_005121',\n",
       " 's_02_e_18_shot_043626_043700',\n",
       " 's_05_e_02_shot_001727_001801',\n",
       " 's_05_e_17_shot_034661_034735',\n",
       " 's_04_e_07_shot_024024_024098',\n",
       " 's_03_e_20_shot_007964_008038',\n",
       " 's_03_e_21_shot_006897_006971',\n",
       " 's_01_e_17_shot_021719_021793',\n",
       " 's_04_e_16_shot_014960_015034',\n",
       " 's_05_e_04_shot_023661_023735',\n",
       " 's_01_e_13_shot_030589_030663',\n",
       " 's_02_e_10_shot_007135_007209',\n",
       " 's_06_e_08_shot_036674_036748',\n",
       " 's_02_e_27_shot_019316_019390',\n",
       " 's_02_e_09_shot_008734_008808',\n",
       " 's_05_e_06_shot_009922_009996',\n",
       " 's_03_e_06_shot_033286_033360',\n",
       " 's_02_e_14_shot_041061_041135',\n",
       " 's_02_e_19_shot_016232_016306',\n",
       " 's_04_e_14_shot_011515_011589',\n",
       " 's_03_e_01_shot_031955_032029',\n",
       " 's_06_e_09_shot_021813_021887',\n",
       " 's_04_e_08_shot_035321_035395',\n",
       " 's_04_e_14_shot_027060_027134',\n",
       " 's_02_e_03_shot_027676_027750',\n",
       " 's_06_e_04_shot_025441_025515',\n",
       " 's_03_e_26_shot_032613_032687',\n",
       " 's_03_e_25_shot_041783_041857',\n",
       " 's_01_e_07_shot_014628_014702',\n",
       " 's_02_e_29_shot_015301_015375',\n",
       " 's_01_e_03_shot_028367_028441',\n",
       " 's_02_e_14_shot_041217_041291',\n",
       " 's_02_e_14_shot_015453_015527',\n",
       " 's_02_e_13_shot_010943_011017',\n",
       " 's_01_e_23_shot_034903_034977',\n",
       " 's_03_e_03_shot_008308_008382',\n",
       " 's_05_e_13_shot_004521_004595',\n",
       " 's_04_e_14_shot_010096_010170',\n",
       " 's_02_e_15_shot_044502_044576',\n",
       " 's_03_e_27_shot_017754_017828',\n",
       " 's_05_e_17_shot_035134_035208',\n",
       " 's_01_e_07_shot_020240_020314',\n",
       " 's_02_e_22_shot_032638_032712',\n",
       " 's_01_e_09_shot_012208_012282',\n",
       " 's_01_e_01_shot_022462_022536',\n",
       " 's_06_e_21_shot_008150_008224',\n",
       " 's_04_e_16_shot_024156_024230',\n",
       " 's_03_e_25_shot_010142_010216',\n",
       " 's_04_e_26_shot_016947_017021',\n",
       " 's_02_e_20_shot_010153_010227',\n",
       " 's_02_e_19_shot_005115_005189',\n",
       " 's_02_e_25_shot_035244_035318',\n",
       " 's_02_e_10_shot_028809_028883',\n",
       " 's_06_e_14_shot_040588_040662',\n",
       " 's_05_e_20_shot_014824_014898',\n",
       " 's_02_e_06_shot_042038_042112',\n",
       " 's_06_e_12_shot_027619_027693',\n",
       " 's_05_e_20_shot_009757_009831',\n",
       " 's_01_e_04_shot_010252_010326',\n",
       " 's_02_e_12_shot_027115_027189',\n",
       " 's_02_e_20_shot_034738_034812',\n",
       " 's_03_e_02_shot_031689_031763',\n",
       " 's_02_e_15_shot_005142_005216',\n",
       " 's_02_e_32_shot_016980_017054',\n",
       " 's_02_e_14_shot_038034_038108',\n",
       " 's_06_e_25_shot_031953_032027',\n",
       " 's_02_e_03_shot_000594_000668',\n",
       " 's_04_e_14_shot_006710_006784',\n",
       " 's_01_e_15_shot_029040_029114',\n",
       " 's_05_e_22_shot_008899_008973',\n",
       " 's_03_e_02_shot_020361_020435',\n",
       " 's_05_e_03_shot_006270_006344',\n",
       " 's_05_e_01_shot_015818_015892',\n",
       " 's_04_e_21_shot_007502_007576',\n",
       " 's_02_e_12_shot_007733_007807',\n",
       " 's_06_e_22_shot_009636_009710',\n",
       " 's_01_e_16_shot_013937_014011',\n",
       " 's_05_e_07_shot_007183_007257',\n",
       " 's_03_e_21_shot_024737_024811',\n",
       " 's_04_e_13_shot_031478_031552',\n",
       " 's_03_e_28_shot_038731_038805',\n",
       " 's_03_e_01_shot_009084_009158',\n",
       " 's_06_e_21_shot_017028_017102',\n",
       " 's_02_e_15_shot_008745_008819',\n",
       " 's_02_e_19_shot_004891_004965',\n",
       " 's_02_e_10_shot_030180_030254',\n",
       " 's_03_e_07_shot_003674_003748',\n",
       " 's_03_e_24_shot_033163_033237',\n",
       " 's_02_e_23_shot_017004_017078',\n",
       " 's_04_e_01_shot_008426_008500',\n",
       " 's_05_e_14_shot_030644_030718',\n",
       " 's_01_e_15_shot_005445_005519',\n",
       " 's_02_e_15_shot_038258_038332',\n",
       " 's_01_e_26_shot_025881_025955',\n",
       " 's_02_e_10_shot_021140_021214',\n",
       " 's_05_e_03_shot_025736_025810',\n",
       " 's_01_e_27_shot_027412_027486',\n",
       " 's_01_e_24_shot_010039_010113',\n",
       " 's_01_e_18_shot_025958_026032',\n",
       " 's_04_e_11_shot_018280_018354',\n",
       " 's_03_e_03_shot_009977_010051',\n",
       " 's_02_e_15_shot_003685_003759',\n",
       " 's_05_e_02_shot_006013_006087',\n",
       " 's_03_e_17_shot_026640_026714',\n",
       " 's_05_e_02_shot_043417_043491',\n",
       " 's_02_e_13_shot_037003_037077',\n",
       " 's_02_e_06_shot_030501_030575',\n",
       " 's_06_e_03_shot_009623_009697',\n",
       " 's_01_e_21_shot_034683_034757',\n",
       " 's_05_e_09_shot_034221_034295',\n",
       " 's_05_e_07_shot_027014_027088',\n",
       " 's_06_e_09_shot_026554_026628',\n",
       " 's_06_e_03_shot_017677_017751',\n",
       " 's_01_e_01_shot_013165_013239',\n",
       " 's_01_e_16_shot_009168_009242',\n",
       " 's_03_e_03_shot_017431_017505',\n",
       " 's_03_e_18_shot_022777_022851',\n",
       " 's_01_e_01_shot_025373_025447',\n",
       " 's_06_e_15_shot_000528_000602',\n",
       " 's_05_e_09_shot_024893_024967',\n",
       " 's_04_e_19_shot_039818_039892',\n",
       " 's_05_e_02_shot_012056_012130',\n",
       " 's_01_e_18_shot_034232_034306',\n",
       " 's_04_e_16_shot_021560_021634',\n",
       " 's_03_e_21_shot_015224_015298',\n",
       " 's_06_e_14_shot_010877_010951',\n",
       " 's_06_e_15_shot_024684_024758',\n",
       " 's_02_e_16_shot_012967_013041',\n",
       " 's_05_e_25_shot_010118_010192',\n",
       " 's_02_e_18_shot_019642_019716',\n",
       " 's_02_e_21_shot_016703_016777',\n",
       " 's_03_e_26_shot_030867_030941',\n",
       " 's_02_e_14_shot_037290_037364',\n",
       " 's_03_e_25_shot_016784_016858',\n",
       " 's_04_e_24_shot_030501_030575',\n",
       " 's_02_e_30_shot_033865_033939',\n",
       " 's_06_e_18_shot_029872_029946',\n",
       " 's_03_e_23_shot_022128_022202',\n",
       " 's_06_e_04_shot_009317_009391',\n",
       " 's_02_e_13_shot_008426_008500',\n",
       " 's_03_e_18_shot_021094_021168',\n",
       " 's_04_e_16_shot_018513_018587',\n",
       " 's_02_e_14_shot_007843_007917',\n",
       " 's_03_e_16_shot_015092_015166',\n",
       " 's_05_e_08_shot_041050_041124',\n",
       " 's_01_e_18_shot_003344_003418',\n",
       " 's_03_e_13_shot_026255_026329',\n",
       " 's_06_e_11_shot_008030_008104',\n",
       " 's_01_e_04_shot_000066_000140',\n",
       " 's_05_e_02_shot_025333_025407',\n",
       " 's_03_e_26_shot_008321_008395',\n",
       " 's_04_e_16_shot_028466_028540',\n",
       " 's_02_e_15_shot_005467_005541',\n",
       " 's_02_e_05_shot_020350_020424',\n",
       " 's_02_e_30_shot_036300_036374',\n",
       " 's_02_e_15_shot_006359_006433',\n",
       " 's_04_e_13_shot_034507_034581',\n",
       " 's_03_e_02_shot_036121_036195',\n",
       " 's_01_e_10_shot_029819_029893',\n",
       " 's_05_e_10_shot_028457_028531',\n",
       " 's_05_e_24_shot_010890_010964',\n",
       " 's_03_e_07_shot_006864_006938',\n",
       " 's_04_e_15_shot_036848_036922',\n",
       " 's_01_e_24_shot_015378_015452',\n",
       " 's_05_e_10_shot_025441_025515',\n",
       " 's_05_e_01_shot_033440_033514',\n",
       " 's_02_e_29_shot_006556_006630',\n",
       " 's_05_e_11_shot_025582_025656',\n",
       " 's_01_e_20_shot_014619_014693',\n",
       " 's_04_e_10_shot_007848_007922',\n",
       " 's_03_e_27_shot_008382_008456',\n",
       " 's_02_e_03_shot_021816_021890',\n",
       " 's_05_e_13_shot_013948_014022',\n",
       " 's_06_e_10_shot_015627_015701',\n",
       " 's_05_e_25_shot_017930_018004',\n",
       " 's_01_e_11_shot_000814_000888',\n",
       " 's_02_e_15_shot_010357_010431',\n",
       " 's_05_e_08_shot_001153_001227',\n",
       " 's_01_e_09_shot_025100_025174',\n",
       " 's_01_e_14_shot_022275_022349',\n",
       " 's_02_e_19_shot_024810_024884',\n",
       " 's_06_e_03_shot_017149_017223',\n",
       " 's_03_e_26_shot_008171_008245',\n",
       " 's_06_e_09_shot_014355_014429',\n",
       " 's_03_e_14_shot_010811_010885',\n",
       " 's_02_e_23_shot_042036_042110',\n",
       " 's_03_e_28_shot_008807_008881',\n",
       " 's_01_e_01_shot_030182_030256',\n",
       " 's_06_e_21_shot_024805_024879',\n",
       " 's_02_e_01_shot_044672_044746',\n",
       " 's_02_e_19_shot_037561_037635',\n",
       " 's_01_e_22_shot_030996_031070',\n",
       " 's_06_e_05_shot_005584_005658',\n",
       " 's_03_e_03_shot_021945_022019',\n",
       " 's_03_e_22_shot_043701_043775',\n",
       " 's_02_e_13_shot_036553_036627',\n",
       " 's_02_e_16_shot_005604_005678',\n",
       " 's_04_e_10_shot_021923_021997',\n",
       " 's_01_e_08_shot_025949_026023',\n",
       " 's_02_e_18_shot_033553_033627',\n",
       " 's_06_e_03_shot_019226_019300',\n",
       " 's_05_e_18_shot_017796_017870',\n",
       " 's_04_e_14_shot_034536_034610',\n",
       " 's_03_e_16_shot_024618_024692',\n",
       " 's_06_e_13_shot_004653_004727',\n",
       " 's_01_e_24_shot_009114_009188',\n",
       " 's_02_e_18_shot_042619_042693',\n",
       " 's_04_e_07_shot_032692_032766',\n",
       " 's_01_e_24_shot_008889_008963',\n",
       " 's_01_e_23_shot_019204_019278',\n",
       " 's_02_e_27_shot_010549_010623',\n",
       " 's_01_e_13_shot_000341_000415',\n",
       " 's_02_e_15_shot_007848_007922',\n",
       " 's_06_e_17_shot_040403_040477',\n",
       " 's_02_e_20_shot_013497_013571',\n",
       " 's_05_e_20_shot_018436_018510',\n",
       " 's_02_e_25_shot_033502_033576',\n",
       " 's_04_e_09_shot_027718_027792',\n",
       " 's_01_e_20_shot_036113_036187',\n",
       " 's_03_e_04_shot_011744_011818',\n",
       " 's_02_e_23_shot_019926_020000',\n",
       " 's_01_e_22_shot_010444_010518',\n",
       " 's_06_e_06_shot_035583_035657',\n",
       " 's_02_e_19_shot_006917_006991',\n",
       " 's_04_e_16_shot_028391_028465',\n",
       " 's_04_e_07_shot_027269_027343',\n",
       " 's_01_e_07_shot_011649_011723',\n",
       " 's_06_e_19_shot_025575_025649',\n",
       " 's_02_e_10_shot_037224_037298',\n",
       " 's_06_e_11_shot_035915_035989',\n",
       " 's_03_e_15_shot_004994_005068',\n",
       " 's_05_e_25_shot_016852_016926',\n",
       " 's_03_e_18_shot_029942_030016',\n",
       " 's_01_e_01_shot_009581_009655',\n",
       " 's_05_e_10_shot_018337_018411',\n",
       " 's_05_e_25_shot_010043_010117',\n",
       " 's_04_e_09_shot_000207_000281',\n",
       " 's_02_e_10_shot_032626_032700',\n",
       " 's_05_e_06_shot_033319_033393',\n",
       " 's_05_e_05_shot_003934_004008',\n",
       " 's_06_e_19_shot_013530_013604',\n",
       " 's_06_e_25_shot_032241_032315',\n",
       " 's_04_e_14_shot_002387_002461',\n",
       " 's_03_e_25_shot_043668_043742',\n",
       " 's_02_e_06_shot_011220_011294',\n",
       " 's_05_e_06_shot_033550_033624',\n",
       " 's_01_e_13_shot_005665_005739',\n",
       " 's_03_e_26_shot_008974_009048',\n",
       " 's_06_e_08_shot_033988_034062',\n",
       " 's_06_e_11_shot_021263_021337',\n",
       " 's_03_e_02_shot_025399_025473',\n",
       " 's_03_e_01_shot_021943_022017',\n",
       " 's_01_e_15_shot_002915_002989',\n",
       " 's_06_e_07_shot_039369_039443',\n",
       " 's_01_e_20_shot_021692_021766',\n",
       " 's_06_e_04_shot_006312_006386',\n",
       " 's_05_e_03_shot_029861_029935',\n",
       " 's_01_e_08_shot_005753_005827',\n",
       " 's_01_e_10_shot_023705_023779',\n",
       " 's_02_e_22_shot_035101_035175',\n",
       " 's_04_e_26_shot_013049_013123',\n",
       " 's_02_e_26_shot_035777_035851',\n",
       " 's_06_e_24_shot_027104_027178',\n",
       " 's_03_e_22_shot_021967_022041',\n",
       " 's_02_e_28_shot_006653_006727',\n",
       " 's_03_e_19_shot_037257_037331',\n",
       " 's_05_e_24_shot_010052_010126',\n",
       " 's_06_e_19_shot_015548_015622',\n",
       " 's_04_e_16_shot_014441_014515',\n",
       " 's_01_e_16_shot_031636_031710',\n",
       " 's_02_e_27_shot_025499_025573',\n",
       " 's_01_e_11_shot_031636_031710',\n",
       " 's_05_e_03_shot_029184_029258',\n",
       " 's_06_e_25_shot_009273_009347',\n",
       " 's_06_e_15_shot_011044_011118',\n",
       " 's_01_e_21_shot_015167_015241',\n",
       " 's_04_e_18_shot_016410_016484',\n",
       " 's_06_e_22_shot_018920_018994',\n",
       " 's_03_e_20_shot_026851_026925',\n",
       " 's_02_e_30_shot_000680_000754',\n",
       " 's_02_e_06_shot_016831_016905',\n",
       " 's_04_e_25_shot_034221_034295',\n",
       " 's_02_e_28_shot_002849_002923',\n",
       " 's_01_e_12_shot_005083_005157',\n",
       " 's_05_e_06_shot_026462_026536',\n",
       " 's_02_e_28_shot_010514_010588',\n",
       " 's_04_e_02_shot_007533_007607',\n",
       " 's_02_e_26_shot_009480_009554',\n",
       " 's_02_e_03_shot_044803_044877',\n",
       " 's_06_e_13_shot_020878_020952',\n",
       " 's_05_e_21_shot_030193_030267',\n",
       " 's_06_e_14_shot_007289_007363',\n",
       " 's_02_e_23_shot_037235_037309',\n",
       " 's_03_e_02_shot_039896_039970',\n",
       " 's_03_e_28_shot_007662_007736',\n",
       " ...]"
      ]
     },
     "execution_count": 591,
     "metadata": {},
     "output_type": "execute_result"
    }
   ],
   "source": [
    "vid_len_lists[1]"
   ]
  },
  {
   "cell_type": "code",
   "execution_count": 597,
   "metadata": {
    "collapsed": true
   },
   "outputs": [],
   "source": [
    "single_sent_vids = [vid for vid in go_vids if vid.gid() in set(vid_len_lists[2])]"
   ]
  },
  {
   "cell_type": "code",
   "execution_count": 598,
   "metadata": {},
   "outputs": [
    {
     "data": {
      "text/plain": [
       "3908"
      ]
     },
     "execution_count": 598,
     "metadata": {},
     "output_type": "execute_result"
    }
   ],
   "source": [
    "len(single_sent_vids)"
   ]
  },
  {
   "cell_type": "code",
   "execution_count": 599,
   "metadata": {
    "collapsed": true
   },
   "outputs": [],
   "source": [
    "pickle_this(single_sent_vids, 'two_sent_vids.pkl')"
   ]
  },
  {
   "cell_type": "code",
   "execution_count": 580,
   "metadata": {},
   "outputs": [
    {
     "data": {
      "image/png": "[encoded data removed]",
      "text/plain": [
       "<matplotlib.figure.Figure at 0x134ad2d68>"
      ]
     },
     "metadata": {},
     "output_type": "display_data"
    }
   ],
   "source": [
    "_ = pd.Series(videos_by_desc_leng).hist()"
   ]
  },
  {
   "cell_type": "code",
   "execution_count": 562,
   "metadata": {
    "collapsed": true
   },
   "outputs": [],
   "source": [
    "pickle_this(go_vids, 'flinstones_0p4_full_to_obj_anno.pkl')"
   ]
  },
  {
   "cell_type": "code",
   "execution_count": 559,
   "metadata": {
    "collapsed": true
   },
   "outputs": [],
   "source": [
    "tds = [sent.split() for sent in td1.split('.')][:-1]"
   ]
  },
  {
   "cell_type": "markdown",
   "metadata": {
    "heading_collapsed": true
   },
   "source": [
    "## exp"
   ]
  },
  {
   "cell_type": "code",
   "execution_count": 498,
   "metadata": {
    "hidden": true
   },
   "outputs": [],
   "source": [
    "td = nlp('musician with red hair playing base')"
   ]
  },
  {
   "cell_type": "code",
   "execution_count": null,
   "metadata": {
    "collapsed": true,
    "hidden": true
   },
   "outputs": [],
   "source": []
  },
  {
   "cell_type": "code",
   "execution_count": 342,
   "metadata": {
    "collapsed": true,
    "hidden": true
   },
   "outputs": [],
   "source": [
    "test_vid = test_vids[0]"
   ]
  },
  {
   "cell_type": "code",
   "execution_count": 343,
   "metadata": {
    "collapsed": true,
    "hidden": true,
    "run_control": {
     "frozen": false,
     "read_only": false
    }
   },
   "outputs": [],
   "source": [
    "core_parser = CoreNLPParser(url='http://localhost:9000')    "
   ]
  },
  {
   "cell_type": "code",
   "execution_count": 500,
   "metadata": {
    "collapsed": true,
    "hidden": true
   },
   "outputs": [],
   "source": [
    "test_vid = [v for v in original_sample if v.gid() == 's_02_e_20_shot_029247_029321'][0]"
   ]
  },
  {
   "cell_type": "code",
   "execution_count": 514,
   "metadata": {
    "hidden": true
   },
   "outputs": [],
   "source": [
    "ntl = parse_video(test_vid, nlp, core_parser)\n",
    "nltk_tree = ParentedTree.convert(ntl) "
   ]
  },
  {
   "cell_type": "code",
   "execution_count": 549,
   "metadata": {
    "hidden": true,
    "scrolled": false
   },
   "outputs": [
    {
     "data": {
      "text/plain": [
       "{'constituent_parse': ['const_parses/s_02_e_20_shot_029247_029321_sent_0.pkl',\n",
       "  'const_parses/s_02_e_20_shot_029247_029321_sent_1.pkl'],\n",
       " 'coref': {'clusters': [((0, 0), (7, 7), (10, 10), (13, 13), (25, 25))],\n",
       "  'named_clusters': [['Barney', 'his', 'his', 'He', 'he']]},\n",
       " 'noun_phrase_chunks': {'chunks': [(0, 1),\n",
       "   (4, 6),\n",
       "   (7, 9),\n",
       "   (10, 12),\n",
       "   (13, 14),\n",
       "   (17, 18),\n",
       "   (18, 19),\n",
       "   (25, 26)],\n",
       "  'named_chunks': ['Barney',\n",
       "   'the room',\n",
       "   'his hands',\n",
       "   'his hips',\n",
       "   'He',\n",
       "   'someone',\n",
       "   'who',\n",
       "   'he']},\n",
       " 'pos_tags': [[('Barney', 'NNP'),\n",
       "   ('is', 'VBZ'),\n",
       "   ('standing', 'VBG'),\n",
       "   ('in', 'IN'),\n",
       "   ('the', 'DT'),\n",
       "   ('room', 'NN'),\n",
       "   ('with', 'IN'),\n",
       "   ('his', 'PRP$'),\n",
       "   ('hands', 'NNS'),\n",
       "   ('on', 'IN'),\n",
       "   ('his', 'PRP$'),\n",
       "   ('hips', 'NNS'),\n",
       "   ('.', '.')],\n",
       "  [('He', 'PRP'),\n",
       "   ('is', 'VBZ'),\n",
       "   ('talking', 'VBG'),\n",
       "   ('to', 'TO'),\n",
       "   ('someone', 'NN'),\n",
       "   ('who', 'WP'),\n",
       "   ('can', 'MD'),\n",
       "   ('not', 'RB'),\n",
       "   ('be', 'VB'),\n",
       "   ('seen', 'VBN'),\n",
       "   (',', ','),\n",
       "   ('and', 'CC'),\n",
       "   ('he', 'PRP'),\n",
       "   ('looks', 'VBZ'),\n",
       "   ('annoyed', 'JJ'),\n",
       "   ('.', '.')]]}"
      ]
     },
     "execution_count": 549,
     "metadata": {},
     "output_type": "execute_result"
    }
   ],
   "source": [
    "test_vid.vid_data['parse']"
   ]
  },
  {
   "cell_type": "code",
   "execution_count": 511,
   "metadata": {
    "hidden": true
   },
   "outputs": [
    {
     "data": {
      "image/png": "[encoded data removed]",
      "text/plain": [
       "Tree('ROOT', [Tree('S', [Tree('NP', [Tree('NNP', ['Barney'])]), Tree('VP', [Tree('VBZ', ['is']), Tree('VP', [Tree('VBG', ['standing']), Tree('PP', [Tree('IN', ['in']), Tree('NP', [Tree('NP', [Tree('DT', ['the']), Tree('NN', ['room'])]), Tree('PP', [Tree('IN', ['with']), Tree('NP', [Tree('PRP$', ['his']), Tree('NNS', ['hands'])])])])]), Tree('PP', [Tree('IN', ['on']), Tree('NP', [Tree('PRP$', ['his']), Tree('NNS', ['hips'])])])])]), Tree('.', ['.'])])])"
      ]
     },
     "execution_count": 511,
     "metadata": {},
     "output_type": "execute_result"
    }
   ],
   "source": [
    "nltk_tree[0]"
   ]
  },
  {
   "cell_type": "code",
   "execution_count": 444,
   "metadata": {
    "hidden": true
   },
   "outputs": [],
   "source": []
  },
  {
   "cell_type": "code",
   "execution_count": 427,
   "metadata": {
    "hidden": true
   },
   "outputs": [],
   "source": [
    "child_subtrees = list(nltk_tree.subtrees())"
   ]
  },
  {
   "cell_type": "code",
   "execution_count": 431,
   "metadata": {
    "hidden": true
   },
   "outputs": [],
   "source": [
    "tvp = child_subtrees[5]"
   ]
  },
  {
   "cell_type": "code",
   "execution_count": 432,
   "metadata": {
    "hidden": true
   },
   "outputs": [
    {
     "data": {
      "image/png": "[encoded data removed]",
      "text/plain": [
       "ParentedTree('VP', [ParentedTree('VBG', ['speaking']), ParentedTree('PP', [ParentedTree('TO', ['to']), ParentedTree('NP', [ParentedTree('NP', [ParentedTree('NN', ['someone']), ParentedTree('RB', ['else'])]), ParentedTree('PP', [ParentedTree('IN', ['in']), ParentedTree('NP', [ParentedTree('DT', ['the']), ParentedTree('NN', ['room'])])])])])])"
      ]
     },
     "execution_count": 432,
     "metadata": {},
     "output_type": "execute_result"
    }
   ],
   "source": [
    "tvp"
   ]
  },
  {
   "cell_type": "code",
   "execution_count": 437,
   "metadata": {
    "hidden": true
   },
   "outputs": [
    {
     "data": {
      "image/png": "[encoded data removed]",
      "text/plain": [
       "ParentedTree('VP', [ParentedTree('VBG', ['speaking']), ParentedTree('PP', [ParentedTree('TO', ['to']), ParentedTree('NP', [ParentedTree('NP', [ParentedTree('NN', ['someone']), ParentedTree('RB', ['else'])]), ParentedTree('PP', [ParentedTree('IN', ['in']), ParentedTree('NP', [ParentedTree('DT', ['the']), ParentedTree('NN', ['room'])])])])])])"
      ]
     },
     "execution_count": 437,
     "metadata": {},
     "output_type": "execute_result"
    }
   ],
   "source": [
    "list(tvp.subtrees())[1].parent()"
   ]
  },
  {
   "cell_type": "code",
   "execution_count": 438,
   "metadata": {
    "hidden": true
   },
   "outputs": [],
   "source": [
    "child_height = list(tvp.subtrees())[1].height()\n",
    "nd_children = [str(tree.treeposition()) for tree in list(tvp.subtrees()) if tree.parent() == list(tvp.subtrees())[0]]"
   ]
  },
  {
   "cell_type": "code",
   "execution_count": 439,
   "metadata": {
    "hidden": true
   },
   "outputs": [
    {
     "data": {
      "text/plain": [
       "['(1, 1, 0)', '(1, 1, 1)']"
      ]
     },
     "execution_count": 439,
     "metadata": {},
     "output_type": "execute_result"
    }
   ],
   "source": [
    "nd_children"
   ]
  },
  {
   "cell_type": "code",
   "execution_count": 421,
   "metadata": {
    "hidden": true
   },
   "outputs": [],
   "source": [
    "tt1 = list(tvp.subtrees())[4]"
   ]
  },
  {
   "cell_type": "code",
   "execution_count": 449,
   "metadata": {
    "hidden": true
   },
   "outputs": [
    {
     "data": {
      "text/plain": [
       "'NN someone'"
      ]
     },
     "execution_count": 449,
     "metadata": {},
     "output_type": "execute_result"
    }
   ],
   "source": [
    "l0 = test_tree.leaves[4]\n",
    "l0.value\n",
    "\n",
    "[nd.value for nd in l0.parent.parent.children]"
   ]
  },
  {
   "cell_type": "code",
   "execution_count": null,
   "metadata": {
    "collapsed": true,
    "hidden": true
   },
   "outputs": [],
   "source": []
  },
  {
   "cell_type": "code",
   "execution_count": null,
   "metadata": {
    "collapsed": true,
    "hidden": true
   },
   "outputs": [],
   "source": []
  },
  {
   "cell_type": "code",
   "execution_count": null,
   "metadata": {
    "collapsed": true,
    "hidden": true
   },
   "outputs": [],
   "source": []
  },
  {
   "cell_type": "code",
   "execution_count": 56,
   "metadata": {
    "collapsed": true,
    "hidden": true
   },
   "outputs": [],
   "source": [
    "tst1 = list(ts1.subtrees())[6]"
   ]
  },
  {
   "cell_type": "code",
   "execution_count": 57,
   "metadata": {
    "hidden": true
   },
   "outputs": [
    {
     "data": {
      "image/png": "[encoded data removed]",
      "text/plain": [
       "Tree('VP', [Tree('VBG', ['speaking']), Tree('PP', [Tree('TO', ['to']), Tree('NP', [Tree('NP', [Tree('NN', ['someone']), Tree('RB', ['else'])]), Tree('PP', [Tree('IN', ['in']), Tree('NP', [Tree('DT', ['the']), Tree('NN', ['room'])])])])])])"
      ]
     },
     "execution_count": 57,
     "metadata": {},
     "output_type": "execute_result"
    }
   ],
   "source": [
    "tst1.label"
   ]
  },
  {
   "cell_type": "code",
   "execution_count": 61,
   "metadata": {
    "collapsed": true,
    "hidden": true
   },
   "outputs": [],
   "source": [
    "parented_trees = [ParentedTree.convert(sent) for sent in ts1]"
   ]
  },
  {
   "cell_type": "code",
   "execution_count": 66,
   "metadata": {
    "collapsed": true,
    "hidden": true
   },
   "outputs": [],
   "source": [
    "pt1 = parented_trees[0]"
   ]
  },
  {
   "cell_type": "code",
   "execution_count": 419,
   "metadata": {
    "collapsed": true,
    "hidden": true
   },
   "outputs": [],
   "source": [
    "pst5 = list(pt1.subtrees())[5]"
   ]
  },
  {
   "cell_type": "code",
   "execution_count": 420,
   "metadata": {
    "hidden": true
   },
   "outputs": [
    {
     "data": {
      "text/plain": [
       "nltk.tree.ParentedTree"
      ]
     },
     "execution_count": 420,
     "metadata": {},
     "output_type": "execute_result"
    }
   ],
   "source": [
    "type(pst5)"
   ]
  },
  {
   "cell_type": "markdown",
   "metadata": {
    "hidden": true
   },
   "source": [
    "**coref**"
   ]
  },
  {
   "cell_type": "code",
   "execution_count": 487,
   "metadata": {
    "collapsed": true,
    "hidden": true,
    "run_control": {
     "frozen": false,
     "read_only": false
    }
   },
   "outputs": [],
   "source": [
    "prev_ds = unpickle_this('./pickled_data/flinstones_v0p3.pkl')"
   ]
  },
  {
   "cell_type": "code",
   "execution_count": 488,
   "metadata": {
    "collapsed": true,
    "hidden": true,
    "run_control": {
     "frozen": false,
     "read_only": false
    }
   },
   "outputs": [],
   "source": [
    "for vid in original_sample:\n",
    "    vid.vid_data['parse']['coref'] = coref_res[vid.gid()] "
   ]
  },
  {
   "cell_type": "code",
   "execution_count": 283,
   "metadata": {
    "hidden": true
   },
   "outputs": [
    {
     "data": {
      "text/plain": [
       "{'clusters': [((0, 0), (15, 15), (20, 20))],\n",
       " 'named_clusters': [['Wilma', 'She', 'her']]}"
      ]
     },
     "execution_count": 283,
     "metadata": {},
     "output_type": "execute_result"
    }
   ],
   "source": [
    "list(coref_res.values())[4] "
   ]
  },
  {
   "cell_type": "code",
   "execution_count": 315,
   "metadata": {
    "collapsed": true,
    "hidden": true,
    "run_control": {
     "frozen": false,
     "read_only": false
    }
   },
   "outputs": [],
   "source": [
    "dataset_to_json(original_sample, '0p4_sample')"
   ]
  },
  {
   "cell_type": "code",
   "execution_count": 456,
   "metadata": {
    "hidden": true
   },
   "outputs": [],
   "source": [
    "test_vid = original_sample[5]"
   ]
  },
  {
   "cell_type": "code",
   "execution_count": 458,
   "metadata": {
    "hidden": true
   },
   "outputs": [],
   "source": [
    "test_tree = unpickle_this('../ai2-vision-animation-gan/data_store/dataset/const_parses/' + test_vid.gid() + '_sent_0.pkl')"
   ]
  },
  {
   "cell_type": "code",
   "execution_count": 461,
   "metadata": {
    "hidden": true
   },
   "outputs": [
    {
     "data": {
      "text/plain": [
       "'DT the'"
      ]
     },
     "execution_count": 461,
     "metadata": {},
     "output_type": "execute_result"
    }
   ],
   "source": [
    "l0 = test_tree.leaves[4]\n",
    "l0.value"
   ]
  },
  {
   "cell_type": "code",
   "execution_count": 466,
   "metadata": {
    "hidden": true
   },
   "outputs": [
    {
     "data": {
      "text/plain": [
       "'NN room'"
      ]
     },
     "execution_count": 466,
     "metadata": {},
     "output_type": "execute_result"
    }
   ],
   "source": [
    "[nd for nd in l0.parent.parent.children][1].children[1].value"
   ]
  },
  {
   "cell_type": "code",
   "execution_count": null,
   "metadata": {
    "collapsed": true,
    "hidden": true
   },
   "outputs": [],
   "source": [
    "[nd for nd in l0.parent.parent.children][1].children[1].value"
   ]
  },
  {
   "cell_type": "code",
   "execution_count": null,
   "metadata": {
    "collapsed": true,
    "hidden": true
   },
   "outputs": [],
   "source": [
    "[nd for nd in l0.parent.parent.children][1].children[1].value"
   ]
  },
  {
   "cell_type": "code",
   "execution_count": 468,
   "metadata": {
    "hidden": true
   },
   "outputs": [],
   "source": [
    "trn = test_tree.root_node"
   ]
  },
  {
   "cell_type": "code",
   "execution_count": 484,
   "metadata": {
    "hidden": true
   },
   "outputs": [
    {
     "data": {
      "text/plain": [
       "'VP'"
      ]
     },
     "execution_count": 484,
     "metadata": {},
     "output_type": "execute_result"
    }
   ],
   "source": [
    "trn.children[0].children[1].children[1].parent.value"
   ]
  },
  {
   "cell_type": "code",
   "execution_count": 550,
   "metadata": {
    "collapsed": true,
    "hidden": true
   },
   "outputs": [],
   "source": [
    "selected_vid = [v for v in original_sample if v.gid() == 's_02_e_20_shot_029247_029321'][0]"
   ]
  },
  {
   "cell_type": "code",
   "execution_count": 551,
   "metadata": {
    "hidden": true,
    "scrolled": false
   },
   "outputs": [
    {
     "data": {
      "text/plain": [
       "{'constituent_parse': ['const_parses/s_02_e_20_shot_029247_029321_sent_0.pkl',\n",
       "  'const_parses/s_02_e_20_shot_029247_029321_sent_1.pkl'],\n",
       " 'coref': {'clusters': [((0, 1), (7, 8))],\n",
       "  'named_clusters': [['Barney', 'his']]},\n",
       " 'noun_phrase_chunks': {'chunks': [(0, 1),\n",
       "   (4, 6),\n",
       "   (7, 9),\n",
       "   (10, 12),\n",
       "   (13, 14),\n",
       "   (17, 18),\n",
       "   (18, 19),\n",
       "   (25, 26)],\n",
       "  'named_chunks': ['Barney',\n",
       "   'the room',\n",
       "   'his hands',\n",
       "   'his hips',\n",
       "   'He',\n",
       "   'someone',\n",
       "   'who',\n",
       "   'he']},\n",
       " 'pos_tags': [[('Barney', 'NNP'),\n",
       "   ('is', 'VBZ'),\n",
       "   ('standing', 'VBG'),\n",
       "   ('in', 'IN'),\n",
       "   ('the', 'DT'),\n",
       "   ('room', 'NN'),\n",
       "   ('with', 'IN'),\n",
       "   ('his', 'PRP$'),\n",
       "   ('hands', 'NNS'),\n",
       "   ('on', 'IN'),\n",
       "   ('his', 'PRP$'),\n",
       "   ('hips', 'NNS'),\n",
       "   ('.', '.')],\n",
       "  [('He', 'PRP'),\n",
       "   ('is', 'VBZ'),\n",
       "   ('talking', 'VBG'),\n",
       "   ('to', 'TO'),\n",
       "   ('someone', 'NN'),\n",
       "   ('who', 'WP'),\n",
       "   ('can', 'MD'),\n",
       "   ('not', 'RB'),\n",
       "   ('be', 'VB'),\n",
       "   ('seen', 'VBN'),\n",
       "   (',', ','),\n",
       "   ('and', 'CC'),\n",
       "   ('he', 'PRP'),\n",
       "   ('looks', 'VBZ'),\n",
       "   ('annoyed', 'JJ'),\n",
       "   ('.', '.')]]}"
      ]
     },
     "execution_count": 551,
     "metadata": {},
     "output_type": "execute_result"
    }
   ],
   "source": [
    "selected_vid.vid_data['parse']"
   ]
  },
  {
   "cell_type": "code",
   "execution_count": null,
   "metadata": {
    "collapsed": true,
    "hidden": true
   },
   "outputs": [],
   "source": []
  },
  {
   "cell_type": "code",
   "execution_count": null,
   "metadata": {
    "collapsed": true,
    "hidden": true
   },
   "outputs": [],
   "source": []
  },
  {
   "cell_type": "code",
   "execution_count": null,
   "metadata": {
    "collapsed": true,
    "hidden": true
   },
   "outputs": [],
   "source": []
  },
  {
   "cell_type": "code",
   "execution_count": null,
   "metadata": {
    "collapsed": true,
    "hidden": true
   },
   "outputs": [],
   "source": []
  },
  {
   "cell_type": "markdown",
   "metadata": {
    "heading_collapsed": true
   },
   "source": [
    "# mkdocs/ s3 dev"
   ]
  },
  {
   "cell_type": "code",
   "execution_count": 318,
   "metadata": {
    "collapsed": true,
    "hidden": true
   },
   "outputs": [],
   "source": []
  },
  {
   "cell_type": "code",
   "execution_count": 334,
   "metadata": {
    "collapsed": true,
    "hidden": true,
    "run_control": {
     "frozen": false,
     "read_only": false
    }
   },
   "outputs": [],
   "source": [
    "video_mkd_template = \"\"\"## Video ID {}\n",
    "![animation_frames]({})\n",
    "\n",
    "![bounding_boxes]({})\n",
    "\n",
    "![animation]({})\n",
    "\n",
    "### Description\n",
    "{}\n",
    "\n",
    "#### Setting\n",
    "{}\n",
    "\n",
    "#### Characters\n",
    "{}\n",
    "\n",
    "### Parse\n",
    "#### constituency parses\n",
    "{}\n",
    "\n",
    "#### noun phrase chunks\n",
    "{}\n",
    "\n",
    "#### coreference clusters\n",
    "{}\n",
    "\n",
    "- - -\n",
    "\"\"\"\n",
    "\n",
    "s3_doc_base_uri = 'https://s3-us-west-2.amazonaws.com/ai2-vision-animation-gan/documentation/images/'\n",
    "\n",
    "local_path = '/Users/schwenk/wrk/animation_gan/ai2-vision-animation-gan/documentation/images/'\n",
    "\n",
    "img_base_path = 'https://s3-us-west-2.amazonaws.com/ai2-vision-animation-gan/documentation/images/'\n",
    "\n",
    "from nltk.draw.tree import TreeView\n",
    "\n",
    "def paginate_docs(videos, page_size=50):\n",
    "    num_sort = sorted(videos, key=lambda x: x.gid())\n",
    "    for i in range(0, len(num_sort), page_size):\n",
    "        yield num_sort[i:i + page_size]\n",
    "        \n",
    "def write_mkd_doc(doc, fp):\n",
    "    with open(fp, 'w') as f:\n",
    "        f.write(doc)\n",
    "        \n",
    "def format_characters(id_name_pairs):\n",
    "    char_base = ''\n",
    "    for char_id, char_name in id_name_pairs:\n",
    "        char_base += '\\tcharacter ' + char_id.rsplit('_', maxsplit=1)[-1] + ': ' + char_name + '\\n\\n'\n",
    "    return char_base\n",
    "\n",
    "def gen_and_save_doc_images(video):\n",
    "    three_frames  = video.display_keyframes()\n",
    "    frame_bboxes = video.display_bounding_boxes()\n",
    "    \n",
    "    three_frames.save(local_path + video.gid() + '_keyframes.png')\n",
    "    frame_bboxes.save(local_path + video.gid() + '_bboxes.png')\n",
    "    \n",
    "def draw_parse_trees(video):\n",
    "    parsed_sents = parse_video(video, nlp, core_parser)\n",
    "    for idx, sent in enumerate(parsed_sents):\n",
    "        tree_name = local_path + video.gid() + '_sent_' + str(idx) + '_parse_tree'\n",
    "        TreeView(sent)._cframe.print_to_file(tree_name + '.ps')\n",
    "        _ = os.system('convert ' + tree_name + '.ps ' +  tree_name + '.png')\n",
    "        _ = os.system('rm ' + tree_name + '.ps')\n",
    "    \n",
    "def gen_video_mkd(video):\n",
    "    entry_args = [\n",
    "        video.gid(),\n",
    "        s3_doc_base_uri + video.gid() + '_keyframes.png',\n",
    "        s3_doc_base_uri + video.gid() + '_bboxes.png',\n",
    "        video.display_gif(True),\n",
    "        video.description(),\n",
    "        '\\t' + video.setting(),\n",
    "        format_characters(video.characters_present()),\n",
    "        '\\n\\n'.join('![con_parse]({})'.format(s3_doc_base_uri + video.gid() + '_sent_' + str(sent_idx) + '_parse_tree.png') for sent_idx in range(len(video.vid_data['parse']['constituent_parse']))),\n",
    "        '\\t' + '\\n\\n\\t'.join(video.vid_data['parse']['noun_phrase_chunks']['named_chunks']),\n",
    "        '\\t' + '\\n\\n\\t'.join([' : '.join(cluster) for cluster in video.vid_data['parse']['coref']['named_clusters']])\n",
    "    ]\n",
    "    \n",
    "    return video_mkd_template.format(*entry_args)\n",
    "    vid_data['parse']['']\n",
    "\n",
    "def doc_video_group(dataset, make_images=True):\n",
    "    page_filenames = {}\n",
    "    for idx, videos in enumerate(list(paginate_docs(dataset, 10))):\n",
    "        idx += 1\n",
    "        page_md = '\\n\\n\\n\\n'.join([gen_video_mkd(vid) for vid in videos])\n",
    "        page_name = 'video group {0:0{width}}'.format(idx, width=2)\n",
    "        page_filenames[page_name] = page_name.replace(' ', '_') + '.md'\n",
    "        if make_images: \n",
    "            _ = [gen_and_save_doc_images(vid) for vid in videos]\n",
    "            _ = [draw_parse_trees(vid) for vid in videos]\n",
    "        write_mkd_doc(page_md, './documentation/docs/' + page_filenames[page_name])\n",
    "    write_mkdocs_config(page_filenames, 'Flintstones Dataset Explorer')\n",
    "    \n",
    "\n",
    "def write_mkdocs_config(page_names, site_name):\n",
    "    yml_head = \"\"\"site_name: {}\n",
    "theme: null\n",
    "theme_dir: './material'\n",
    "extra:\n",
    "   font:\n",
    "      text: Oxygen\n",
    "      code: Oxygen\n",
    "pages:\n",
    "   - home: index.md\n",
    "\"\"\".format(site_name)\n",
    "\n",
    "\n",
    "    padding1 = '   '\n",
    "    padding2 = '    '\n",
    "    with open('./documentation/mkdocs.yml', 'w') as f:\n",
    "        f.write(yml_head)\n",
    "        for k, v in sorted(page_names.items()):\n",
    "            f.write(''.join([padding1, '- ', k, ': ', v, '\\n']))\n",
    "#         for k, vals in sorted(category_group_names.items()):\n",
    "#             f.write(''.join([padding1, '- ', k, ': ', '\\n']))\n",
    "#             for v in vals:\n",
    "#                 f.write(''.join([padding2, '- ', v, ': ', v, '\\n']))"
   ]
  },
  {
   "cell_type": "code",
   "execution_count": 332,
   "metadata": {
    "collapsed": true,
    "hidden": true,
    "run_control": {
     "frozen": false,
     "read_only": false
    }
   },
   "outputs": [],
   "source": [
    "# test_ds = random.sample(prev_ds, 100)"
   ]
  },
  {
   "cell_type": "code",
   "execution_count": 333,
   "metadata": {
    "collapsed": true,
    "hidden": true,
    "run_control": {
     "frozen": false,
     "read_only": false
    }
   },
   "outputs": [],
   "source": [
    "doc_video_group(original_sample, False)"
   ]
  },
  {
   "cell_type": "code",
   "execution_count": null,
   "metadata": {
    "collapsed": true,
    "hidden": true,
    "run_control": {
     "frozen": false,
     "read_only": false
    }
   },
   "outputs": [],
   "source": []
  },
  {
   "cell_type": "code",
   "execution_count": null,
   "metadata": {
    "collapsed": true,
    "hidden": true,
    "run_control": {
     "frozen": false,
     "read_only": false
    }
   },
   "outputs": [],
   "source": []
  },
  {
   "cell_type": "markdown",
   "metadata": {
    "heading_collapsed": true
   },
   "source": [
    "# clean and spellcheck"
   ]
  },
  {
   "cell_type": "code",
   "execution_count": 55,
   "metadata": {
    "collapsed": true,
    "hidden": true,
    "run_control": {
     "frozen": false,
     "read_only": false
    }
   },
   "outputs": [],
   "source": [
    "import enchant\n",
    "from nltk.corpus import stopwords\n",
    "import string\n",
    "from nltk.tokenize import word_tokenize\n",
    "from nltk.tokenize import wordpunct_tokenize\n",
    "\n",
    "from fuzzywuzzy import fuzz\n",
    "import difflib\n",
    "import diff_match_patch\n",
    "\n",
    "dmp = diff_match_patch.diff_match_patch()\n",
    "\n",
    "edict = enchant.Dict(\"en_US\")\n",
    "anglo_edict = enchant.Dict(\"en_UK\")\n",
    "cached_sw = stopwords.words(\"english\") + list(string.punctuation)\n",
    "\n",
    "#         edict.add(word)"
   ]
  },
  {
   "cell_type": "code",
   "execution_count": null,
   "metadata": {
    "collapsed": true,
    "hidden": true,
    "run_control": {
     "frozen": false,
     "read_only": false
    }
   },
   "outputs": [],
   "source": [
    "other_chars_names = ['gazoo', 'lodabricks', 'slaghoople', 'poobaah']"
   ]
  },
  {
   "cell_type": "code",
   "execution_count": null,
   "metadata": {
    "collapsed": true,
    "hidden": true,
    "run_control": {
     "frozen": false,
     "read_only": false
    }
   },
   "outputs": [],
   "source": [
    "other_words = ['bandana', 'tv', 'bandana', 'bowtie', 'sabretooth', 'creepella', 'polkadot', \n",
    "               'turban', 'monical', 'unibrow', 'accordion', 'boutineer', 'handkerchief', 'xray', \n",
    "               'onesie', 'midcentury', 'cafe', 'squatty', 'earings']"
   ]
  },
  {
   "cell_type": "code",
   "execution_count": null,
   "metadata": {
    "collapsed": true,
    "hidden": true,
    "run_control": {
     "frozen": false,
     "read_only": false
    }
   },
   "outputs": [],
   "source": [
    "words_to_remove = ['whine', 'turbine', 'accordant', 'according', 'turbid', 'voile', 'acous', 'google', 'leper', 'deres', 'powerless', 'powerfulness', 'fervent', 'weaning', 'grail']\n",
    "_ = [edict.remove_from_session(word) for word in words_to_remove]"
   ]
  },
  {
   "cell_type": "code",
   "execution_count": null,
   "metadata": {
    "collapsed": true,
    "hidden": true,
    "run_control": {
     "frozen": false,
     "read_only": false
    }
   },
   "outputs": [],
   "source": [
    "_ = [[edict.add(char_word.lower()) for char_word in char.split()] for char in main_characters + other_chars_names + other_words]"
   ]
  },
  {
   "cell_type": "code",
   "execution_count": null,
   "metadata": {
    "collapsed": true,
    "hidden": true,
    "run_control": {
     "frozen": false,
     "read_only": false
    }
   },
   "outputs": [],
   "source": [
    "manual_corrections = {  'lieing': 'lying',\n",
    "                        'infront': 'in font',\n",
    "                        'ladie': 'lady',\n",
    "                        'servent': 'servant',\n",
    "                        'wiht': 'with',\n",
    "                        'preformer': 'performer',\n",
    "                        'hinging': 'hanging',\n",
    "                        'bule': 'blue',\n",
    "                        'yount': 'young',\n",
    "                      'od': 'old',\n",
    "                      'dres': 'dress',\n",
    "                      'handshacking': 'hand shaking',\n",
    "                      'cru': 'crew',\n",
    "                      'hankerchief': 'handkerchief',\n",
    "                      'cowbow': 'cowboy',\n",
    "                      'helmit': 'helmet',\n",
    "                      'wearning': 'wearing',\n",
    "                      'broen': 'wearing'\n",
    "                     }"
   ]
  },
  {
   "cell_type": "code",
   "execution_count": null,
   "metadata": {
    "code_folding": [
     21
    ],
    "collapsed": true,
    "hidden": true,
    "run_control": {
     "frozen": false,
     "read_only": false
    }
   },
   "outputs": [],
   "source": [
    "def check_mispelled(word):\n",
    "    return word and word.isalpha() and not (edict.check(word) or anglo_edict.check(word) or edict.check(word[0].upper() + word[1:]))\n",
    "\n",
    "def check_word_rules(word):\n",
    "    split_len = 2 < min([len(w) for w in word.split()])\n",
    "    not_proper = word[0].islower()\n",
    "    return not_proper and split_len\n",
    "\n",
    "def correct_spelling_error(misspelled_word):\n",
    "    if misspelled_word in manual_corrections:\n",
    "        return manual_corrections[misspelled_word]\n",
    "    suggested_spellings = edict.suggest(misspelled_word)\n",
    "    match_ratios = [fuzz.token_sort_ratio(misspelled_word, word) for word in suggested_spellings]\n",
    "    words_sorted_by_ratio = sorted(zip(suggested_spellings, match_ratios), key=lambda x: x[1], reverse=True)\n",
    "    words_sorted_by_ratio = [wordscore for wordscore in words_sorted_by_ratio if check_word_rules(wordscore[0])]\n",
    "    check_compounds = [word[0] for word in words_sorted_by_ratio if word[0].replace(' ', '') == misspelled_word]\n",
    "    if check_compounds:\n",
    "        return check_compounds[0]\n",
    "    if words_sorted_by_ratio[0][1] > 80:\n",
    "        return words_sorted_by_ratio[0][0]\n",
    "\n",
    "    for word, score in words_sorted_by_ratio:\n",
    "        if score >= 75 and word[0] == misspelled_word[0]:\n",
    "            return word\n",
    "        elif score >= 75:                    \n",
    "            return word\n",
    "    return None\n",
    "\n",
    "def apply_spelling_fix(orig_text):\n",
    "    orig_text_tokens = wordpunct_tokenize(orig_text)\n",
    "    processed_tokens = []\n",
    "    for token in orig_text_tokens:\n",
    "        norm_token = token.lower()\n",
    "        if len(norm_token) < 4:\n",
    "            processed_tokens.append(token)\n",
    "            continue\n",
    "        if check_mispelled(norm_token):\n",
    "            suggested_replacements = edict.suggest(token)\n",
    "            replacement_text = correct_spelling_error(norm_token, suggested_replacements)\n",
    "            if replacement_text:\n",
    "                if norm_token[0].isupper():\n",
    "                    replacement_text = upper(replacement_text[0]) + replaced_text[1:]\n",
    "                processed_tokens.append(replacement_text)\n",
    "            else:\n",
    "                processed_tokens.append(token)\n",
    "        else:\n",
    "            processed_tokens.append(token)\n",
    "    return ' '.join(processed_tokens)\n",
    "\n",
    "def diff_corrected_text(orig_text, corrected_text):\n",
    "    diff = dmp.diff_main(orig_text, corrected_text)\n",
    "    return HTML(dmp.diff_prettyHtml(diff))\n",
    "\n",
    "def specify_lesson_q_path(lesson):\n",
    "    pass\n",
    "\n",
    "def apply_spelling_and_grammar_to_ds(ck12_ds):\n",
    "    return"
   ]
  },
  {
   "cell_type": "code",
   "execution_count": null,
   "metadata": {
    "collapsed": true,
    "hidden": true,
    "run_control": {
     "frozen": false,
     "read_only": false
    }
   },
   "outputs": [],
   "source": [
    "def remove_empty_fields(video):\n",
    "    video.pop()"
   ]
  },
  {
   "cell_type": "code",
   "execution_count": null,
   "metadata": {
    "collapsed": true,
    "hidden": true,
    "run_control": {
     "frozen": false,
     "read_only": false
    }
   },
   "outputs": [],
   "source": [
    "dataset_v0p1 = copy.deepcopy(all_reasonably_sized)"
   ]
  },
  {
   "cell_type": "code",
   "execution_count": null,
   "metadata": {
    "collapsed": true,
    "hidden": true,
    "run_control": {
     "frozen": false,
     "read_only": false
    },
    "scrolled": true
   },
   "outputs": [],
   "source": [
    "words_changed = []\n",
    "for video in dataset_v0p1:\n",
    "    for char in video['characters']:\n",
    "        char_name_words = wordpunct_tokenize(char['characterName'])\n",
    "        misspellings = [check_mispelled(word) for word in char_name_words]\n",
    "        if sum(misspellings):\n",
    "            for idx, is_mispelled in enumerate(misspellings):\n",
    "                if is_mispelled:\n",
    "                    suggested_replacement = correct_spelling_error(char_name_words[idx])\n",
    "                    if suggested_replacement:\n",
    "                        words_changed.append([char_name_words[idx], suggested_replacement])\n",
    "                        char_name_words[idx] = suggested_replacement\n",
    "#                     print(char_name_words, suggested_replacement)\n",
    "#             print(char['characterName'], ' '.join(char_name_words).replace(' , ', ', ').replace(' . ', '.'))\n",
    "            char['characterName'] = ' '.join(char_name_words).replace(' , ', ', ').replace(' . ', '.')\n",
    "#         print(list(zip(char_name_words, misspellings)))"
   ]
  },
  {
   "cell_type": "code",
   "execution_count": null,
   "metadata": {
    "collapsed": true,
    "hidden": true,
    "run_control": {
     "frozen": false,
     "read_only": false
    }
   },
   "outputs": [],
   "source": [
    "len(words_changed)"
   ]
  },
  {
   "cell_type": "code",
   "execution_count": null,
   "metadata": {
    "collapsed": true,
    "hidden": true,
    "run_control": {
     "frozen": false,
     "read_only": false
    }
   },
   "outputs": [],
   "source": [
    "for video in dataset_v0p1:\n",
    "    setting = video['setting']\n",
    "    setting_words = setting.split()\n",
    "    misspellings = [check_mispelled(word) for word  in setting_words]\n",
    "    if sum(misspellings):\n",
    "        for idx, is_mispelled in enumerate(misspellings):\n",
    "            if is_mispelled:\n",
    "                suggested_replacement = correct_spelling_error(setting_words[idx])\n",
    "                if suggested_replacement:\n",
    "                    words_changed.append([setting_words[idx], suggested_replacement])\n",
    "                    setting_words[idx] = suggested_replacement\n",
    "        video['setting'] = ' '.join(setting_words)"
   ]
  },
  {
   "cell_type": "code",
   "execution_count": null,
   "metadata": {
    "collapsed": true,
    "hidden": true,
    "run_control": {
     "frozen": false,
     "read_only": false
    }
   },
   "outputs": [],
   "source": [
    "pickle_this(dataset_v0p1, 'dataset_v0p1.pkl')\n",
    "\n",
    "with open('dataset_v0p1.json', 'w') as f:\n",
    "    json.dump(dataset_v0p1, f, indent=4, sort_keys=True)"
   ]
  },
  {
   "cell_type": "code",
   "execution_count": null,
   "metadata": {
    "collapsed": true,
    "hidden": true,
    "run_control": {
     "frozen": false,
     "read_only": false
    }
   },
   "outputs": [],
   "source": [
    "df2 = pd.DataFrame(np.random.rand(10, 4), columns=['a', 'b', 'c', 'd'])"
   ]
  },
  {
   "cell_type": "code",
   "execution_count": null,
   "metadata": {
    "collapsed": true,
    "hidden": true,
    "run_control": {
     "frozen": false,
     "read_only": false
    }
   },
   "outputs": [],
   "source": [
    "len(dataset_v0p1)"
   ]
  },
  {
   "cell_type": "code",
   "execution_count": null,
   "metadata": {
    "collapsed": true,
    "hidden": true,
    "run_control": {
     "frozen": false,
     "read_only": false
    }
   },
   "outputs": [],
   "source": [
    "len(dataset_v0p1)"
   ]
  },
  {
   "cell_type": "code",
   "execution_count": null,
   "metadata": {
    "collapsed": true,
    "hidden": true,
    "run_control": {
     "frozen": false,
     "read_only": false
    }
   },
   "outputs": [],
   "source": []
  },
  {
   "cell_type": "code",
   "execution_count": null,
   "metadata": {
    "collapsed": true,
    "hidden": true,
    "run_control": {
     "frozen": false,
     "read_only": false
    }
   },
   "outputs": [],
   "source": [
    "dataset_v0p1[100]"
   ]
  },
  {
   "cell_type": "code",
   "execution_count": null,
   "metadata": {
    "collapsed": true,
    "hidden": true,
    "run_control": {
     "frozen": false,
     "read_only": false
    }
   },
   "outputs": [],
   "source": [
    "for video in dataset_v0p1:\n",
    "    if not video['setting']:\n",
    "        print(video['globalID'])\n",
    "    if not video['characters']:\n",
    "        print(video['globalID'])"
   ]
  },
  {
   "cell_type": "markdown",
   "metadata": {
    "heading_collapsed": true
   },
   "source": [
    "# hide "
   ]
  },
  {
   "cell_type": "code",
   "execution_count": 52,
   "metadata": {
    "collapsed": true,
    "hidden": true,
    "run_control": {
     "frozen": false,
     "read_only": false
    }
   },
   "outputs": [],
   "source": [
    "# ds_production = make_ds_skeleton(production_videos)\n",
    "# ds_complete_stage1_v1 = [vid for vid in ds_production if vid['globalID'] in processed_stage_1_a and vid['globalID'] in processed_stage_1_b]\n",
    "\n",
    "# stg1a = set(processed_stage_1_a.keys())\n",
    "# stg1b = set(processed_stage_1_b.keys())\n",
    "\n",
    "# len(stg1a.difference(stg1b))\n",
    "\n",
    "# single_clip = [vid for vid in ds_production if vid['globalID'] == 's_01_e_02_shot_014615_014689'][0]\n",
    "\n",
    "# pass_vids = [vid for bin_n, vid in vid_bins.items() if bin_n in pass_bins]\n",
    "# pass_vid_ids = set([item for sublist in pass_vids for item in sublist])\n",
    "\n",
    "# ds_complete_stage1_v1 = [vid for vid in ds_complete_stage1_v1 if vid['globalID'] in pass_vid_ids]\n",
    "\n",
    "# len(ds_complete_stage1_v1)\n",
    "\n",
    "# ds_complete_stage1_v1_all_clean = [vid for vid in ds_complete_stage1_v1 if vid['globalID'] not in shot_change]\n",
    "\n",
    "# len(ds_complete_stage1_v1_all_clean) / 12819\n",
    "\n",
    "# # weird_vid = [vid for vid in ds_complete_stage1_v1 if vid['globalID'] == 's_06_e_24_shot_005808_005882']\n",
    "\n",
    "# single_char_clips = [clip for clip in ds_complete_stage1_v1_all_clean if len(clip['characters']) == 1]\n",
    "\n",
    "# multi_char_clips = [clip for clip in ds_complete_stage1_v1_all_clean if len(clip['characters']) > 1 and len(clip['characters']) < 4]\n",
    "\n",
    "# all_reasonably_sized = [clip for clip in ds_complete_stage1_v1_all_clean if len(clip['characters']) > 0 and len(clip['characters']) < 4]\n",
    "\n",
    "# len(all_reasonably_sized)\n",
    "\n",
    "# # multi_char_sample = random.sample(multi_char_clips, 100)\n",
    "\n",
    "# len(multi_char_sample)\n",
    "\n",
    "# # pickle_this(multi_char_clips, 'stage_1_multi_char_sample.pkl')\n",
    "\n",
    "# # pickle_this(all_reasonably_sized, 'stage_1_less_than_4chars.pkl')\n",
    "\n",
    "# # pickle_this(single_char_clips, 'stage_1_single_char_updated.pkl')\n",
    "\n",
    "# # single_clip = three_char_clips[1]\n",
    "# # single_clip "
   ]
  },
  {
   "cell_type": "markdown",
   "metadata": {
    "heading_collapsed": true,
    "hidden": true
   },
   "source": [
    "## old build and update ds"
   ]
  },
  {
   "cell_type": "code",
   "execution_count": null,
   "metadata": {
    "collapsed": true,
    "hidden": true,
    "run_control": {
     "frozen": false,
     "read_only": false
    }
   },
   "outputs": [],
   "source": [
    "# # rem_reason = 'no characters annotated in stage1a'\n",
    "\n",
    "# filt_vids = prod_dataset.filter_videos({'reason': rem_reason})\n",
    "# len(filt_vids)\n",
    "\n",
    "# rand_vid = random.choice(filt_vids)\n",
    "# rand_vid.display_gif()"
   ]
  },
  {
   "cell_type": "code",
   "execution_count": 53,
   "metadata": {
    "collapsed": true,
    "hidden": true,
    "run_control": {
     "frozen": false,
     "read_only": false
    }
   },
   "outputs": [],
   "source": [
    "# for vid in go_vids:\n",
    "#     vid.vid_data['parse'] = stage_3b_parses[vid.gid()] \n",
    "\n",
    "# for vid in go_vids:\n",
    "#     vid.vid_data['characters'] = [char.data() for char in vid.vid_data['characters']]\n",
    "\n",
    "# ds_json = [vid.vid_data for vid in go_vids]\n",
    "\n",
    "# len(ds_json)\n",
    "\n",
    "# tc = ds_json[0]['characters'][0]\n",
    "\n",
    "# with open('dataset_v0p2.json', 'w') as f:\n",
    "#     json.dump(ds_json, f, sort_keys=True, indent=4)\n",
    "\n",
    "# demo_vid = prod_dataset.get_video('s_05_e_09_shot_032756_032830')\n",
    "\n",
    "# demo_vid.display_keyframes()\n",
    "\n",
    "# demo_vid.display_gif()"
   ]
  },
  {
   "cell_type": "code",
   "execution_count": null,
   "metadata": {
    "collapsed": true,
    "hidden": true,
    "run_control": {
     "frozen": false,
     "read_only": false
    }
   },
   "outputs": [],
   "source": []
  }
 ],
 "metadata": {
  "kernelspec": {
   "display_name": "Python 3",
   "language": "python",
   "name": "python3"
  },
  "language_info": {
   "codemirror_mode": {
    "name": "ipython",
    "version": 3
   },
   "file_extension": ".py",
   "mimetype": "text/x-python",
   "name": "python",
   "nbconvert_exporter": "python",
   "pygments_lexer": "ipython3",
   "version": "3.6.2"
  }
 },
 "nbformat": 4,
 "nbformat_minor": 2
}
