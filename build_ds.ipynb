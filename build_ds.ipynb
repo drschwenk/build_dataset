{
 "cells": [
  {
   "cell_type": "markdown",
   "metadata": {
    "heading_collapsed": true
   },
   "source": [
    "# Table of Contents\n",
    "* [1. load](#1.-load)\n",
    "\t* [1.1 bin accounting](#1.1-bin-accounting)\n",
    "* [2. build](#2.-build)\n",
    "\t* [2.1 run complete build](#2.1-run-complete-build)\n",
    "\t* [2.2 investigate parsing failures](#2.2-investigate-parsing-failures)\n",
    "\t* [2.3 token exp](#2.3-token-exp)\n",
    "\t* [2.4 remove missing entities](#2.4-remove-missing-entities)\n",
    "\t* [2.5 write ds json](#2.5-write-ds-json)\n",
    "* [3. gen segmentation anno data](#3.-gen-segmentation-anno-data)\n",
    "* [4. clean and spellcheck](#4.-clean-and-spellcheck)\n",
    "\t* [4.1 grammer experiment](#4.1-grammer-experiment)\n",
    "* [5. DS integrity checks](#5.-DS-integrity-checks)\n",
    "* [6. hide](#6.-hide)\n"
   ]
  },
  {
   "cell_type": "code",
   "execution_count": 65,
   "metadata": {
    "hidden": true,
    "run_control": {
     "frozen": false,
     "read_only": false
    }
   },
   "outputs": [],
   "source": [
    "%%capture\n",
    "from __future__ import division\n",
    "import numpy as np\n",
    "import pandas as pd\n",
    "import scipy.stats as st\n",
    "import itertools\n",
    "import math\n",
    "from collections import Counter, defaultdict\n",
    "%load_ext autoreload\n",
    "%autoreload 2\n",
    "\n",
    "from copy import deepcopy\n",
    "import pickle\n",
    "import os\n",
    "import json\n",
    "from tqdm import tqdm\n",
    "from tqdm import tqdm_notebook\n",
    "\n",
    "from IPython.display import Image\n",
    "import PIL.Image as pil\n",
    "import random\n",
    "import cv2\n",
    "import matplotlib as mpl\n",
    "mpl.use(\"Agg\")\n",
    "import matplotlib.pylab as plt\n",
    "#%matplotlib notebook\n",
    "%matplotlib inline\n",
    "%load_ext base16_mplrc\n",
    "%base16_mplrc light solarized\n",
    "#%base16_mplrc dark solarized\n",
    "plt.rcParams['grid.linewidth'] = 0\n",
    "plt.rcParams['figure.figsize'] = (16.0, 10.0)\n",
    "\n",
    "import anigen_tools\n",
    "from anigen_tools.dataset import FlintstonesDataset\n",
    "from anigen_tools.mturk import unpickle_this, pickle_this\n",
    "\n",
    "import spacy\n",
    "from nltk.parse.stanford import StanfordParser\n",
    "from nltk.tokenize import sent_tokenize\n",
    "from nltk.tree import ParentedTree\n",
    "from nltk.parse.corenlp import CoreNLPServer\n",
    "from nltk.parse.corenlp import CoreNLPParser\n",
    "\n",
    "from anigen_tools.parsing import parse_video"
   ]
  },
  {
   "cell_type": "code",
   "execution_count": 2,
   "metadata": {
    "hidden": true,
    "run_control": {
     "frozen": false,
     "read_only": false
    }
   },
   "outputs": [],
   "source": [
    "nlp = spacy.load('en')\n",
    "\n",
    "core_nlp_base = '/Users/schwenk/wrk/animation_gan/phrase_cues/deps/stanford_core_nlp/stanford-corenlp-full-2017-06-09/'\n",
    "core_parser = CoreNLPParser(url='http://localhost:9000')    \n",
    "\n",
    "coref_results = unpickle_this('pickled_data/coref_results_full_2.pkl')"
   ]
  },
  {
   "cell_type": "code",
   "execution_count": 4,
   "metadata": {
    "hidden": true
   },
   "outputs": [],
   "source": [
    "# with open('parse_lookup_v3p0.pkl', 'wb') as f:\n",
    "#     pickle.dump(parse_lookup, f)"
   ]
  },
  {
   "cell_type": "code",
   "execution_count": 87,
   "metadata": {
    "hidden": true,
    "run_control": {
     "frozen": false,
     "read_only": false
    }
   },
   "outputs": [],
   "source": [
    "def perform_parse(videos, parse_lookup={}, coref_res=coref_results):\n",
    "    failed_vids = []\n",
    "    for vid in videos:\n",
    "        try:\n",
    "            vid._data['parse'] = parse_lookup[vid.gid()]\n",
    "            vid._data['parse']['coref'] = coref_res[vid.gid()]\n",
    "        except KeyError:\n",
    "            try:\n",
    "                parse_video(vid, nlp, core_parser)\n",
    "                if vid in coref_res:\n",
    "                    vid.data()['parse']['coref'] = coref_res[vid.gid()]\n",
    "                else:\n",
    "                    vid.data()['parse']['coref'] = []\n",
    "            except:\n",
    "                failed_vids.append(vid)\n",
    "    return failed_vids"
   ]
  },
  {
   "cell_type": "markdown",
   "metadata": {},
   "source": [
    "# 1. load"
   ]
  },
  {
   "cell_type": "code",
   "execution_count": 4,
   "metadata": {
    "run_control": {
     "frozen": false,
     "read_only": false
    }
   },
   "outputs": [],
   "source": [
    "selection_metadata_dir = 'Flintstone_Shots_GIF_Selection'\n",
    "\n",
    "with open(os.path.join(selection_metadata_dir, 'beta_gif_names.json')) as f:\n",
    "    beta_videos = json.load(f)\n",
    "        \n",
    "with open(os.path.join(selection_metadata_dir, 'production_gif_names.json')) as f:\n",
    "    production_videos = json.load(f)"
   ]
  },
  {
   "cell_type": "markdown",
   "metadata": {},
   "source": [
    "initial load"
   ]
  },
  {
   "cell_type": "code",
   "execution_count": 9,
   "metadata": {
    "run_control": {
     "frozen": false,
     "read_only": false
    }
   },
   "outputs": [],
   "source": [
    "processed_stage_1_a = unpickle_this('./stage_1/pickeled_results/processed_stage1_boxes.pkl')\n",
    "processed_stage_1_b = unpickle_this('./stage_1/pickeled_results/stage_1b_prod_all_boxes_8_29.pkl')\n",
    "\n",
    "stage_3a_settings = unpickle_this('stage_3/pickled_data/stage3_prod1_2_settings.pkl')\n",
    "stage_3b_descriptions =  unpickle_this('stage_3/pickled_data/stage3_prod1_2_descriptions.pkl')\n",
    "\n",
    "stage_4b_con_boxes = unpickle_this('stage_4/pickled_data/stage_4b_con_batch_2_new_method.pkl')\n",
    "stage_4a_objects = unpickle_this('stage_4/pickled_data/obj_data.pkl')"
   ]
  },
  {
   "cell_type": "code",
   "execution_count": 10,
   "metadata": {
    "run_control": {
     "frozen": false,
     "read_only": false
    }
   },
   "outputs": [],
   "source": [
    "processed_stage_1_a_batch_2_3_4 = unpickle_this('./stage_1/pickeled_results/processed_stage1_prod_2_3_4.pkl')\n",
    "stage_1b_2_3_4 = unpickle_this('./stage_1/pickeled_results/stage_1b_prod_2_3_4.pkl')\n",
    "\n",
    "stage_3a_settings_2_3_4 = unpickle_this('./stage_3/pickled_data/stage3_prod_2_3_4_settings.pkl')\n",
    "stage_3b_prod_2_3_4_processed = unpickle_this('./stage_3/pickled_data/stage_3b_prod_2_3_4_processed.pkl')\n",
    "stage_3b_with_corrections = unpickle_this('./stage_3/pickled_data/corrected_descriptions_with_charnames.pkl')\n",
    "\n",
    "stage_4a_2_3_4 = unpickle_this('./stage_4/pickled_data/prod_2_3_4_object_hit_res_10_20.pkl')\n",
    "stage_4b_2_3_4 = unpickle_this('./stage_4/pickled_data/stage_4b_con_batch_2_3_4_latest_10_25.pkl')"
   ]
  },
  {
   "cell_type": "markdown",
   "metadata": {},
   "source": [
    "update"
   ]
  },
  {
   "cell_type": "code",
   "execution_count": 11,
   "metadata": {
    "run_control": {
     "frozen": false,
     "read_only": false
    }
   },
   "outputs": [],
   "source": [
    "stage_3b_cleanup_batch_1_10_10_results = unpickle_this('./stage_3/pickled_data/stage_3b_cleanup_batch_1_10_10_processed.pkl')\n",
    "stage_4a_latest_object_hit_res_10_8 = unpickle_this('./stage_4/pickled_data/latest_object_hit_res_10_8.pkl')\n",
    "stage_4a_latest_object_hit_res_10_10 = unpickle_this('./stage_4/pickled_data/latest_object_hit_res_10_10.pkl')\n",
    "stage_4b_con_batch_2_latest_10_9 = unpickle_this('./stage_4/pickled_data/stage_4b_con_batch_2_latest_10_9.pkl')\n",
    "stage_4b_con_batch_2_latest_10_10 = unpickle_this('./stage_4/pickled_data/stage_4b_con_batch_2_latest_10_10.pkl')\n",
    "\n",
    "all_stage_3b_descriptions = {**stage_3b_descriptions, **stage_3b_cleanup_batch_1_10_10_results}\n",
    "all_stage_4a_boxes = {**stage_4a_objects, **stage_4a_latest_object_hit_res_10_8, **stage_4a_latest_object_hit_res_10_10}\n",
    "all_stage_4b_boxes = {**stage_4b_con_boxes, **stage_4b_con_batch_2_latest_10_9, **stage_4b_con_batch_2_latest_10_10}"
   ]
  },
  {
   "cell_type": "code",
   "execution_count": 12,
   "metadata": {
    "run_control": {
     "frozen": false,
     "read_only": false
    }
   },
   "outputs": [],
   "source": [
    "all_stage_1a = {**processed_stage_1_a, **processed_stage_1_a_batch_2_3_4}\n",
    "all_stage_1b = {**processed_stage_1_b, **stage_1b_2_3_4}\n",
    "\n",
    "all_stage_3a = {**stage_3a_settings, **stage_3a_settings_2_3_4}\n",
    "all_stage_3b = {**stage_3b_descriptions, **stage_3b_cleanup_batch_1_10_10_results, **stage_3b_prod_2_3_4_processed}\n",
    "\n",
    "all_stage_4a = {**stage_4a_objects, **stage_4a_latest_object_hit_res_10_8, **stage_4a_latest_object_hit_res_10_10, **stage_4a_2_3_4}\n",
    "all_stage_4b = {**stage_4b_con_boxes, **stage_4b_con_batch_2_latest_10_9, **stage_4b_con_batch_2_latest_10_10, **stage_4b_2_3_4}"
   ]
  },
  {
   "cell_type": "code",
   "execution_count": 246,
   "metadata": {},
   "outputs": [
    {
     "data": {
      "text/plain": [
       "'yard'"
      ]
     },
     "execution_count": 246,
     "metadata": {},
     "output_type": "execute_result"
    }
   ],
   "source": [
    "all_stage_3a['s_06_e_23_shot_004323_004397']"
   ]
  },
  {
   "cell_type": "code",
   "execution_count": 14,
   "metadata": {
    "run_control": {
     "frozen": false,
     "read_only": false
    }
   },
   "outputs": [],
   "source": [
    "with open('./json_data/ds_production.json') as f:\n",
    "    prod_vids= json.load(f)\n",
    "    prod_batch_1_ds = prod_vids[:20000]\n",
    "    prod_batch_2_ds = prod_vids[20000:30000]\n",
    "    prod_batch_3_ds = prod_vids[30000:40000]\n",
    "    prod_batch_4_ds = prod_vids[40000:50000]\n",
    "    prod_batch_5_ds = prod_vids[50000:]\n",
    "\n",
    "prod_batch_1 = [vid['globalID'] for vid in prod_batch_1_ds]\n",
    "prod_batch_2 = [vid['globalID'] for vid in prod_batch_2_ds]\n",
    "prod_batch_3 = [vid['globalID'] for vid in prod_batch_3_ds]\n",
    "prod_batch_4 = [vid['globalID'] for vid in prod_batch_4_ds]\n",
    "prod_batch_5 = [vid['globalID'] for vid in prod_batch_5_ds]\n",
    "all_prod_batches = [prod_batch_1, prod_batch_2, prod_batch_3, prod_batch_4, prod_batch_5]\n",
    "\n",
    "prod_dataset_2 = anigen_tools.dataset.FlintstonesDataset(prod_batch_2)\n",
    "prod_dataset_3 = anigen_tools.dataset.FlintstonesDataset(prod_batch_3)\n",
    "prod_dataset_4 = anigen_tools.dataset.FlintstonesDataset(prod_batch_4)\n",
    "\n",
    "prod_dataset_2_3_4 = anigen_tools.dataset.FlintstonesDataset(prod_batch_2 + prod_batch_3 + prod_batch_4)"
   ]
  },
  {
   "cell_type": "markdown",
   "metadata": {
    "heading_collapsed": true
   },
   "source": [
    "## 1.1 bin accounting"
   ]
  },
  {
   "cell_type": "code",
   "execution_count": 17,
   "metadata": {
    "hidden": true,
    "run_control": {
     "frozen": false,
     "read_only": false
    }
   },
   "outputs": [],
   "source": [
    "vid_bins = unpickle_this('./pickled_data/vid_bin_assignments.pkl')\n",
    "vid_bins_2_3_4 = unpickle_this('../turk_annotation_task/stage_1/pickeled_results/vid_bin_assignments_2_3_4.pkl')\n",
    "vid_bins_batch_2_3_4 = unpickle_this('../turk_annotation_task/stage_1/pickeled_results/prod_2_3_4_failed_at_s1.pkl')\n",
    "\n",
    "vid_bin_lookup = {}\n",
    "for k, vals in list(vid_bins.items()) + list(vid_bins_2_3_4.items()):\n",
    "    for v in vals:\n",
    "        vid_bin_lookup[v] = k"
   ]
  },
  {
   "cell_type": "code",
   "execution_count": 18,
   "metadata": {
    "hidden": true,
    "run_control": {
     "frozen": false,
     "read_only": false
    }
   },
   "outputs": [],
   "source": [
    "pass_bins = set(['bin_01_vids', 'bin_02_vids', 'bin_09_vids', 'bin_10_vids'])"
   ]
  },
  {
   "cell_type": "code",
   "execution_count": 19,
   "metadata": {
    "hidden": true,
    "run_control": {
     "frozen": false,
     "read_only": false
    }
   },
   "outputs": [],
   "source": [
    "failed_stage_1 = {k: v not in pass_bins for k, v in vid_bin_lookup.items()}"
   ]
  },
  {
   "cell_type": "markdown",
   "metadata": {
    "hidden": true
   },
   "source": [
    "1. #boxes = 3 x # characters detected. Each box has 3 votes. ------- This may also contain an error, but no way to fix this.\n",
    "2. 1 box lies outside of consensus and it is Empty Frame\n",
    "3. 2+ boxes lies outside of consensus and they are all Empty Frame\n",
    "4/5. 1/2+ box lies outside of consensus and all are Main char\n",
    "6/7. 1/2+ box lies outside of consensus and it all are Other char\n",
    "8. 2+ box lies outside of consensus and they are a mix of other/main/empty\n",
    "9: 2+ characters detected, but at least one has < 3: votes\n",
    "10. Empty frame (consensus)\n",
    "11. extra annotation\n",
    "\n",
    "decisions:\n",
    "\n",
    "Next steps:\n",
    "1. Pass through 1,2,9,10\n",
    "2. 11 is easy\n",
    "3. Spend a few hours for 4,5 and new visualizations for these\n",
    "\n",
    "Stage 1-b:\n",
    "1. Videos with all consensus\n",
    "2/3/4/5/6. Videos with all but 1/2/3/4/5\n",
    "\n",
    "bin5: cancel/redo\n",
    "\n",
    "bin6: pass\n",
    "\n",
    "bin7: cancel/redo\n",
    "\n",
    "Choose Bins 1,2,4,6,9,10,11"
   ]
  },
  {
   "cell_type": "markdown",
   "metadata": {},
   "source": [
    "# 2. build"
   ]
  },
  {
   "cell_type": "markdown",
   "metadata": {},
   "source": [
    "## 2.1 run complete build"
   ]
  },
  {
   "cell_type": "code",
   "execution_count": 15,
   "metadata": {
    "run_control": {
     "frozen": false,
     "read_only": false
    }
   },
   "outputs": [
    {
     "name": "stdout",
     "output_type": "stream",
     "text": [
      "Mr. Slate is walking a person wrapped in bandages from head to toe into a room on a wheel chair. My. Slate is talking to him.\n",
      "Fred and Mr Slate are sitting in a car. My. Slate is driving and talking to Fred, then Fred responds to him. They are both smiling.\n"
     ]
    }
   ],
   "source": [
    "for k, v in all_stage_3b.items():\n",
    "    if k in ['s_01_e_06_shot_008371_008445', 's_02_e_25_shot_033671_033745']:\n",
    "        all_stage_3b[k] = v.replace('My. Slate', 'Mr. Slate')\n",
    "        print(v)"
   ]
  },
  {
   "cell_type": "code",
   "execution_count": 253,
   "metadata": {
    "run_control": {
     "frozen": false,
     "read_only": false
    }
   },
   "outputs": [],
   "source": [
    "complete_dataset = FlintstonesDataset(prod_batch_1 + prod_batch_2 + prod_batch_3 + prod_batch_4)\n",
    "\n",
    "complete_dataset.update_s1a(all_stage_1a)\n",
    "complete_dataset.filter_on_s1_quality(failed_stage_1)\n",
    "complete_dataset.update_s1b(all_stage_1b)\n",
    "\n",
    "complete_dataset.update_s3a(all_stage_3a)\n",
    "# complete_dataset.update_s3b(all_stage_3b)\n",
    "# complete_dataset.update_s3b_w_corrections(stage_3b_with_corrections)\n",
    "\n",
    "# complete_dataset.update_s4a(all_stage_4a)\n",
    "# complete_dataset.update_s4b(all_stage_4b)"
   ]
  },
  {
   "cell_type": "code",
   "execution_count": 250,
   "metadata": {
    "run_control": {
     "frozen": false,
     "read_only": false
    }
   },
   "outputs": [],
   "source": [
    "complete_vids_all = complete_dataset.filter_videos({'stage': 'stage_4b- objects', 'go': True}) + complete_dataset.filter_videos({'stage': 'stage_4b- no objects', 'go': True})"
   ]
  },
  {
   "cell_type": "code",
   "execution_count": 252,
   "metadata": {},
   "outputs": [
    {
     "data": {
      "text/plain": [
       "'yard'"
      ]
     },
     "execution_count": 252,
     "metadata": {},
     "output_type": "execute_result"
    }
   ],
   "source": [
    "all_stage_3a['s_06_e_23_shot_004323_004397']"
   ]
  },
  {
   "cell_type": "code",
   "execution_count": 255,
   "metadata": {},
   "outputs": [
    {
     "data": {
      "text/plain": [
       "''"
      ]
     },
     "execution_count": 255,
     "metadata": {},
     "output_type": "execute_result"
    }
   ],
   "source": [
    "complete_dataset.get_video('s_06_e_23_shot_004323_004397').data()['setting']"
   ]
  },
  {
   "cell_type": "code",
   "execution_count": 128,
   "metadata": {
    "run_control": {
     "frozen": false,
     "read_only": false
    }
   },
   "outputs": [],
   "source": [
    "corrections = spellcheck_dataset(complete_vids_all)"
   ]
  },
  {
   "cell_type": "code",
   "execution_count": 129,
   "metadata": {
    "run_control": {
     "frozen": false,
     "read_only": false
    },
    "scrolled": true
   },
   "outputs": [
    {
     "name": "stderr",
     "output_type": "stream",
     "text": [
      "100%|██████████| 26296/26296 [3:22:09<00:00,  2.17it/s]  \n"
     ]
    }
   ],
   "source": [
    "failed_vids = perform_parse(tqdm(complete_vids_all), {}, coref_results)"
   ]
  },
  {
   "cell_type": "code",
   "execution_count": 130,
   "metadata": {
    "run_control": {
     "frozen": false,
     "read_only": false
    }
   },
   "outputs": [
    {
     "name": "stderr",
     "output_type": "stream",
     "text": [
      "  4%|▎         | 923/26296 [00:00<00:05, 4604.30it/s]"
     ]
    },
    {
     "name": "stdout",
     "output_type": "stream",
     "text": [
      "t\n",
      "failed\n",
      "s_05_e_23_shot_027619_027693\n",
      "s_02_e_25_shot_023111_023185\n",
      "line\n",
      "failed\n",
      "s_03_e_25_shot_031130_031204\n",
      "s_02_e_26_shot_033922_033996\n",
      "paper\n",
      "failed\n",
      "paper\n",
      "failed\n",
      "phone\n",
      "failed\n"
     ]
    },
    {
     "name": "stderr",
     "output_type": "stream",
     "text": [
      " 10%|▉         | 2548/26296 [00:00<00:04, 5087.19it/s]"
     ]
    },
    {
     "name": "stdout",
     "output_type": "stream",
     "text": [
      "hat\n",
      "failed\n",
      "phone\n",
      "failed\n",
      "ball\n",
      "failed\n",
      "phone\n",
      "failed\n",
      "s_04_e_10_shot_025331_025405\n",
      "s_02_e_31_shot_003927_004001\n"
     ]
    },
    {
     "name": "stderr",
     "output_type": "stream",
     "text": [
      " 14%|█▎        | 3557/26296 [00:00<00:04, 5071.27it/s]"
     ]
    },
    {
     "name": "stdout",
     "output_type": "stream",
     "text": [
      "s_04_e_11_shot_020053_020127\n",
      "paper\n",
      "failed\n",
      "phone\n",
      "failed\n",
      "s_05_e_10_shot_041259_041333\n",
      "s_02_e_26_shot_037796_037870\n",
      "man wearing sunglasses\n",
      "failed\n",
      "man sitting at dinner table\n",
      "failed\n",
      "ball\n",
      "failed\n",
      "air\n",
      "failed\n"
     ]
    },
    {
     "name": "stderr",
     "output_type": "stream",
     "text": [
      " 19%|█▉        | 5071/26296 [00:01<00:04, 5056.47it/s]"
     ]
    },
    {
     "name": "stdout",
     "output_type": "stream",
     "text": [
      "t\n",
      "failed\n",
      "v\n",
      "failed\n",
      "s_05_e_10_shot_014124_014198\n",
      "s_02_e_08_shot_011320_011394\n",
      "s_06_e_09_shot_016267_016341\n",
      "ball\n",
      "failed\n",
      "side\n",
      "failed\n",
      "s_02_e_09_shot_025135_025209\n"
     ]
    },
    {
     "name": "stderr",
     "output_type": "stream",
     "text": [
      " 23%|██▎       | 6045/26296 [00:01<00:04, 4992.08it/s]"
     ]
    },
    {
     "name": "stdout",
     "output_type": "stream",
     "text": [
      "s_05_e_11_shot_004222_004296\n",
      "s_06_e_22_shot_026321_026395\n",
      "side\n",
      "failed\n",
      "s_06_e_13_shot_039039_039113\n",
      "\n",
      "failed\n",
      "t\n",
      "failed\n",
      "v\n",
      "failed\n",
      "s_01_e_01_shot_007984_008058\n",
      "phone\n",
      "failed\n"
     ]
    },
    {
     "name": "stderr",
     "output_type": "stream",
     "text": [
      " 29%|██▊       | 7543/26296 [00:01<00:03, 4989.28it/s]"
     ]
    },
    {
     "name": "stdout",
     "output_type": "stream",
     "text": [
      "s_01_e_09_shot_010380_010454\n",
      "s_02_e_29_shot_002968_003042\n",
      "ball\n",
      "failed\n",
      "s_04_e_18_shot_013330_013404\n",
      "phone booth\n",
      "failed\n",
      "phone\n",
      "failed\n",
      "hat\n",
      "failed\n",
      "s_06_e_19_shot_025725_025799\n",
      "ring\n",
      "failed\n",
      "s_04_e_18_shot_013255_013329\n",
      "phone\n",
      "failed\n",
      "s_05_e_10_shot_041800_041874\n"
     ]
    },
    {
     "name": "stderr",
     "output_type": "stream",
     "text": [
      " 35%|███▍      | 9163/26296 [00:01<00:03, 5055.93it/s]"
     ]
    },
    {
     "name": "stdout",
     "output_type": "stream",
     "text": [
      "s_02_e_08_shot_025615_025689\n",
      "s_02_e_01_shot_004961_005035\n",
      "s_04_e_16_shot_002726_002800\n",
      "s_04_e_24_shot_028380_028454\n",
      "s_02_e_26_shot_034254_034328\n",
      "s_03_e_28_shot_042705_042779\n",
      "s_03_e_22_shot_040348_040422\n",
      "s_03_e_02_shot_000198_000272\n",
      "ball\n",
      "failed\n"
     ]
    },
    {
     "name": "stderr",
     "output_type": "stream",
     "text": [
      " 39%|███▉      | 10313/26296 [00:02<00:03, 5124.74it/s]"
     ]
    },
    {
     "name": "stdout",
     "output_type": "stream",
     "text": [
      "side\n",
      "failed\n",
      "glasses\n",
      "failed\n",
      "glasses\n",
      "failed\n",
      "\n",
      "failed\n",
      "s_06_e_07_shot_034826_034900\n",
      "s_02_e_19_shot_030162_030236\n",
      "\n",
      "failed\n",
      "s_05_e_10_shot_036509_036583\n",
      "phone\n",
      "failed\n",
      "phone\n",
      "failed\n",
      "s_01_e_12_shot_026572_026646\n"
     ]
    },
    {
     "name": "stderr",
     "output_type": "stream",
     "text": [
      " 46%|████▌     | 12135/26296 [00:02<00:02, 5247.27it/s]"
     ]
    },
    {
     "name": "stdout",
     "output_type": "stream",
     "text": [
      "s_04_e_08_shot_029428_029502\n",
      "s_03_e_28_shot_026433_026507\n",
      "s_03_e_25_shot_004409_004483\n",
      "side\n",
      "failed\n",
      "phone\n",
      "failed\n",
      "s_03_e_12_shot_021224_021298\n",
      "s_02_e_06_shot_011295_011369\n",
      "ring\n",
      "failed\n",
      "s_01_e_07_shot_033922_033996\n",
      "s_05_e_02_shot_021670_021744\n",
      "kettle\n",
      "failed\n",
      "s_04_e_17_shot_005401_005475\n",
      "tub\n",
      "failed\n"
     ]
    },
    {
     "name": "stderr",
     "output_type": "stream",
     "text": [
      " 51%|█████     | 13309/26296 [00:02<00:02, 5280.01it/s]"
     ]
    },
    {
     "name": "stdout",
     "output_type": "stream",
     "text": [
      "side\n",
      "failed\n",
      "hat\n",
      "failed\n",
      "s_02_e_23_shot_034353_034427\n",
      "board\n",
      "failed\n",
      "hat\n",
      "failed\n",
      "s_04_e_15_shot_008459_008533\n"
     ]
    },
    {
     "name": "stderr",
     "output_type": "stream",
     "text": [
      " 55%|█████▌    | 14464/26296 [00:02<00:02, 5308.32it/s]"
     ]
    },
    {
     "name": "stdout",
     "output_type": "stream",
     "text": [
      "s_05_e_10_shot_025014_025088\n",
      "plane\n",
      "failed\n",
      "ball\n",
      "failed\n",
      "s_06_e_02_shot_011977_012051\n",
      "phone\n",
      "failed\n",
      "s_03_e_15_shot_001001_001075\n",
      "hat\n",
      "failed\n",
      "ball\n",
      "failed\n",
      "ball\n",
      "failed\n"
     ]
    },
    {
     "name": "stderr",
     "output_type": "stream",
     "text": [
      " 76%|███████▋  | 20107/26296 [00:03<00:00, 6645.47it/s]"
     ]
    },
    {
     "name": "stdout",
     "output_type": "stream",
     "text": [
      "s_02_e_13_shot_000572_000646\n",
      "s_03_e_07_shot_035139_035213\n",
      "s_01_e_02_shot_035893_035967\n",
      "s_06_e_03_shot_013361_013435\n",
      "s_03_e_02_shot_042977_043051\n",
      "s_03_e_25_shot_037761_037835\n",
      "s_04_e_05_shot_032593_032667\n",
      "s_06_e_12_shot_007216_007290\n",
      "s_04_e_08_shot_036672_036746\n",
      "s_04_e_03_shot_005311_005385\n",
      "s_05_e_07_shot_004411_004485\n",
      "s_04_e_22_shot_021384_021458\n",
      "s_05_e_20_shot_031691_031765\n",
      "s_05_e_01_shot_030235_030309\n",
      "s_01_e_28_shot_013737_013811\n",
      "s_04_e_15_shot_023122_023196\n",
      "s_02_e_14_shot_022165_022239\n",
      "s_01_e_23_shot_008943_009017\n",
      "s_06_e_09_shot_021633_021707\n",
      "s_02_e_14_shot_019943_020017\n",
      "s_03_e_25_shot_041965_042039\n",
      "s_04_e_08_shot_024088_024162\n"
     ]
    },
    {
     "name": "stderr",
     "output_type": "stream",
     "text": [
      "100%|██████████| 26296/26296 [00:03<00:00, 8057.29it/s]"
     ]
    },
    {
     "name": "stdout",
     "output_type": "stream",
     "text": [
      "s_06_e_20_shot_022273_022347\n",
      "s_06_e_21_shot_029806_029880\n",
      "s_02_e_01_shot_010285_010359\n",
      "s_02_e_04_shot_010846_010920\n",
      "s_03_e_07_shot_000227_000301\n",
      "s_04_e_02_shot_028414_028488\n",
      "s_01_e_21_shot_000055_000129\n",
      "s_02_e_28_shot_023349_023423\n",
      "s_02_e_25_shot_030312_030386\n",
      "s_03_e_18_shot_026117_026191\n",
      "s_05_e_01_shot_037012_037086\n"
     ]
    },
    {
     "name": "stderr",
     "output_type": "stream",
     "text": [
      "\n"
     ]
    }
   ],
   "source": [
    "for vid in tqdm(complete_vids_all):\n",
    "    try:\n",
    "        vid.assign_ent_npcs(vid._data['objects'])\n",
    "        vid.assign_ent_npcs(vid._data['characters'])\n",
    "    except:\n",
    "        print(vid.gid())"
   ]
  },
  {
   "cell_type": "code",
   "execution_count": 141,
   "metadata": {
    "run_control": {
     "frozen": false,
     "read_only": false
    }
   },
   "outputs": [],
   "source": [
    "final_clean_complete_vids = [vid for vid in complete_vids_all if vid.gid() not in vids_to_remove]\n",
    "final_clean_complete_vids = [vid for vid in complete_vids_all if 'pos_tags' in vid.data()['parse']]\n",
    "# dataset_to_json(final_clean_complete_vids, '3p2')"
   ]
  },
  {
   "cell_type": "code",
   "execution_count": 132,
   "metadata": {},
   "outputs": [],
   "source": [
    "first_round_keep = set([vid.gid() for vid in final_clean_complete_vids])\n",
    "first_round_remove = [vid.gid() for vid in complete_dataset.data if vid.gid() not in first_round_keep]"
   ]
  },
  {
   "cell_type": "code",
   "execution_count": 133,
   "metadata": {},
   "outputs": [],
   "source": [
    "complete_ds_clean = deepcopy(complete_dataset)\n",
    "complete_ds_clean.remove_vids(first_round_remove)"
   ]
  },
  {
   "cell_type": "code",
   "execution_count": 135,
   "metadata": {},
   "outputs": [
    {
     "data": {
      "text/plain": [
       "26238"
      ]
     },
     "execution_count": 135,
     "metadata": {},
     "output_type": "execute_result"
    }
   ],
   "source": [
    "len(complete_ds_clean.data)"
   ]
  },
  {
   "cell_type": "code",
   "execution_count": 145,
   "metadata": {},
   "outputs": [],
   "source": [
    "with open('complete_ds_v3p0.pkl', 'wb') as f:\n",
    "    pickle.dump(complete_ds_clean.data, f)\n",
    "\n",
    "with open('ds_obj_v3p0.pkl', 'wb') as f:\n",
    "    pickle.dump(complete_ds_clean, f)"
   ]
  },
  {
   "cell_type": "code",
   "execution_count": 248,
   "metadata": {},
   "outputs": [],
   "source": [
    "# parse_lookup = {vid.gid(): vid.data()['parse'] for vid in final_clean_complete_vids}\n",
    "\n",
    "# with open('./parse_lookup_v3.pkl', 'wb') as f:\n",
    "#     pickle.dump(parse_lookup, f)"
   ]
  },
  {
   "cell_type": "code",
   "execution_count": 149,
   "metadata": {
    "run_control": {
     "frozen": false,
     "read_only": false
    }
   },
   "outputs": [],
   "source": [
    "complete_ds_clean.generate_release_version('3p0')"
   ]
  },
  {
   "cell_type": "code",
   "execution_count": 50,
   "metadata": {
    "run_control": {
     "frozen": false,
     "read_only": false
    }
   },
   "outputs": [],
   "source": [
    "# missing_pos = [vid for vid in final_clean_complete_vids if 'pos_tags' not in vid.data()['parse']]"
   ]
  },
  {
   "cell_type": "code",
   "execution_count": 155,
   "metadata": {
    "run_control": {
     "frozen": false,
     "read_only": false
    }
   },
   "outputs": [],
   "source": [
    "verification_failures = complete_dataset.verify_entities()"
   ]
  },
  {
   "cell_type": "code",
   "execution_count": 156,
   "metadata": {
    "run_control": {
     "frozen": false,
     "read_only": false
    }
   },
   "outputs": [
    {
     "data": {
      "text/plain": [
       "{'missing entity span': 10,\n",
       " 'no referring words': 52,\n",
       " 'parse key error': 1,\n",
       " 'referring word issue': 1}"
      ]
     },
     "execution_count": 156,
     "metadata": {},
     "output_type": "execute_result"
    }
   ],
   "source": [
    "{k: len(v) for k, v in verification_failures.items()}"
   ]
  },
  {
   "cell_type": "code",
   "execution_count": 168,
   "metadata": {},
   "outputs": [],
   "source": [
    "failed_vids_r2 = set([v for sl in verification_failures.values() for v in sl])"
   ]
  },
  {
   "cell_type": "code",
   "execution_count": 173,
   "metadata": {},
   "outputs": [],
   "source": [
    "with open('failed_vids.txt') as f:\n",
    "    failed_vids_r3 = f.readlines()\n",
    "    failed_vids_r3 = set([l.strip() for l in failed_vids_r3])"
   ]
  },
  {
   "cell_type": "code",
   "execution_count": 178,
   "metadata": {},
   "outputs": [
    {
     "data": {
      "text/plain": [
       "822"
      ]
     },
     "execution_count": 178,
     "metadata": {},
     "output_type": "execute_result"
    }
   ],
   "source": [
    "len(failed_vids_r3)"
   ]
  },
  {
   "cell_type": "code",
   "execution_count": 264,
   "metadata": {},
   "outputs": [],
   "source": [
    "all_frame_arr_data = !ls '/Users/schwenk/wrk/animation_gan/dataset/v3p0/trajectories/frame_arr_data'\n",
    "all_frame_arr_data = set([v[:-4] for v in all_frame_arr_data])"
   ]
  },
  {
   "cell_type": "code",
   "execution_count": 268,
   "metadata": {},
   "outputs": [],
   "source": [
    "missing_fad = [vid.gid() for vid in final_clean_complete_vids if vid.gid() not in all_frame_arr_data]"
   ]
  },
  {
   "cell_type": "code",
   "execution_count": null,
   "metadata": {},
   "outputs": [],
   "source": []
  },
  {
   "cell_type": "code",
   "execution_count": 269,
   "metadata": {},
   "outputs": [],
   "source": [
    "pickle_this(missing_fad, 'missing_fad.pickle')"
   ]
  },
  {
   "cell_type": "code",
   "execution_count": null,
   "metadata": {},
   "outputs": [],
   "source": [
    "os.path.exists"
   ]
  },
  {
   "cell_type": "code",
   "execution_count": 266,
   "metadata": {},
   "outputs": [
    {
     "data": {
      "text/plain": [
       "13"
      ]
     },
     "execution_count": 266,
     "metadata": {},
     "output_type": "execute_result"
    }
   ],
   "source": [
    "len(missing_fad)"
   ]
  },
  {
   "cell_type": "markdown",
   "metadata": {
    "heading_collapsed": true
   },
   "source": [
    "## 2.2 investigate parsing failures"
   ]
  },
  {
   "cell_type": "markdown",
   "metadata": {
    "hidden": true
   },
   "source": [
    "1. Noun Phrase Chunking misaligned with POS taggs\n",
    "\n",
    "\n",
    "2. LabelNPC misaligned with POS-Tags using entitySpan indices\n",
    "\n",
    "\n",
    "3. Referring index empty"
   ]
  },
  {
   "cell_type": "code",
   "execution_count": 46,
   "metadata": {
    "hidden": true,
    "run_control": {
     "frozen": false,
     "read_only": false
    }
   },
   "outputs": [],
   "source": [
    "from anigen_tools.parsing import parse_description, sanitize_text, sentence_splitter, punct_set"
   ]
  },
  {
   "cell_type": "markdown",
   "metadata": {
    "hidden": true
   },
   "source": [
    "s_04_e_16_shot_031729_031803\n",
    "\n",
    "s_01_e_14_shot_003740_003814\n",
    "\n",
    "s_03_e_06_shot_008140_008214\n",
    "\n",
    "s_04_e_22_shot_016852_016926\n",
    "\n",
    "s_03_e_19_shot_037103_037177\n",
    "\n",
    "s_02_e_05_shot_011297_011371 no space between sentences\n",
    "\n",
    "s_02_e_13_shot_010303_010377\n",
    "\n",
    "\n",
    "s_04_e_22_shot_022212_022286 mislabeled character corrected\n",
    "\n",
    "s_01_e_15_shot_028356_028430\n",
    "\n",
    "s_03_e_01_shot_029459_029533\n",
    "\n",
    "s_02_e_18_shot_030919_030993\n",
    "\n",
    "s_01_e_14_shot_022575_022649\n",
    "\n",
    "s_06_e_02_shot_012373_012447\n",
    "\n",
    "s_02_e_15_shot_038483_038557 - no spaces after period\n",
    "\n",
    "s_02_e_25_shot_033671_033745"
   ]
  },
  {
   "cell_type": "code",
   "execution_count": 945,
   "metadata": {
    "hidden": true,
    "run_control": {
     "frozen": false,
     "read_only": false
    }
   },
   "outputs": [],
   "source": [
    "test_vid = complete_dataset.get_video('s_04_e_20_shot_010151_010225')\n",
    "test_ent = test_vid.data()['characters'][0]"
   ]
  },
  {
   "cell_type": "code",
   "execution_count": 946,
   "metadata": {
    "hidden": true,
    "run_control": {
     "frozen": false,
     "read_only": false
    }
   },
   "outputs": [
    {
     "data": {
      "text/plain": [
       "'Fred and Barney are standing in the living room. Fred speaks and turn his head toward Barney. Then Barney speaks.'"
      ]
     },
     "execution_count": 946,
     "metadata": {},
     "output_type": "execute_result"
    }
   ],
   "source": [
    "doc = test_vid.description()\n",
    "doc"
   ]
  },
  {
   "cell_type": "code",
   "execution_count": 927,
   "metadata": {
    "hidden": true,
    "run_control": {
     "frozen": false,
     "read_only": false
    }
   },
   "outputs": [
    {
     "data": {
      "text/plain": [
       "{\n",
       "    \"characters\": [\n",
       "        {\n",
       "            \"entityLabel\": \"mr slate\",\n",
       "            \"entitySpan\": null,\n",
       "            \"globalID\": \"s_06_e_11_shot_041613_041687_char_0\",\n",
       "            \"labelNPC\": \"mr slate\",\n",
       "            \"rectangles\": [\n",
       "                [\n",
       "                    182,\n",
       "                    65,\n",
       "                    541,\n",
       "                    480\n",
       "                ],\n",
       "                [\n",
       "                    163,\n",
       "                    51,\n",
       "                    489,\n",
       "                    477\n",
       "                ],\n",
       "                [\n",
       "                    196,\n",
       "                    53,\n",
       "                    469,\n",
       "                    480\n",
       "                ]\n",
       "            ]\n",
       "        }\n",
       "    ],\n",
       "    \"description\": \"mr slate is wearing a blue hat with horns standing in a room. he looks surprised as he hears something over his walkie talkie. \",\n",
       "    \"globalID\": \"s_06_e_11_shot_041613_041687\",\n",
       "    \"keyFrames\": [\n",
       "        \"s_06_e_11_shot_041613_041687_10.png\",\n",
       "        \"s_06_e_11_shot_041613_041687_40.png\",\n",
       "        \"s_06_e_11_shot_041613_041687_70.png\"\n",
       "    ],\n",
       "    \"objects\": [\n",
       "        {\n",
       "            \"entityLabel\": \"hat\",\n",
       "            \"entitySpan\": [\n",
       "                4,\n",
       "                7\n",
       "            ],\n",
       "            \"globalID\": \"s_06_e_11_shot_041613_041687_hat_0_6\",\n",
       "            \"labelNPC\": \"a blue hat\",\n",
       "            \"labelSpan\": [\n",
       "                0,\n",
       "                6\n",
       "            ],\n",
       "            \"localID\": \"hat_0_6\",\n",
       "            \"rectangles\": [\n",
       "                [\n",
       "                    179,\n",
       "                    49,\n",
       "                    443,\n",
       "                    264\n",
       "                ],\n",
       "                [\n",
       "                    185,\n",
       "                    74,\n",
       "                    438,\n",
       "                    246\n",
       "                ],\n",
       "                [\n",
       "                    197,\n",
       "                    71,\n",
       "                    454,\n",
       "                    240\n",
       "                ]\n",
       "            ]\n",
       "        },\n",
       "        {\n",
       "            \"entityLabel\": \"horns\",\n",
       "            \"entitySpan\": [\n",
       "                8,\n",
       "                9\n",
       "            ],\n",
       "            \"globalID\": \"s_06_e_11_shot_041613_041687_horns_0_8\",\n",
       "            \"labelNPC\": \"horns\",\n",
       "            \"labelSpan\": [\n",
       "                0,\n",
       "                8\n",
       "            ],\n",
       "            \"localID\": \"horns_0_8\",\n",
       "            \"rectangles\": [\n",
       "                [\n",
       "                    177,\n",
       "                    166,\n",
       "                    440,\n",
       "                    245\n",
       "                ],\n",
       "                [\n",
       "                    182,\n",
       "                    166,\n",
       "                    437,\n",
       "                    245\n",
       "                ],\n",
       "                [\n",
       "                    184,\n",
       "                    171,\n",
       "                    440,\n",
       "                    273\n",
       "                ]\n",
       "            ]\n",
       "        },\n",
       "        {\n",
       "            \"entityLabel\": \"walkie talkie\",\n",
       "            \"entitySpan\": [\n",
       "                22,\n",
       "                25\n",
       "            ],\n",
       "            \"globalID\": \"s_06_e_11_shot_041613_041687_walkie talkie_1_10\",\n",
       "            \"labelNPC\": \"his walkie talkie\",\n",
       "            \"labelSpan\": [\n",
       "                1,\n",
       "                10\n",
       "            ],\n",
       "            \"localID\": \"walkie talkie_1_10\",\n",
       "            \"rectangles\": [\n",
       "                [\n",
       "                    469,\n",
       "                    104,\n",
       "                    565,\n",
       "                    377\n",
       "                ],\n",
       "                [\n",
       "                    389,\n",
       "                    100,\n",
       "                    491,\n",
       "                    376\n",
       "                ],\n",
       "                [\n",
       "                    392,\n",
       "                    106,\n",
       "                    492,\n",
       "                    369\n",
       "                ]\n",
       "            ]\n",
       "        }\n",
       "    ],\n",
       "    \"parse\": {\n",
       "        \"coref\": [],\n",
       "        \"noun_phrase_chunks\": {\n",
       "            \"aligned_description\": \"Mr. Slate is wearing a blue hat with horns standing in a room. he looks surprised as he hears something over his walkie talkie.\",\n",
       "            \"chunks\": [\n",
       "                [\n",
       "                    0,\n",
       "                    2\n",
       "                ],\n",
       "                [\n",
       "                    4,\n",
       "                    7\n",
       "                ],\n",
       "                [\n",
       "                    8,\n",
       "                    9\n",
       "                ],\n",
       "                [\n",
       "                    11,\n",
       "                    13\n",
       "                ],\n",
       "                [\n",
       "                    20,\n",
       "                    21\n",
       "                ],\n",
       "                [\n",
       "                    22,\n",
       "                    25\n",
       "                ]\n",
       "            ],\n",
       "            \"named_chunks\": [\n",
       "                \"Mr. Slate\",\n",
       "                \"a blue hat\",\n",
       "                \"horns\",\n",
       "                \"a room\",\n",
       "                \"something\",\n",
       "                \"his walkie talkie\"\n",
       "            ],\n",
       "            \"token_spans\": [\n",
       "                [\n",
       "                    \"Mr.\",\n",
       "                    0,\n",
       "                    3\n",
       "                ],\n",
       "                [\n",
       "                    \"Slate\",\n",
       "                    4,\n",
       "                    9\n",
       "                ],\n",
       "                [\n",
       "                    \"is\",\n",
       "                    10,\n",
       "                    12\n",
       "                ],\n",
       "                [\n",
       "                    \"wearing\",\n",
       "                    13,\n",
       "                    20\n",
       "                ],\n",
       "                [\n",
       "                    \"a\",\n",
       "                    21,\n",
       "                    22\n",
       "                ],\n",
       "                [\n",
       "                    \"blue\",\n",
       "                    23,\n",
       "                    27\n",
       "                ],\n",
       "                [\n",
       "                    \"hat\",\n",
       "                    28,\n",
       "                    31\n",
       "                ],\n",
       "                [\n",
       "                    \"with\",\n",
       "                    32,\n",
       "                    36\n",
       "                ],\n",
       "                [\n",
       "                    \"horns\",\n",
       "                    37,\n",
       "                    42\n",
       "                ],\n",
       "                [\n",
       "                    \"standing\",\n",
       "                    43,\n",
       "                    51\n",
       "                ],\n",
       "                [\n",
       "                    \"in\",\n",
       "                    52,\n",
       "                    54\n",
       "                ],\n",
       "                [\n",
       "                    \"a\",\n",
       "                    55,\n",
       "                    56\n",
       "                ],\n",
       "                [\n",
       "                    \"room\",\n",
       "                    57,\n",
       "                    61\n",
       "                ],\n",
       "                [\n",
       "                    \".\",\n",
       "                    61,\n",
       "                    62\n",
       "                ],\n",
       "                [\n",
       "                    \"he\",\n",
       "                    63,\n",
       "                    65\n",
       "                ],\n",
       "                [\n",
       "                    \"looks\",\n",
       "                    66,\n",
       "                    71\n",
       "                ],\n",
       "                [\n",
       "                    \"surprised\",\n",
       "                    72,\n",
       "                    81\n",
       "                ],\n",
       "                [\n",
       "                    \"as\",\n",
       "                    82,\n",
       "                    84\n",
       "                ],\n",
       "                [\n",
       "                    \"he\",\n",
       "                    85,\n",
       "                    87\n",
       "                ],\n",
       "                [\n",
       "                    \"hears\",\n",
       "                    88,\n",
       "                    93\n",
       "                ],\n",
       "                [\n",
       "                    \"something\",\n",
       "                    94,\n",
       "                    103\n",
       "                ],\n",
       "                [\n",
       "                    \"over\",\n",
       "                    104,\n",
       "                    108\n",
       "                ],\n",
       "                [\n",
       "                    \"his\",\n",
       "                    109,\n",
       "                    112\n",
       "                ],\n",
       "                [\n",
       "                    \"walkie\",\n",
       "                    113,\n",
       "                    119\n",
       "                ],\n",
       "                [\n",
       "                    \"talkie\",\n",
       "                    120,\n",
       "                    126\n",
       "                ],\n",
       "                [\n",
       "                    \".\",\n",
       "                    126,\n",
       "                    127\n",
       "                ]\n",
       "            ]\n",
       "        },\n",
       "        \"pos_tags\": [\n",
       "            [\n",
       "                \"Mr.\",\n",
       "                \"NNP\"\n",
       "            ],\n",
       "            [\n",
       "                \"Slate\",\n",
       "                \"NNP\"\n",
       "            ],\n",
       "            [\n",
       "                \"is\",\n",
       "                \"VBZ\"\n",
       "            ],\n",
       "            [\n",
       "                \"wearing\",\n",
       "                \"VBG\"\n",
       "            ],\n",
       "            [\n",
       "                \"a\",\n",
       "                \"DT\"\n",
       "            ],\n",
       "            [\n",
       "                \"blue\",\n",
       "                \"JJ\"\n",
       "            ],\n",
       "            [\n",
       "                \"hat\",\n",
       "                \"NN\"\n",
       "            ],\n",
       "            [\n",
       "                \"with\",\n",
       "                \"IN\"\n",
       "            ],\n",
       "            [\n",
       "                \"horns\",\n",
       "                \"NNS\"\n",
       "            ],\n",
       "            [\n",
       "                \"standing\",\n",
       "                \"VBG\"\n",
       "            ],\n",
       "            [\n",
       "                \"in\",\n",
       "                \"IN\"\n",
       "            ],\n",
       "            [\n",
       "                \"a\",\n",
       "                \"DT\"\n",
       "            ],\n",
       "            [\n",
       "                \"room\",\n",
       "                \"NN\"\n",
       "            ],\n",
       "            [\n",
       "                \".\",\n",
       "                \".\"\n",
       "            ],\n",
       "            [\n",
       "                \"he\",\n",
       "                \"PRP\"\n",
       "            ],\n",
       "            [\n",
       "                \"looks\",\n",
       "                \"VBZ\"\n",
       "            ],\n",
       "            [\n",
       "                \"surprised\",\n",
       "                \"JJ\"\n",
       "            ],\n",
       "            [\n",
       "                \"as\",\n",
       "                \"IN\"\n",
       "            ],\n",
       "            [\n",
       "                \"he\",\n",
       "                \"PRP\"\n",
       "            ],\n",
       "            [\n",
       "                \"hears\",\n",
       "                \"VBZ\"\n",
       "            ],\n",
       "            [\n",
       "                \"something\",\n",
       "                \"NN\"\n",
       "            ],\n",
       "            [\n",
       "                \"over\",\n",
       "                \"IN\"\n",
       "            ],\n",
       "            [\n",
       "                \"his\",\n",
       "                \"PRP$\"\n",
       "            ],\n",
       "            [\n",
       "                \"walkie\",\n",
       "                \"JJ\"\n",
       "            ],\n",
       "            [\n",
       "                \"talkie\",\n",
       "                \"NN\"\n",
       "            ],\n",
       "            [\n",
       "                \".\",\n",
       "                \".\"\n",
       "            ]\n",
       "        ]\n",
       "    },\n",
       "    \"setting\": \"room\",\n",
       "    \"status\": {\n",
       "        \"go\": true,\n",
       "        \"reason\": \"\",\n",
       "        \"stage\": \"stage_4b- objects\"\n",
       "    }\n",
       "}"
      ]
     },
     "execution_count": 927,
     "metadata": {},
     "output_type": "execute_result"
    }
   ],
   "source": [
    "test_vid"
   ]
  },
  {
   "cell_type": "code",
   "execution_count": 878,
   "metadata": {
    "hidden": true,
    "run_control": {
     "frozen": false,
     "read_only": false
    }
   },
   "outputs": [
    {
     "name": "stdout",
     "output_type": "stream",
     "text": [
      "['Fred is begging Barney for something on the road outside a hotel.']\n"
     ]
    }
   ],
   "source": [
    "vid_text = sanitize_text(doc)\n",
    "raw_sentences = sentence_splitter.tokenize(vid_text)\n",
    "sentences = [' '.join([w for w in word_tokenize(s) if set(w) - punct_set]).replace(' .',  '.') for s in raw_sentences]\n",
    "print(sentences)\n",
    "# docs = [nlp(sent) for sent in sentences]\n",
    "\n",
    "# noun_phrase_chunks = {\n",
    "#     'chunks': [[(np.start, np.end) for np in doc.noun_chunks] for doc in docs],\n",
    "#     'named_chunks': [[np.text for np in doc.noun_chunks] for doc in docs]\n",
    "# }\n",
    "# constituent_parse = const_parse(vid_text, parser)\n",
    "constituent_parse = [list(i)[0] for i in core_parser.raw_parse_sents(sentences)]"
   ]
  },
  {
   "cell_type": "code",
   "execution_count": 879,
   "metadata": {
    "hidden": true,
    "run_control": {
     "frozen": false,
     "read_only": false
    }
   },
   "outputs": [],
   "source": [
    "test_parse = test_vid.data()['parse']"
   ]
  },
  {
   "cell_type": "code",
   "execution_count": 880,
   "metadata": {
    "hidden": true,
    "run_control": {
     "frozen": false,
     "read_only": false
    }
   },
   "outputs": [
    {
     "data": {
      "text/plain": [
       "{'coref': [],\n",
       " 'noun_phrase_chunks': {'aligned_description': 'Fred is begging Barney for something on the road outside a hotel.',\n",
       "  'chunks': [[0, 1], [3, 4], [5, 6], [7, 9], [10, 12]],\n",
       "  'named_chunks': ['Fred', 'Barney', 'something', 'the road', 'a hotel'],\n",
       "  'token_spans': [('Fred', 0, 4),\n",
       "   ('is', 5, 7),\n",
       "   ('begging', 8, 15),\n",
       "   ('Barney', 16, 22),\n",
       "   ('for', 23, 26),\n",
       "   ('something', 27, 36),\n",
       "   ('on', 37, 39),\n",
       "   ('the', 40, 43),\n",
       "   ('road', 44, 48),\n",
       "   ('outside', 49, 56),\n",
       "   ('a', 57, 58),\n",
       "   ('hotel', 59, 64),\n",
       "   ('.', 64, 65)]},\n",
       " 'pos_tags': [('Fred', 'NNP'),\n",
       "  ('is', 'VBZ'),\n",
       "  ('begging', 'VBG'),\n",
       "  ('Barney', 'NNP'),\n",
       "  ('for', 'IN'),\n",
       "  ('something', 'NN'),\n",
       "  ('on', 'IN'),\n",
       "  ('the', 'DT'),\n",
       "  ('road', 'NN'),\n",
       "  ('outside', 'IN'),\n",
       "  ('a', 'DT'),\n",
       "  ('hotel', 'NN'),\n",
       "  ('.', '.')]}"
      ]
     },
     "execution_count": 880,
     "metadata": {},
     "output_type": "execute_result"
    }
   ],
   "source": [
    "test_parse"
   ]
  },
  {
   "cell_type": "code",
   "execution_count": 881,
   "metadata": {
    "hidden": true,
    "run_control": {
     "frozen": false,
     "read_only": false
    }
   },
   "outputs": [],
   "source": [
    "# test_vid = complete_dataset.get_video('s_02_e_06_shot_018480_018554')"
   ]
  },
  {
   "cell_type": "code",
   "execution_count": 947,
   "metadata": {
    "hidden": true,
    "run_control": {
     "frozen": false,
     "read_only": false
    }
   },
   "outputs": [],
   "source": [
    "parse_video(test_vid, nlp, core_parser)"
   ]
  },
  {
   "cell_type": "code",
   "execution_count": 883,
   "metadata": {
    "hidden": true,
    "run_control": {
     "frozen": false,
     "read_only": false
    }
   },
   "outputs": [],
   "source": [
    "# ' '.join([w[0] for w in vid_pos_tags[0][16:18]])"
   ]
  },
  {
   "cell_type": "code",
   "execution_count": 884,
   "metadata": {
    "hidden": true,
    "run_control": {
     "frozen": false,
     "read_only": false
    }
   },
   "outputs": [
    {
     "data": {
      "text/plain": [
       "{\n",
       "    \"characters\": [\n",
       "        {\n",
       "            \"entityLabel\": \"fred\",\n",
       "            \"entitySpan\": [\n",
       "                0,\n",
       "                1\n",
       "            ],\n",
       "            \"globalID\": \"s_03_e_09_shot_018707_018781_char_0\",\n",
       "            \"labelNPC\": \"fred\",\n",
       "            \"rectangles\": [\n",
       "                [\n",
       "                    113,\n",
       "                    133,\n",
       "                    299,\n",
       "                    428\n",
       "                ],\n",
       "                [\n",
       "                    73,\n",
       "                    105,\n",
       "                    287,\n",
       "                    415\n",
       "                ],\n",
       "                [\n",
       "                    97,\n",
       "                    107,\n",
       "                    300,\n",
       "                    441\n",
       "                ]\n",
       "            ]\n",
       "        },\n",
       "        {\n",
       "            \"entityLabel\": \" Barney dressed as a baby\",\n",
       "            \"globalID\": \"s_03_e_09_shot_018707_018781_char_1\",\n",
       "            \"labelNPC\": \"man with white dress\",\n",
       "            \"rectangles\": [\n",
       "                [\n",
       "                    363,\n",
       "                    144,\n",
       "                    516,\n",
       "                    433\n",
       "                ],\n",
       "                [\n",
       "                    363,\n",
       "                    152,\n",
       "                    499,\n",
       "                    432\n",
       "                ],\n",
       "                [\n",
       "                    364,\n",
       "                    142,\n",
       "                    509,\n",
       "                    425\n",
       "                ]\n",
       "            ]\n",
       "        }\n",
       "    ],\n",
       "    \"description\": \"Fred is begging Barney for something on the road outside a hotel.\",\n",
       "    \"globalID\": \"s_03_e_09_shot_018707_018781\",\n",
       "    \"keyFrames\": [\n",
       "        \"s_03_e_09_shot_018707_018781_10.png\",\n",
       "        \"s_03_e_09_shot_018707_018781_40.png\",\n",
       "        \"s_03_e_09_shot_018707_018781_70.png\"\n",
       "    ],\n",
       "    \"objects\": [],\n",
       "    \"parse\": {\n",
       "        \"noun_phrase_chunks\": {\n",
       "            \"aligned_description\": \"Fred is begging Barney for something on the road outside a hotel.\",\n",
       "            \"chunks\": [\n",
       "                [\n",
       "                    0,\n",
       "                    1\n",
       "                ],\n",
       "                [\n",
       "                    3,\n",
       "                    4\n",
       "                ],\n",
       "                [\n",
       "                    5,\n",
       "                    6\n",
       "                ],\n",
       "                [\n",
       "                    7,\n",
       "                    9\n",
       "                ],\n",
       "                [\n",
       "                    10,\n",
       "                    12\n",
       "                ]\n",
       "            ],\n",
       "            \"named_chunks\": [\n",
       "                \"Fred\",\n",
       "                \"Barney\",\n",
       "                \"something\",\n",
       "                \"the road\",\n",
       "                \"a hotel\"\n",
       "            ],\n",
       "            \"token_spans\": [\n",
       "                [\n",
       "                    \"Fred\",\n",
       "                    0,\n",
       "                    4\n",
       "                ],\n",
       "                [\n",
       "                    \"is\",\n",
       "                    5,\n",
       "                    7\n",
       "                ],\n",
       "                [\n",
       "                    \"begging\",\n",
       "                    8,\n",
       "                    15\n",
       "                ],\n",
       "                [\n",
       "                    \"Barney\",\n",
       "                    16,\n",
       "                    22\n",
       "                ],\n",
       "                [\n",
       "                    \"for\",\n",
       "                    23,\n",
       "                    26\n",
       "                ],\n",
       "                [\n",
       "                    \"something\",\n",
       "                    27,\n",
       "                    36\n",
       "                ],\n",
       "                [\n",
       "                    \"on\",\n",
       "                    37,\n",
       "                    39\n",
       "                ],\n",
       "                [\n",
       "                    \"the\",\n",
       "                    40,\n",
       "                    43\n",
       "                ],\n",
       "                [\n",
       "                    \"road\",\n",
       "                    44,\n",
       "                    48\n",
       "                ],\n",
       "                [\n",
       "                    \"outside\",\n",
       "                    49,\n",
       "                    56\n",
       "                ],\n",
       "                [\n",
       "                    \"a\",\n",
       "                    57,\n",
       "                    58\n",
       "                ],\n",
       "                [\n",
       "                    \"hotel\",\n",
       "                    59,\n",
       "                    64\n",
       "                ],\n",
       "                [\n",
       "                    \".\",\n",
       "                    64,\n",
       "                    65\n",
       "                ]\n",
       "            ]\n",
       "        },\n",
       "        \"pos_tags\": [\n",
       "            [\n",
       "                \"Fred\",\n",
       "                \"NNP\"\n",
       "            ],\n",
       "            [\n",
       "                \"is\",\n",
       "                \"VBZ\"\n",
       "            ],\n",
       "            [\n",
       "                \"begging\",\n",
       "                \"VBG\"\n",
       "            ],\n",
       "            [\n",
       "                \"Barney\",\n",
       "                \"NNP\"\n",
       "            ],\n",
       "            [\n",
       "                \"for\",\n",
       "                \"IN\"\n",
       "            ],\n",
       "            [\n",
       "                \"something\",\n",
       "                \"NN\"\n",
       "            ],\n",
       "            [\n",
       "                \"on\",\n",
       "                \"IN\"\n",
       "            ],\n",
       "            [\n",
       "                \"the\",\n",
       "                \"DT\"\n",
       "            ],\n",
       "            [\n",
       "                \"road\",\n",
       "                \"NN\"\n",
       "            ],\n",
       "            [\n",
       "                \"outside\",\n",
       "                \"IN\"\n",
       "            ],\n",
       "            [\n",
       "                \"a\",\n",
       "                \"DT\"\n",
       "            ],\n",
       "            [\n",
       "                \"hotel\",\n",
       "                \"NN\"\n",
       "            ],\n",
       "            [\n",
       "                \".\",\n",
       "                \".\"\n",
       "            ]\n",
       "        ]\n",
       "    },\n",
       "    \"setting\": \"road\",\n",
       "    \"status\": {\n",
       "        \"go\": true,\n",
       "        \"reason\": \"\",\n",
       "        \"stage\": \"stage_4b- no objects\"\n",
       "    }\n",
       "}"
      ]
     },
     "execution_count": 884,
     "metadata": {},
     "output_type": "execute_result"
    }
   ],
   "source": [
    "test_vid"
   ]
  },
  {
   "cell_type": "code",
   "execution_count": 885,
   "metadata": {
    "hidden": true,
    "run_control": {
     "frozen": false,
     "read_only": false
    }
   },
   "outputs": [],
   "source": [
    "vid_pos_tags = test_vid.data()['parse']['pos_tags']\n",
    "vidnpcs = test_vid.data()['parse']['noun_phrase_chunks']\n",
    "\n",
    "lnpc = test_ent.data()['labelNPC']\n",
    "# entspan = test_ent.data()['entitySpan']\n",
    "entlabel = test_ent.data()['entityLabel']\n",
    "# concat_pos = concat_pos_tags(vid_pos_tags)"
   ]
  },
  {
   "cell_type": "code",
   "execution_count": 843,
   "metadata": {
    "hidden": true,
    "run_control": {
     "frozen": false,
     "read_only": false
    }
   },
   "outputs": [],
   "source": [
    "vid_text = sanitize_text(doc)\n",
    "raw_sentences = sentence_splitter.tokenize(vid_text)\n",
    "sentences = [' '.join([w for w in wordpunct_tokenize(s) if set(w) - punct_set]).replace(' .',  '.') for s in raw_sentences]"
   ]
  },
  {
   "cell_type": "code",
   "execution_count": 844,
   "metadata": {
    "hidden": true,
    "run_control": {
     "frozen": false,
     "read_only": false
    }
   },
   "outputs": [
    {
     "data": {
      "text/plain": [
       "[('a', 'DT')]"
      ]
     },
     "execution_count": 844,
     "metadata": {},
     "output_type": "execute_result"
    }
   ],
   "source": [
    "vid_pos_tags[12:13]"
   ]
  },
  {
   "cell_type": "code",
   "execution_count": 863,
   "metadata": {
    "hidden": true,
    "run_control": {
     "frozen": false,
     "read_only": false
    }
   },
   "outputs": [
    {
     "data": {
      "text/plain": [
       "False"
      ]
     },
     "execution_count": 863,
     "metadata": {},
     "output_type": "execute_result"
    }
   ],
   "source": [
    "are_coref_pos_misaligned(vidnpcs, vid_pos_tags)"
   ]
  },
  {
   "cell_type": "code",
   "execution_count": 846,
   "metadata": {
    "code_folding": [
     0
    ],
    "hidden": true,
    "run_control": {
     "frozen": false,
     "read_only": false
    }
   },
   "outputs": [],
   "source": [
    "# def are_coref_pos_misaligned(npcs, sent_pos_tags_concat):\n",
    "#     for sentn in range(len(sent_pos_tags_concat)):\n",
    "#         pos_tags_concat = sent_pos_tags_concat[sent_n]\n",
    "#         for (chunk,chunk_name) in zip(npcs['chunks'][sent_n], npcs['named_chunks'][sent_n]):\n",
    "# #             print(chunk_name)\n",
    "#             s,e = chunk\n",
    "#             if e > len(pos_tags_concat):\n",
    "#                 return True\n",
    "#             chunk_name_recon = ' '.join([pos_tags_concat[i][0] for i in range(s,e)])\n",
    "#             if chunk_name_recon.lower() != chunk_name.lower():\n",
    "#                 print(chunk_name_recon + ' : ' + chunk_name)\n",
    "#                 return True\n",
    "#     return False\n",
    "\n",
    "def are_coref_pos_misaligned(npcs, pos_tags_concat):\n",
    "    for (chunk,chunk_name) in zip(npcs['chunks'], npcs['named_chunks']):\n",
    "        s,e = chunk\n",
    "        if e > len(pos_tags_concat):\n",
    "            return True\n",
    "        chunk_name_recon = ' '.join([pos_tags_concat[i][0] for i in range(s,e)])\n",
    "        if chunk_name_recon.lower() != chunk_name.lower():\n",
    "            print(chunk_name_recon + ' : ' + chunk_name)\n",
    "            return True\n",
    "    return False\n",
    "\n"
   ]
  },
  {
   "cell_type": "code",
   "execution_count": 847,
   "metadata": {
    "code_folding": [],
    "hidden": true,
    "run_control": {
     "frozen": false,
     "read_only": false
    }
   },
   "outputs": [],
   "source": [
    "def are_entity_pos_misaligned(entity_npc,entity_span,pos_tags_concat):\n",
    "    s,e = entity_span\n",
    "#     print(s, e)\n",
    "#     print(pos_tags_concat)\n",
    "    if e>len(pos_tags_concat):\n",
    "        return True\n",
    "\n",
    "    entity_name_recon_set = set(\n",
    "        [pos_tags_concat[i][0].lower() for i in range(s,e)])\n",
    "    entity_npc_set = set(entity_npc.lower().split(' '))\n",
    "#     print(entity_npc_set, entity_name_recon_set)\n",
    "    if len(entity_npc_set & entity_name_recon_set)==0:\n",
    "        print(f'{entity_name_recon_set} : {entity_npc_set}')\n",
    "        return True\n",
    "\n",
    "    #print(f'{entity_name_recon_set} : {entity_npc_set}')\n",
    "    return False"
   ]
  },
  {
   "cell_type": "code",
   "execution_count": 931,
   "metadata": {
    "hidden": true,
    "run_control": {
     "frozen": false,
     "read_only": false
    },
    "scrolled": true
   },
   "outputs": [
    {
     "data": {
      "text/plain": [
       "{'coref': [],\n",
       " 'noun_phrase_chunks': {'aligned_description': 'Mr. Slate is wearing a blue hat with horns standing in a room. he looks surprised as he hears something over his walkie talkie.',\n",
       "  'chunks': [[0, 2], [4, 7], [8, 9], [11, 13], [20, 21], [22, 25]],\n",
       "  'named_chunks': ['Mr. Slate',\n",
       "   'a blue hat',\n",
       "   'horns',\n",
       "   'a room',\n",
       "   'something',\n",
       "   'his walkie talkie'],\n",
       "  'token_spans': [('Mr.', 0, 3),\n",
       "   ('Slate', 4, 9),\n",
       "   ('is', 10, 12),\n",
       "   ('wearing', 13, 20),\n",
       "   ('a', 21, 22),\n",
       "   ('blue', 23, 27),\n",
       "   ('hat', 28, 31),\n",
       "   ('with', 32, 36),\n",
       "   ('horns', 37, 42),\n",
       "   ('standing', 43, 51),\n",
       "   ('in', 52, 54),\n",
       "   ('a', 55, 56),\n",
       "   ('room', 57, 61),\n",
       "   ('.', 61, 62),\n",
       "   ('he', 63, 65),\n",
       "   ('looks', 66, 71),\n",
       "   ('surprised', 72, 81),\n",
       "   ('as', 82, 84),\n",
       "   ('he', 85, 87),\n",
       "   ('hears', 88, 93),\n",
       "   ('something', 94, 103),\n",
       "   ('over', 104, 108),\n",
       "   ('his', 109, 112),\n",
       "   ('walkie', 113, 119),\n",
       "   ('talkie', 120, 126),\n",
       "   ('.', 126, 127)]},\n",
       " 'pos_tags': [('Mr.', 'NNP'),\n",
       "  ('Slate', 'NNP'),\n",
       "  ('is', 'VBZ'),\n",
       "  ('wearing', 'VBG'),\n",
       "  ('a', 'DT'),\n",
       "  ('blue', 'JJ'),\n",
       "  ('hat', 'NN'),\n",
       "  ('with', 'IN'),\n",
       "  ('horns', 'NNS'),\n",
       "  ('standing', 'VBG'),\n",
       "  ('in', 'IN'),\n",
       "  ('a', 'DT'),\n",
       "  ('room', 'NN'),\n",
       "  ('.', '.'),\n",
       "  ('he', 'PRP'),\n",
       "  ('looks', 'VBZ'),\n",
       "  ('surprised', 'JJ'),\n",
       "  ('as', 'IN'),\n",
       "  ('he', 'PRP'),\n",
       "  ('hears', 'VBZ'),\n",
       "  ('something', 'NN'),\n",
       "  ('over', 'IN'),\n",
       "  ('his', 'PRP$'),\n",
       "  ('walkie', 'JJ'),\n",
       "  ('talkie', 'NN'),\n",
       "  ('.', '.')]}"
      ]
     },
     "execution_count": 931,
     "metadata": {},
     "output_type": "execute_result"
    }
   ],
   "source": [
    "test_vid.data()['parse']"
   ]
  },
  {
   "cell_type": "code",
   "execution_count": 932,
   "metadata": {
    "hidden": true,
    "run_control": {
     "frozen": false,
     "read_only": false
    }
   },
   "outputs": [],
   "source": [
    "from fuzzywuzzy import fuzz"
   ]
  },
  {
   "cell_type": "code",
   "execution_count": 936,
   "metadata": {
    "hidden": true,
    "run_control": {
     "frozen": false,
     "read_only": false
    }
   },
   "outputs": [
    {
     "data": {
      "text/plain": [
       "100"
      ]
     },
     "execution_count": 936,
     "metadata": {},
     "output_type": "execute_result"
    }
   ],
   "source": [
    "fuzz.token_set_ratio('mr slate', 'mr. slate')"
   ]
  },
  {
   "cell_type": "code",
   "execution_count": 953,
   "metadata": {
    "hidden": true,
    "run_control": {
     "frozen": false,
     "read_only": false
    }
   },
   "outputs": [
    {
     "data": {
      "text/plain": [
       "40"
      ]
     },
     "execution_count": 953,
     "metadata": {},
     "output_type": "execute_result"
    }
   ],
   "source": [
    "fuzz.token_set_ratio('fred', 'barney')"
   ]
  },
  {
   "cell_type": "code",
   "execution_count": 958,
   "metadata": {
    "hidden": true,
    "run_control": {
     "frozen": false,
     "read_only": false
    }
   },
   "outputs": [],
   "source": [
    "test_vid.assign_ent_npcs(test_vid._data['objects'], False)\n",
    "test_vid.assign_ent_npcs(test_vid._data['characters'], True)"
   ]
  },
  {
   "cell_type": "code",
   "execution_count": null,
   "metadata": {
    "hidden": true,
    "run_control": {
     "frozen": false,
     "read_only": false
    }
   },
   "outputs": [],
   "source": []
  },
  {
   "cell_type": "code",
   "execution_count": 955,
   "metadata": {
    "hidden": true,
    "run_control": {
     "frozen": false,
     "read_only": false
    },
    "scrolled": false
   },
   "outputs": [
    {
     "data": {
      "text/plain": [
       "{\n",
       "    \"characters\": [\n",
       "        {\n",
       "            \"entityLabel\": \"fred\",\n",
       "            \"entitySpan\": [\n",
       "                0,\n",
       "                1\n",
       "            ],\n",
       "            \"globalID\": \"s_04_e_20_shot_010151_010225_char_0\",\n",
       "            \"labelNPC\": \"fred\",\n",
       "            \"rectangles\": [\n",
       "                [\n",
       "                    119,\n",
       "                    49,\n",
       "                    304,\n",
       "                    419\n",
       "                ],\n",
       "                [\n",
       "                    128,\n",
       "                    54,\n",
       "                    302,\n",
       "                    421\n",
       "                ],\n",
       "                [\n",
       "                    130,\n",
       "                    54,\n",
       "                    303,\n",
       "                    422\n",
       "                ]\n",
       "            ]\n",
       "        },\n",
       "        {\n",
       "            \"entityLabel\": \"barney\",\n",
       "            \"entitySpan\": [\n",
       "                2,\n",
       "                3\n",
       "            ],\n",
       "            \"globalID\": \"s_04_e_20_shot_010151_010225_char_1\",\n",
       "            \"labelNPC\": \"barney\",\n",
       "            \"rectangles\": [\n",
       "                [\n",
       "                    345,\n",
       "                    154,\n",
       "                    501,\n",
       "                    434\n",
       "                ],\n",
       "                [\n",
       "                    334,\n",
       "                    159,\n",
       "                    479,\n",
       "                    431\n",
       "                ],\n",
       "                [\n",
       "                    333,\n",
       "                    137,\n",
       "                    497,\n",
       "                    440\n",
       "                ]\n",
       "            ]\n",
       "        }\n",
       "    ],\n",
       "    \"description\": \"Fred and Barney are standing in the living room. Fred speaks and turn his head toward Barney. Then Barney speaks.\",\n",
       "    \"globalID\": \"s_04_e_20_shot_010151_010225\",\n",
       "    \"keyFrames\": [\n",
       "        \"s_04_e_20_shot_010151_010225_10.png\",\n",
       "        \"s_04_e_20_shot_010151_010225_40.png\",\n",
       "        \"s_04_e_20_shot_010151_010225_70.png\"\n",
       "    ],\n",
       "    \"objects\": [],\n",
       "    \"parse\": {\n",
       "        \"noun_phrase_chunks\": {\n",
       "            \"aligned_description\": \"Fred and Barney are standing in the living room. Fred speaks and turn his head toward Barney. Then Barney speaks.\",\n",
       "            \"chunks\": [\n",
       "                [\n",
       "                    0,\n",
       "                    1\n",
       "                ],\n",
       "                [\n",
       "                    2,\n",
       "                    3\n",
       "                ],\n",
       "                [\n",
       "                    6,\n",
       "                    9\n",
       "                ],\n",
       "                [\n",
       "                    10,\n",
       "                    11\n",
       "                ],\n",
       "                [\n",
       "                    14,\n",
       "                    16\n",
       "                ],\n",
       "                [\n",
       "                    17,\n",
       "                    18\n",
       "                ],\n",
       "                [\n",
       "                    20,\n",
       "                    21\n",
       "                ]\n",
       "            ],\n",
       "            \"named_chunks\": [\n",
       "                \"Fred\",\n",
       "                \"Barney\",\n",
       "                \"the living room\",\n",
       "                \"Fred\",\n",
       "                \"his head\",\n",
       "                \"Barney\",\n",
       "                \"Barney\"\n",
       "            ],\n",
       "            \"token_spans\": [\n",
       "                [\n",
       "                    \"Fred\",\n",
       "                    0,\n",
       "                    4\n",
       "                ],\n",
       "                [\n",
       "                    \"and\",\n",
       "                    5,\n",
       "                    8\n",
       "                ],\n",
       "                [\n",
       "                    \"Barney\",\n",
       "                    9,\n",
       "                    15\n",
       "                ],\n",
       "                [\n",
       "                    \"are\",\n",
       "                    16,\n",
       "                    19\n",
       "                ],\n",
       "                [\n",
       "                    \"standing\",\n",
       "                    20,\n",
       "                    28\n",
       "                ],\n",
       "                [\n",
       "                    \"in\",\n",
       "                    29,\n",
       "                    31\n",
       "                ],\n",
       "                [\n",
       "                    \"the\",\n",
       "                    32,\n",
       "                    35\n",
       "                ],\n",
       "                [\n",
       "                    \"living\",\n",
       "                    36,\n",
       "                    42\n",
       "                ],\n",
       "                [\n",
       "                    \"room\",\n",
       "                    43,\n",
       "                    47\n",
       "                ],\n",
       "                [\n",
       "                    \".\",\n",
       "                    47,\n",
       "                    48\n",
       "                ],\n",
       "                [\n",
       "                    \"Fred\",\n",
       "                    49,\n",
       "                    53\n",
       "                ],\n",
       "                [\n",
       "                    \"speaks\",\n",
       "                    54,\n",
       "                    60\n",
       "                ],\n",
       "                [\n",
       "                    \"and\",\n",
       "                    61,\n",
       "                    64\n",
       "                ],\n",
       "                [\n",
       "                    \"turn\",\n",
       "                    65,\n",
       "                    69\n",
       "                ],\n",
       "                [\n",
       "                    \"his\",\n",
       "                    70,\n",
       "                    73\n",
       "                ],\n",
       "                [\n",
       "                    \"head\",\n",
       "                    74,\n",
       "                    78\n",
       "                ],\n",
       "                [\n",
       "                    \"toward\",\n",
       "                    79,\n",
       "                    85\n",
       "                ],\n",
       "                [\n",
       "                    \"Barney\",\n",
       "                    86,\n",
       "                    92\n",
       "                ],\n",
       "                [\n",
       "                    \".\",\n",
       "                    92,\n",
       "                    93\n",
       "                ],\n",
       "                [\n",
       "                    \"Then\",\n",
       "                    94,\n",
       "                    98\n",
       "                ],\n",
       "                [\n",
       "                    \"Barney\",\n",
       "                    99,\n",
       "                    105\n",
       "                ],\n",
       "                [\n",
       "                    \"speaks\",\n",
       "                    106,\n",
       "                    112\n",
       "                ],\n",
       "                [\n",
       "                    \".\",\n",
       "                    112,\n",
       "                    113\n",
       "                ]\n",
       "            ]\n",
       "        },\n",
       "        \"pos_tags\": [\n",
       "            [\n",
       "                \"Fred\",\n",
       "                \"NNP\"\n",
       "            ],\n",
       "            [\n",
       "                \"and\",\n",
       "                \"CC\"\n",
       "            ],\n",
       "            [\n",
       "                \"Barney\",\n",
       "                \"NNP\"\n",
       "            ],\n",
       "            [\n",
       "                \"are\",\n",
       "                \"VBP\"\n",
       "            ],\n",
       "            [\n",
       "                \"standing\",\n",
       "                \"VBG\"\n",
       "            ],\n",
       "            [\n",
       "                \"in\",\n",
       "                \"IN\"\n",
       "            ],\n",
       "            [\n",
       "                \"the\",\n",
       "                \"DT\"\n",
       "            ],\n",
       "            [\n",
       "                \"living\",\n",
       "                \"NN\"\n",
       "            ],\n",
       "            [\n",
       "                \"room\",\n",
       "                \"NN\"\n",
       "            ],\n",
       "            [\n",
       "                \".\",\n",
       "                \".\"\n",
       "            ],\n",
       "            [\n",
       "                \"Fred\",\n",
       "                \"NNP\"\n",
       "            ],\n",
       "            [\n",
       "                \"speaks\",\n",
       "                \"VBZ\"\n",
       "            ],\n",
       "            [\n",
       "                \"and\",\n",
       "                \"CC\"\n",
       "            ],\n",
       "            [\n",
       "                \"turn\",\n",
       "                \"VB\"\n",
       "            ],\n",
       "            [\n",
       "                \"his\",\n",
       "                \"PRP$\"\n",
       "            ],\n",
       "            [\n",
       "                \"head\",\n",
       "                \"NN\"\n",
       "            ],\n",
       "            [\n",
       "                \"toward\",\n",
       "                \"IN\"\n",
       "            ],\n",
       "            [\n",
       "                \"Barney\",\n",
       "                \"NNP\"\n",
       "            ],\n",
       "            [\n",
       "                \".\",\n",
       "                \".\"\n",
       "            ],\n",
       "            [\n",
       "                \"Then\",\n",
       "                \"RB\"\n",
       "            ],\n",
       "            [\n",
       "                \"Barney\",\n",
       "                \"NNP\"\n",
       "            ],\n",
       "            [\n",
       "                \"speaks\",\n",
       "                \"VBZ\"\n",
       "            ],\n",
       "            [\n",
       "                \".\",\n",
       "                \".\"\n",
       "            ]\n",
       "        ]\n",
       "    },\n",
       "    \"setting\": \"living room\",\n",
       "    \"status\": {\n",
       "        \"go\": true,\n",
       "        \"reason\": \"\",\n",
       "        \"stage\": \"stage_4b- no objects\"\n",
       "    }\n",
       "}"
      ]
     },
     "execution_count": 955,
     "metadata": {},
     "output_type": "execute_result"
    }
   ],
   "source": [
    "test_vid"
   ]
  },
  {
   "cell_type": "code",
   "execution_count": 888,
   "metadata": {
    "hidden": true,
    "run_control": {
     "frozen": false,
     "read_only": false
    }
   },
   "outputs": [],
   "source": [
    "def sanitize_text(d_text):\n",
    "    import re\n",
    "    d_text = ' '.join(d_text.split())\n",
    "    d_text = re.sub(r'([a-z])\\.([A-Z])', r'\\1. \\2', d_text)\n",
    "    return d_text"
   ]
  },
  {
   "cell_type": "code",
   "execution_count": 889,
   "metadata": {
    "hidden": true,
    "run_control": {
     "frozen": false,
     "read_only": false
    }
   },
   "outputs": [
    {
     "data": {
      "text/plain": [
       "[]"
      ]
     },
     "execution_count": 889,
     "metadata": {},
     "output_type": "execute_result"
    }
   ],
   "source": [
    "test_parse['pos_tags'][14:15]"
   ]
  },
  {
   "cell_type": "code",
   "execution_count": 890,
   "metadata": {
    "hidden": true,
    "run_control": {
     "frozen": false,
     "read_only": false
    }
   },
   "outputs": [
    {
     "data": {
      "text/plain": [
       "{'coref': [],\n",
       " 'noun_phrase_chunks': {'aligned_description': 'Fred is begging Barney for something on the road outside a hotel.',\n",
       "  'chunks': [[0, 1], [3, 4], [5, 6], [7, 9], [10, 12]],\n",
       "  'named_chunks': ['Fred', 'Barney', 'something', 'the road', 'a hotel'],\n",
       "  'token_spans': [('Fred', 0, 4),\n",
       "   ('is', 5, 7),\n",
       "   ('begging', 8, 15),\n",
       "   ('Barney', 16, 22),\n",
       "   ('for', 23, 26),\n",
       "   ('something', 27, 36),\n",
       "   ('on', 37, 39),\n",
       "   ('the', 40, 43),\n",
       "   ('road', 44, 48),\n",
       "   ('outside', 49, 56),\n",
       "   ('a', 57, 58),\n",
       "   ('hotel', 59, 64),\n",
       "   ('.', 64, 65)]},\n",
       " 'pos_tags': [('Fred', 'NNP'),\n",
       "  ('is', 'VBZ'),\n",
       "  ('begging', 'VBG'),\n",
       "  ('Barney', 'NNP'),\n",
       "  ('for', 'IN'),\n",
       "  ('something', 'NN'),\n",
       "  ('on', 'IN'),\n",
       "  ('the', 'DT'),\n",
       "  ('road', 'NN'),\n",
       "  ('outside', 'IN'),\n",
       "  ('a', 'DT'),\n",
       "  ('hotel', 'NN'),\n",
       "  ('.', '.')]}"
      ]
     },
     "execution_count": 890,
     "metadata": {},
     "output_type": "execute_result"
    }
   ],
   "source": [
    "test_parse"
   ]
  },
  {
   "cell_type": "code",
   "execution_count": 891,
   "metadata": {
    "hidden": true,
    "run_control": {
     "frozen": false,
     "read_only": false
    }
   },
   "outputs": [
    {
     "data": {
      "text/plain": [
       "[('for', 'IN')]"
      ]
     },
     "execution_count": 891,
     "metadata": {},
     "output_type": "execute_result"
    }
   ],
   "source": [
    "test_parse['pos_tags'][4: 5]"
   ]
  },
  {
   "cell_type": "code",
   "execution_count": 894,
   "metadata": {
    "hidden": true,
    "run_control": {
     "frozen": false,
     "read_only": false
    }
   },
   "outputs": [
    {
     "data": {
      "text/plain": [
       "{\n",
       "    \"characters\": [\n",
       "        {\n",
       "            \"entityLabel\": \"fred\",\n",
       "            \"entitySpan\": [\n",
       "                0,\n",
       "                1\n",
       "            ],\n",
       "            \"globalID\": \"s_03_e_09_shot_018707_018781_char_0\",\n",
       "            \"labelNPC\": \"fred\",\n",
       "            \"rectangles\": [\n",
       "                [\n",
       "                    113,\n",
       "                    133,\n",
       "                    299,\n",
       "                    428\n",
       "                ],\n",
       "                [\n",
       "                    73,\n",
       "                    105,\n",
       "                    287,\n",
       "                    415\n",
       "                ],\n",
       "                [\n",
       "                    97,\n",
       "                    107,\n",
       "                    300,\n",
       "                    441\n",
       "                ]\n",
       "            ]\n",
       "        },\n",
       "        {\n",
       "            \"entityLabel\": \" Barney dressed as a baby\",\n",
       "            \"globalID\": \"s_03_e_09_shot_018707_018781_char_1\",\n",
       "            \"labelNPC\": \"man with white dress\",\n",
       "            \"rectangles\": [\n",
       "                [\n",
       "                    363,\n",
       "                    144,\n",
       "                    516,\n",
       "                    433\n",
       "                ],\n",
       "                [\n",
       "                    363,\n",
       "                    152,\n",
       "                    499,\n",
       "                    432\n",
       "                ],\n",
       "                [\n",
       "                    364,\n",
       "                    142,\n",
       "                    509,\n",
       "                    425\n",
       "                ]\n",
       "            ]\n",
       "        }\n",
       "    ],\n",
       "    \"description\": \"Fred is begging Barney for something on the road outside a hotel.\",\n",
       "    \"globalID\": \"s_03_e_09_shot_018707_018781\",\n",
       "    \"keyFrames\": [\n",
       "        \"s_03_e_09_shot_018707_018781_10.png\",\n",
       "        \"s_03_e_09_shot_018707_018781_40.png\",\n",
       "        \"s_03_e_09_shot_018707_018781_70.png\"\n",
       "    ],\n",
       "    \"objects\": [],\n",
       "    \"parse\": {\n",
       "        \"noun_phrase_chunks\": {\n",
       "            \"aligned_description\": \"Fred is begging Barney for something on the road outside a hotel.\",\n",
       "            \"chunks\": [\n",
       "                [\n",
       "                    0,\n",
       "                    1\n",
       "                ],\n",
       "                [\n",
       "                    3,\n",
       "                    4\n",
       "                ],\n",
       "                [\n",
       "                    5,\n",
       "                    6\n",
       "                ],\n",
       "                [\n",
       "                    7,\n",
       "                    9\n",
       "                ],\n",
       "                [\n",
       "                    10,\n",
       "                    12\n",
       "                ]\n",
       "            ],\n",
       "            \"named_chunks\": [\n",
       "                \"Fred\",\n",
       "                \"Barney\",\n",
       "                \"something\",\n",
       "                \"the road\",\n",
       "                \"a hotel\"\n",
       "            ],\n",
       "            \"token_spans\": [\n",
       "                [\n",
       "                    \"Fred\",\n",
       "                    0,\n",
       "                    4\n",
       "                ],\n",
       "                [\n",
       "                    \"is\",\n",
       "                    5,\n",
       "                    7\n",
       "                ],\n",
       "                [\n",
       "                    \"begging\",\n",
       "                    8,\n",
       "                    15\n",
       "                ],\n",
       "                [\n",
       "                    \"Barney\",\n",
       "                    16,\n",
       "                    22\n",
       "                ],\n",
       "                [\n",
       "                    \"for\",\n",
       "                    23,\n",
       "                    26\n",
       "                ],\n",
       "                [\n",
       "                    \"something\",\n",
       "                    27,\n",
       "                    36\n",
       "                ],\n",
       "                [\n",
       "                    \"on\",\n",
       "                    37,\n",
       "                    39\n",
       "                ],\n",
       "                [\n",
       "                    \"the\",\n",
       "                    40,\n",
       "                    43\n",
       "                ],\n",
       "                [\n",
       "                    \"road\",\n",
       "                    44,\n",
       "                    48\n",
       "                ],\n",
       "                [\n",
       "                    \"outside\",\n",
       "                    49,\n",
       "                    56\n",
       "                ],\n",
       "                [\n",
       "                    \"a\",\n",
       "                    57,\n",
       "                    58\n",
       "                ],\n",
       "                [\n",
       "                    \"hotel\",\n",
       "                    59,\n",
       "                    64\n",
       "                ],\n",
       "                [\n",
       "                    \".\",\n",
       "                    64,\n",
       "                    65\n",
       "                ]\n",
       "            ]\n",
       "        },\n",
       "        \"pos_tags\": [\n",
       "            [\n",
       "                \"Fred\",\n",
       "                \"NNP\"\n",
       "            ],\n",
       "            [\n",
       "                \"is\",\n",
       "                \"VBZ\"\n",
       "            ],\n",
       "            [\n",
       "                \"begging\",\n",
       "                \"VBG\"\n",
       "            ],\n",
       "            [\n",
       "                \"Barney\",\n",
       "                \"NNP\"\n",
       "            ],\n",
       "            [\n",
       "                \"for\",\n",
       "                \"IN\"\n",
       "            ],\n",
       "            [\n",
       "                \"something\",\n",
       "                \"NN\"\n",
       "            ],\n",
       "            [\n",
       "                \"on\",\n",
       "                \"IN\"\n",
       "            ],\n",
       "            [\n",
       "                \"the\",\n",
       "                \"DT\"\n",
       "            ],\n",
       "            [\n",
       "                \"road\",\n",
       "                \"NN\"\n",
       "            ],\n",
       "            [\n",
       "                \"outside\",\n",
       "                \"IN\"\n",
       "            ],\n",
       "            [\n",
       "                \"a\",\n",
       "                \"DT\"\n",
       "            ],\n",
       "            [\n",
       "                \"hotel\",\n",
       "                \"NN\"\n",
       "            ],\n",
       "            [\n",
       "                \".\",\n",
       "                \".\"\n",
       "            ]\n",
       "        ]\n",
       "    },\n",
       "    \"setting\": \"road\",\n",
       "    \"status\": {\n",
       "        \"go\": true,\n",
       "        \"reason\": \"\",\n",
       "        \"stage\": \"stage_4b- no objects\"\n",
       "    }\n",
       "}"
      ]
     },
     "execution_count": 894,
     "metadata": {},
     "output_type": "execute_result"
    }
   ],
   "source": [
    "test_vid"
   ]
  },
  {
   "cell_type": "code",
   "execution_count": 892,
   "metadata": {
    "hidden": true,
    "run_control": {
     "frozen": false,
     "read_only": false
    }
   },
   "outputs": [
    {
     "data": {
      "text/plain": [
       "[('hotel', 'NN')]"
      ]
     },
     "execution_count": 892,
     "metadata": {},
     "output_type": "execute_result"
    }
   ],
   "source": [
    "vid_pos_tags[11:12]"
   ]
  },
  {
   "cell_type": "code",
   "execution_count": 893,
   "metadata": {
    "hidden": true,
    "run_control": {
     "frozen": false,
     "read_only": false
    }
   },
   "outputs": [
    {
     "ename": "KeyError",
     "evalue": "'entitySpan'",
     "output_type": "error",
     "traceback": [
      "\u001b[0;31m---------------------------------------------------------------------------\u001b[0m",
      "\u001b[0;31mKeyError\u001b[0m                                  Traceback (most recent call last)",
      "\u001b[0;32m<ipython-input-893-54b714f43b0a>\u001b[0m in \u001b[0;36m<module>\u001b[0;34m()\u001b[0m\n\u001b[1;32m      1\u001b[0m \u001b[0;32mfor\u001b[0m \u001b[0ment\u001b[0m \u001b[0;32min\u001b[0m \u001b[0mtest_vid\u001b[0m\u001b[0;34m.\u001b[0m\u001b[0mdata\u001b[0m\u001b[0;34m(\u001b[0m\u001b[0;34m)\u001b[0m\u001b[0;34m[\u001b[0m\u001b[0;34m'characters'\u001b[0m\u001b[0;34m]\u001b[0m \u001b[0;34m+\u001b[0m \u001b[0mtest_vid\u001b[0m\u001b[0;34m.\u001b[0m\u001b[0mdata\u001b[0m\u001b[0;34m(\u001b[0m\u001b[0;34m)\u001b[0m\u001b[0;34m[\u001b[0m\u001b[0;34m'objects'\u001b[0m\u001b[0;34m]\u001b[0m\u001b[0;34m:\u001b[0m\u001b[0;34m\u001b[0m\u001b[0m\n\u001b[1;32m      2\u001b[0m     \u001b[0mlnpc\u001b[0m \u001b[0;34m=\u001b[0m \u001b[0ment\u001b[0m\u001b[0;34m.\u001b[0m\u001b[0mdata\u001b[0m\u001b[0;34m(\u001b[0m\u001b[0;34m)\u001b[0m\u001b[0;34m[\u001b[0m\u001b[0;34m'labelNPC'\u001b[0m\u001b[0;34m]\u001b[0m\u001b[0;34m\u001b[0m\u001b[0m\n\u001b[0;32m----> 3\u001b[0;31m     \u001b[0mentspan\u001b[0m \u001b[0;34m=\u001b[0m \u001b[0ment\u001b[0m\u001b[0;34m.\u001b[0m\u001b[0mdata\u001b[0m\u001b[0;34m(\u001b[0m\u001b[0;34m)\u001b[0m\u001b[0;34m[\u001b[0m\u001b[0;34m'entitySpan'\u001b[0m\u001b[0;34m]\u001b[0m\u001b[0;34m\u001b[0m\u001b[0m\n\u001b[0m\u001b[1;32m      4\u001b[0m     \u001b[0mentlabel\u001b[0m \u001b[0;34m=\u001b[0m \u001b[0ment\u001b[0m\u001b[0;34m.\u001b[0m\u001b[0mdata\u001b[0m\u001b[0;34m(\u001b[0m\u001b[0;34m)\u001b[0m\u001b[0;34m[\u001b[0m\u001b[0;34m'entityLabel'\u001b[0m\u001b[0;34m]\u001b[0m\u001b[0;34m\u001b[0m\u001b[0m\n\u001b[1;32m      5\u001b[0m     \u001b[0mare_entity_pos_misaligned\u001b[0m\u001b[0;34m(\u001b[0m\u001b[0mlnpc\u001b[0m\u001b[0;34m,\u001b[0m \u001b[0mentspan\u001b[0m\u001b[0;34m,\u001b[0m \u001b[0mvid_pos_tags\u001b[0m\u001b[0;34m)\u001b[0m\u001b[0;34m\u001b[0m\u001b[0m\n",
      "\u001b[0;31mKeyError\u001b[0m: 'entitySpan'"
     ]
    }
   ],
   "source": [
    "for ent in test_vid.data()['characters'] + test_vid.data()['objects']:\n",
    "    lnpc = ent.data()['labelNPC']\n",
    "    entspan = ent.data()['entitySpan']\n",
    "    entlabel = ent.data()['entityLabel']\n",
    "    are_entity_pos_misaligned(lnpc, entspan, vid_pos_tags)"
   ]
  },
  {
   "cell_type": "code",
   "execution_count": 621,
   "metadata": {
    "hidden": true,
    "run_control": {
     "frozen": false,
     "read_only": false
    }
   },
   "outputs": [
    {
     "data": {
      "text/plain": [
       "{\n",
       "    \"characters\": [\n",
       "        {\n",
       "            \"entityLabel\": \"fred\",\n",
       "            \"entitySpan\": [\n",
       "                0,\n",
       "                1\n",
       "            ],\n",
       "            \"globalID\": \"s_06_e_18_shot_002889_002963_char_0\",\n",
       "            \"labelNPC\": \"fred\",\n",
       "            \"rectangles\": [\n",
       "                [\n",
       "                    403,\n",
       "                    35,\n",
       "                    573,\n",
       "                    336\n",
       "                ],\n",
       "                [\n",
       "                    380,\n",
       "                    76,\n",
       "                    591,\n",
       "                    353\n",
       "                ],\n",
       "                [\n",
       "                    405,\n",
       "                    62,\n",
       "                    581,\n",
       "                    362\n",
       "                ]\n",
       "            ]\n",
       "        },\n",
       "        {\n",
       "            \"entityLabel\": \"barney\",\n",
       "            \"entitySpan\": [\n",
       "                2,\n",
       "                3\n",
       "            ],\n",
       "            \"globalID\": \"s_06_e_18_shot_002889_002963_char_1\",\n",
       "            \"labelNPC\": \"barney\",\n",
       "            \"rectangles\": [\n",
       "                [\n",
       "                    112,\n",
       "                    267,\n",
       "                    279,\n",
       "                    439\n",
       "                ],\n",
       "                [\n",
       "                    109,\n",
       "                    264,\n",
       "                    285,\n",
       "                    425\n",
       "                ],\n",
       "                [\n",
       "                    115,\n",
       "                    267,\n",
       "                    280,\n",
       "                    436\n",
       "                ]\n",
       "            ]\n",
       "        }\n",
       "    ],\n",
       "    \"description\": \"Fred and Barney are both in the living room. Barney is sitting on the couch while Fred is standing up about to turn on the TV.\",\n",
       "    \"globalID\": \"s_06_e_18_shot_002889_002963\",\n",
       "    \"keyFrames\": [\n",
       "        \"s_06_e_18_shot_002889_002963_10.png\",\n",
       "        \"s_06_e_18_shot_002889_002963_40.png\",\n",
       "        \"s_06_e_18_shot_002889_002963_70.png\"\n",
       "    ],\n",
       "    \"objects\": [\n",
       "        {\n",
       "            \"entityLabel\": \"couch\",\n",
       "            \"entitySpan\": [\n",
       "                14,\n",
       "                16\n",
       "            ],\n",
       "            \"globalID\": \"s_06_e_18_shot_002889_002963_couch_1_5\",\n",
       "            \"labelNPC\": \"the couch\",\n",
       "            \"labelSpan\": [\n",
       "                1,\n",
       "                5\n",
       "            ],\n",
       "            \"localID\": \"couch_1_5\",\n",
       "            \"rectangles\": [\n",
       "                [\n",
       "                    7,\n",
       "                    410,\n",
       "                    639,\n",
       "                    480\n",
       "                ],\n",
       "                [\n",
       "                    3,\n",
       "                    412,\n",
       "                    639,\n",
       "                    480\n",
       "                ],\n",
       "                [\n",
       "                    5,\n",
       "                    412,\n",
       "                    640,\n",
       "                    480\n",
       "                ]\n",
       "            ]\n",
       "        },\n",
       "        {\n",
       "            \"entityLabel\": \"TV\",\n",
       "            \"globalID\": \"s_06_e_18_shot_002889_002963_TV_1_16\",\n",
       "            \"labelNPC\": \"TV\",\n",
       "            \"labelSpan\": [\n",
       "                1,\n",
       "                16\n",
       "            ],\n",
       "            \"localID\": \"TV_1_16\",\n",
       "            \"rectangles\": [\n",
       "                [],\n",
       "                [],\n",
       "                []\n",
       "            ]\n",
       "        }\n",
       "    ],\n",
       "    \"parse\": {\n",
       "        \"coref\": [],\n",
       "        \"noun_phrase_chunks\": {\n",
       "            \"aligned_description\": \"Fred and Barney are both in the living room. Barney is sitting on the couch while Fred is standing up about to turn on the TV.\",\n",
       "            \"chunks\": [\n",
       "                [\n",
       "                    0,\n",
       "                    1\n",
       "                ],\n",
       "                [\n",
       "                    2,\n",
       "                    3\n",
       "                ],\n",
       "                [\n",
       "                    6,\n",
       "                    9\n",
       "                ],\n",
       "                [\n",
       "                    10,\n",
       "                    11\n",
       "                ],\n",
       "                [\n",
       "                    14,\n",
       "                    16\n",
       "                ],\n",
       "                [\n",
       "                    17,\n",
       "                    18\n",
       "                ],\n",
       "                [\n",
       "                    25,\n",
       "                    27\n",
       "                ]\n",
       "            ],\n",
       "            \"named_chunks\": [\n",
       "                \"Fred\",\n",
       "                \"Barney\",\n",
       "                \"the living room\",\n",
       "                \"Barney\",\n",
       "                \"the couch\",\n",
       "                \"Fred\",\n",
       "                \"the TV\"\n",
       "            ],\n",
       "            \"token_spans\": [\n",
       "                [\n",
       "                    \"Fred\",\n",
       "                    0,\n",
       "                    4\n",
       "                ],\n",
       "                [\n",
       "                    \"and\",\n",
       "                    5,\n",
       "                    8\n",
       "                ],\n",
       "                [\n",
       "                    \"Barney\",\n",
       "                    9,\n",
       "                    15\n",
       "                ],\n",
       "                [\n",
       "                    \"are\",\n",
       "                    16,\n",
       "                    19\n",
       "                ],\n",
       "                [\n",
       "                    \"both\",\n",
       "                    20,\n",
       "                    24\n",
       "                ],\n",
       "                [\n",
       "                    \"in\",\n",
       "                    25,\n",
       "                    27\n",
       "                ],\n",
       "                [\n",
       "                    \"the\",\n",
       "                    28,\n",
       "                    31\n",
       "                ],\n",
       "                [\n",
       "                    \"living\",\n",
       "                    32,\n",
       "                    38\n",
       "                ],\n",
       "                [\n",
       "                    \"room\",\n",
       "                    39,\n",
       "                    43\n",
       "                ],\n",
       "                [\n",
       "                    \".\",\n",
       "                    43,\n",
       "                    44\n",
       "                ],\n",
       "                [\n",
       "                    \"Barney\",\n",
       "                    45,\n",
       "                    51\n",
       "                ],\n",
       "                [\n",
       "                    \"is\",\n",
       "                    52,\n",
       "                    54\n",
       "                ],\n",
       "                [\n",
       "                    \"sitting\",\n",
       "                    55,\n",
       "                    62\n",
       "                ],\n",
       "                [\n",
       "                    \"on\",\n",
       "                    63,\n",
       "                    65\n",
       "                ],\n",
       "                [\n",
       "                    \"the\",\n",
       "                    66,\n",
       "                    69\n",
       "                ],\n",
       "                [\n",
       "                    \"couch\",\n",
       "                    70,\n",
       "                    75\n",
       "                ],\n",
       "                [\n",
       "                    \"while\",\n",
       "                    76,\n",
       "                    81\n",
       "                ],\n",
       "                [\n",
       "                    \"Fred\",\n",
       "                    82,\n",
       "                    86\n",
       "                ],\n",
       "                [\n",
       "                    \"is\",\n",
       "                    87,\n",
       "                    89\n",
       "                ],\n",
       "                [\n",
       "                    \"standing\",\n",
       "                    90,\n",
       "                    98\n",
       "                ],\n",
       "                [\n",
       "                    \"up\",\n",
       "                    99,\n",
       "                    101\n",
       "                ],\n",
       "                [\n",
       "                    \"about\",\n",
       "                    102,\n",
       "                    107\n",
       "                ],\n",
       "                [\n",
       "                    \"to\",\n",
       "                    108,\n",
       "                    110\n",
       "                ],\n",
       "                [\n",
       "                    \"turn\",\n",
       "                    111,\n",
       "                    115\n",
       "                ],\n",
       "                [\n",
       "                    \"on\",\n",
       "                    116,\n",
       "                    118\n",
       "                ],\n",
       "                [\n",
       "                    \"the\",\n",
       "                    119,\n",
       "                    122\n",
       "                ],\n",
       "                [\n",
       "                    \"TV\",\n",
       "                    123,\n",
       "                    125\n",
       "                ],\n",
       "                [\n",
       "                    \".\",\n",
       "                    125,\n",
       "                    126\n",
       "                ]\n",
       "            ]\n",
       "        },\n",
       "        \"pos_tags\": [\n",
       "            [\n",
       "                \"Fred\",\n",
       "                \"NNP\"\n",
       "            ],\n",
       "            [\n",
       "                \"and\",\n",
       "                \"CC\"\n",
       "            ],\n",
       "            [\n",
       "                \"Barney\",\n",
       "                \"NNP\"\n",
       "            ],\n",
       "            [\n",
       "                \"are\",\n",
       "                \"VBP\"\n",
       "            ],\n",
       "            [\n",
       "                \"both\",\n",
       "                \"DT\"\n",
       "            ],\n",
       "            [\n",
       "                \"in\",\n",
       "                \"IN\"\n",
       "            ],\n",
       "            [\n",
       "                \"the\",\n",
       "                \"DT\"\n",
       "            ],\n",
       "            [\n",
       "                \"living\",\n",
       "                \"NN\"\n",
       "            ],\n",
       "            [\n",
       "                \"room\",\n",
       "                \"NN\"\n",
       "            ],\n",
       "            [\n",
       "                \".\",\n",
       "                \".\"\n",
       "            ],\n",
       "            [\n",
       "                \"Barney\",\n",
       "                \"NNP\"\n",
       "            ],\n",
       "            [\n",
       "                \"is\",\n",
       "                \"VBZ\"\n",
       "            ],\n",
       "            [\n",
       "                \"sitting\",\n",
       "                \"VBG\"\n",
       "            ],\n",
       "            [\n",
       "                \"on\",\n",
       "                \"IN\"\n",
       "            ],\n",
       "            [\n",
       "                \"the\",\n",
       "                \"DT\"\n",
       "            ],\n",
       "            [\n",
       "                \"couch\",\n",
       "                \"NN\"\n",
       "            ],\n",
       "            [\n",
       "                \"while\",\n",
       "                \"IN\"\n",
       "            ],\n",
       "            [\n",
       "                \"Fred\",\n",
       "                \"NNP\"\n",
       "            ],\n",
       "            [\n",
       "                \"is\",\n",
       "                \"VBZ\"\n",
       "            ],\n",
       "            [\n",
       "                \"standing\",\n",
       "                \"VBG\"\n",
       "            ],\n",
       "            [\n",
       "                \"up\",\n",
       "                \"RP\"\n",
       "            ],\n",
       "            [\n",
       "                \"about\",\n",
       "                \"IN\"\n",
       "            ],\n",
       "            [\n",
       "                \"to\",\n",
       "                \"TO\"\n",
       "            ],\n",
       "            [\n",
       "                \"turn\",\n",
       "                \"VB\"\n",
       "            ],\n",
       "            [\n",
       "                \"on\",\n",
       "                \"RP\"\n",
       "            ],\n",
       "            [\n",
       "                \"the\",\n",
       "                \"DT\"\n",
       "            ],\n",
       "            [\n",
       "                \"TV\",\n",
       "                \"NN\"\n",
       "            ],\n",
       "            [\n",
       "                \".\",\n",
       "                \".\"\n",
       "            ]\n",
       "        ]\n",
       "    },\n",
       "    \"setting\": \"living room\",\n",
       "    \"status\": {\n",
       "        \"go\": true,\n",
       "        \"reason\": \"\",\n",
       "        \"stage\": \"stage_4b- objects\"\n",
       "    }\n",
       "}"
      ]
     },
     "execution_count": 621,
     "metadata": {},
     "output_type": "execute_result"
    }
   ],
   "source": [
    "test_vid"
   ]
  },
  {
   "cell_type": "code",
   "execution_count": 622,
   "metadata": {
    "hidden": true,
    "run_control": {
     "frozen": false,
     "read_only": false
    }
   },
   "outputs": [],
   "source": [
    "# spacy_doc[11:12]"
   ]
  },
  {
   "cell_type": "code",
   "execution_count": 623,
   "metadata": {
    "hidden": true,
    "run_control": {
     "frozen": false,
     "read_only": false
    }
   },
   "outputs": [
    {
     "data": {
      "text/plain": [
       "['the', 'couch']"
      ]
     },
     "execution_count": 623,
     "metadata": {},
     "output_type": "execute_result"
    }
   ],
   "source": [
    "[vid_pos_tags[i][0].lower() for i in range(*entspan)]"
   ]
  },
  {
   "cell_type": "code",
   "execution_count": 624,
   "metadata": {
    "hidden": true,
    "run_control": {
     "frozen": false,
     "read_only": false
    },
    "scrolled": true
   },
   "outputs": [
    {
     "data": {
      "text/plain": [
       "{'aligned_description': 'Fred and Barney are both in the living room. Barney is sitting on the couch while Fred is standing up about to turn on the TV.',\n",
       " 'chunks': [[0, 1], [2, 3], [6, 9], [10, 11], [14, 16], [17, 18], [25, 27]],\n",
       " 'named_chunks': ['Fred',\n",
       "  'Barney',\n",
       "  'the living room',\n",
       "  'Barney',\n",
       "  'the couch',\n",
       "  'Fred',\n",
       "  'the TV'],\n",
       " 'token_spans': [('Fred', 0, 4),\n",
       "  ('and', 5, 8),\n",
       "  ('Barney', 9, 15),\n",
       "  ('are', 16, 19),\n",
       "  ('both', 20, 24),\n",
       "  ('in', 25, 27),\n",
       "  ('the', 28, 31),\n",
       "  ('living', 32, 38),\n",
       "  ('room', 39, 43),\n",
       "  ('.', 43, 44),\n",
       "  ('Barney', 45, 51),\n",
       "  ('is', 52, 54),\n",
       "  ('sitting', 55, 62),\n",
       "  ('on', 63, 65),\n",
       "  ('the', 66, 69),\n",
       "  ('couch', 70, 75),\n",
       "  ('while', 76, 81),\n",
       "  ('Fred', 82, 86),\n",
       "  ('is', 87, 89),\n",
       "  ('standing', 90, 98),\n",
       "  ('up', 99, 101),\n",
       "  ('about', 102, 107),\n",
       "  ('to', 108, 110),\n",
       "  ('turn', 111, 115),\n",
       "  ('on', 116, 118),\n",
       "  ('the', 119, 122),\n",
       "  ('TV', 123, 125),\n",
       "  ('.', 125, 126)]}"
      ]
     },
     "execution_count": 624,
     "metadata": {},
     "output_type": "execute_result"
    }
   ],
   "source": [
    "vidnpcs"
   ]
  },
  {
   "cell_type": "code",
   "execution_count": 627,
   "metadata": {
    "hidden": true,
    "run_control": {
     "frozen": false,
     "read_only": false
    }
   },
   "outputs": [
    {
     "name": "stdout",
     "output_type": "stream",
     "text": [
      "[17, 18]\n",
      "Fred\n"
     ]
    }
   ],
   "source": [
    "idx = 5\n",
    "print(vidnpcs['chunks'][idx])\n",
    "print(vidnpcs['named_chunks'][idx])"
   ]
  },
  {
   "cell_type": "code",
   "execution_count": 626,
   "metadata": {
    "hidden": true,
    "run_control": {
     "frozen": false,
     "read_only": false
    }
   },
   "outputs": [],
   "source": [
    "doc = nlp(test_vid.description())"
   ]
  },
  {
   "cell_type": "code",
   "execution_count": 1623,
   "metadata": {
    "hidden": true,
    "run_control": {
     "frozen": false,
     "read_only": false
    }
   },
   "outputs": [
    {
     "data": {
      "text/plain": [
       "in"
      ]
     },
     "execution_count": 1623,
     "metadata": {},
     "output_type": "execute_result"
    }
   ],
   "source": [
    "doc[11:12]"
   ]
  },
  {
   "cell_type": "code",
   "execution_count": 2144,
   "metadata": {
    "hidden": true,
    "run_control": {
     "frozen": false,
     "read_only": false
    }
   },
   "outputs": [],
   "source": [
    "test_vid = complete_dataset.get_video('s_01_e_15_shot_028356_028430')"
   ]
  },
  {
   "cell_type": "code",
   "execution_count": 2150,
   "metadata": {
    "hidden": true,
    "run_control": {
     "frozen": false,
     "read_only": false
    }
   },
   "outputs": [
    {
     "data": {
      "text/plain": [
       "'The red-haired businessman, might be accountant is talking on the phone in his office.'"
      ]
     },
     "execution_count": 2150,
     "metadata": {},
     "output_type": "execute_result"
    }
   ],
   "source": [
    "test_vid.description()"
   ]
  },
  {
   "cell_type": "code",
   "execution_count": 903,
   "metadata": {
    "hidden": true,
    "run_control": {
     "frozen": false,
     "read_only": false
    }
   },
   "outputs": [],
   "source": [
    "doc = test_vid.description().replace('fred', 'Fred')"
   ]
  },
  {
   "cell_type": "code",
   "execution_count": 904,
   "metadata": {
    "hidden": true,
    "run_control": {
     "frozen": false,
     "read_only": false
    }
   },
   "outputs": [
    {
     "data": {
      "text/plain": [
       "['In a room fred and betty are talking.']"
      ]
     },
     "execution_count": 904,
     "metadata": {},
     "output_type": "execute_result"
    }
   ],
   "source": [
    "raw_sentences"
   ]
  },
  {
   "cell_type": "code",
   "execution_count": 905,
   "metadata": {
    "hidden": true,
    "run_control": {
     "frozen": false,
     "read_only": false
    }
   },
   "outputs": [],
   "source": [
    "raw_sentences = sentence_splitter.tokenize(doc)\n",
    "sentences = [' '.join([w for w in word_tokenize(s) if set(w) - punct_set]).replace(' .', '.') for s in raw_sentences]\n",
    "# sent_parses = [list(i)[0] for i in core_parser.raw_parse_sents(sentences)]\n",
    "constituent_parse = [list(i)[0] for i in core_parser.raw_parse_sents(sentences)]"
   ]
  },
  {
   "cell_type": "code",
   "execution_count": 906,
   "metadata": {
    "hidden": true,
    "run_control": {
     "frozen": false,
     "read_only": false
    }
   },
   "outputs": [
    {
     "name": "stdout",
     "output_type": "stream",
     "text": [
      "[['In', 'a', 'room', 'Fred', 'and', 'betty', 'are', 'talking', '.']]\n"
     ]
    }
   ],
   "source": [
    "    print([s.leaves() for s in constituent_parse])"
   ]
  },
  {
   "cell_type": "code",
   "execution_count": 909,
   "metadata": {
    "hidden": true,
    "run_control": {
     "frozen": false,
     "read_only": false
    }
   },
   "outputs": [],
   "source": [
    "parse_video(test_vid, nlp, core_parser)"
   ]
  },
  {
   "cell_type": "code",
   "execution_count": 296,
   "metadata": {
    "hidden": true,
    "run_control": {
     "frozen": false,
     "read_only": false
    }
   },
   "outputs": [],
   "source": [
    "from anigen_tools.parsing import extract_np\n",
    "from anigen_tools.parsing import np_chunker"
   ]
  },
  {
   "cell_type": "code",
   "execution_count": 305,
   "metadata": {
    "hidden": true,
    "run_control": {
     "frozen": false,
     "read_only": false
    }
   },
   "outputs": [
    {
     "data": {
      "text/plain": [
       "[['Fred', 'dino', 'wilma', 'the room'], ['Fred', 'a large blue hat']]"
      ]
     },
     "execution_count": 305,
     "metadata": {},
     "output_type": "execute_result"
    }
   ],
   "source": [
    "noun_phrases = [list(extract_np(sent)) for sent in constituent_parse]\n",
    "noun_phrases"
   ]
  },
  {
   "cell_type": "code",
   "execution_count": 2569,
   "metadata": {
    "hidden": true,
    "run_control": {
     "frozen": false,
     "read_only": false
    }
   },
   "outputs": [
    {
     "data": {
      "text/plain": [
       "['Fred and Barney are kneeling on the ground outside a building.',\n",
       " 'Betty is inside the building.',\n",
       " 'She is peeking out through the window.',\n",
       " 'Fred and Barney have their hand to their ear.',\n",
       " 'They are listening for a noise.',\n",
       " 'Then Fred and Barney lower their hands and look at each other.',\n",
       " 'Fred speaks to Barney.']"
      ]
     },
     "execution_count": 2569,
     "metadata": {},
     "output_type": "execute_result"
    }
   ],
   "source": [
    "raw_sentences"
   ]
  },
  {
   "cell_type": "code",
   "execution_count": 2568,
   "metadata": {
    "hidden": true,
    "run_control": {
     "frozen": false,
     "read_only": false
    }
   },
   "outputs": [],
   "source": [
    "# sent_parsesfrom nltk.tag import pos_tag\n",
    "\n",
    "# def traverse(t):\n",
    "#   try:\n",
    "#       t.label()\n",
    "#   except AttributeError:\n",
    "#       return\n",
    "#   else:\n",
    "#       if t.label() == 'NP': print(t)  # or do something else\n",
    "#       else:\n",
    "#           for child in t: \n",
    "#               traverse(child)\n",
    "\n",
    "# def nounPhrase(tagged_sent):\n",
    "#     # Tag sentence for part of speech\n",
    "#     tagged_sent = pos_tag(sentence.split())  # List of tuples with [(Word, PartOfSpeech)]\n",
    "#     # Define several tag patterns\n",
    "#     grammar = r\"\"\"\n",
    "#       NP: {<DT|PP\\$>?<JJ>*<NN>}   # chunk determiner/possessive, adjectives and noun\n",
    "#       {<NNP>+}                # chunk sequences of proper nouns\n",
    "#       {<NN>+}                 # chunk consecutive nouns\n",
    "#       \"\"\"\n",
    "#     cp = nltk.RegexpParser(grammar)  # Define Parser\n",
    "#     SentenceTree = cp.parse(tagged_sent)\n",
    "#     NounPhrases = traverse(SentenceTree)   # collect Noun Phrase\n",
    "#     return(NounPhrases)\n",
    "\n",
    "# sentence = \"Michael Jackson likes to eat at McDonalds\"\n",
    "# tagged_sent = pos_tag(sentence.split())  \n",
    "# NP = nounPhrase(tagged_sent)  \n",
    "# print(NP)  "
   ]
  },
  {
   "cell_type": "code",
   "execution_count": 2167,
   "metadata": {
    "hidden": true,
    "run_control": {
     "frozen": false,
     "read_only": false
    }
   },
   "outputs": [
    {
     "data": {
      "text/plain": [
       "'The red-haired businessman, might be accountant is talking on the phone in his office.'"
      ]
     },
     "execution_count": 2167,
     "metadata": {},
     "output_type": "execute_result"
    }
   ],
   "source": [
    "doc"
   ]
  },
  {
   "cell_type": "code",
   "execution_count": null,
   "metadata": {
    "hidden": true,
    "run_control": {
     "frozen": false,
     "read_only": false
    }
   },
   "outputs": [],
   "source": []
  },
  {
   "cell_type": "code",
   "execution_count": 2231,
   "metadata": {
    "hidden": true,
    "run_control": {
     "frozen": false,
     "read_only": false
    }
   },
   "outputs": [
    {
     "name": "stdout",
     "output_type": "stream",
     "text": [
      "The red-haired businessman\n",
      "accountant\n",
      "the phone\n",
      "his office\n"
     ]
    }
   ],
   "source": [
    "grammar = r\"\"\"\n",
    "  NP: {<DT|PP\\$>?<JJ>*<NN>}   # chunk determiner/possessive, adjectives and noun\n",
    "  {<NNP>+}                # chunk sequences of proper nouns\n",
    "  {<NN>+}                 # chunk consecutive nouns\n",
    "  \"\"\"\n",
    "\n",
    "\n",
    "\n",
    "\n",
    "cp = nltk.RegexpParser(grammar)\n",
    "parsed_sent = cp.parse(sent_parses[0])\n",
    "for npstr in extract_np(parsed_sent):\n",
    "    print (npstr)"
   ]
  },
  {
   "cell_type": "code",
   "execution_count": 2422,
   "metadata": {
    "hidden": true,
    "run_control": {
     "frozen": false,
     "read_only": false
    }
   },
   "outputs": [],
   "source": [
    "sent0 = constituent_parse[0]"
   ]
  },
  {
   "cell_type": "code",
   "execution_count": 2445,
   "metadata": {
    "hidden": true,
    "run_control": {
     "frozen": false,
     "read_only": false
    }
   },
   "outputs": [],
   "source": [
    "# def compute_word_spans(doc, parsed_sent, ):\n",
    "#     words = [word for sent.flatten().leaves() in parsed_sent for word in sent]\n",
    "#     word_spans = []\n",
    "#     for idx, word in enumerate(words):\n",
    "#         if word_spans:\n",
    "#             last_idx = word_spans[-1][1]\n",
    "#             word_spans.append((last_idx, last_idx + 1 + len(word)))\n",
    "#         else:\n",
    "#             word_spans.append((0, len(word)))\n",
    "#     return word_spans"
   ]
  },
  {
   "cell_type": "code",
   "execution_count": 2310,
   "metadata": {
    "hidden": true,
    "run_control": {
     "frozen": false,
     "read_only": false
    }
   },
   "outputs": [],
   "source": [
    "wordlens = [0] + [len(w) + 1 for w in flattented_sent.leaves()]"
   ]
  },
  {
   "cell_type": "code",
   "execution_count": 2466,
   "metadata": {
    "code_folding": [],
    "hidden": true,
    "run_control": {
     "frozen": false,
     "read_only": false
    }
   },
   "outputs": [],
   "source": [
    "def extract_np(psent):\n",
    "    for subtree in psent.subtrees():\n",
    "        if subtree.label() == 'NP':\n",
    "            subprod = subtree.productions()[0].unicode_repr()\n",
    "            if 'NN' in subprod or 'NNP' in subprod:\n",
    "                yield ' '.join(word for word in subtree.leaves())\n",
    "\n",
    "                \n",
    "# def extract_np_spans(doc, noun_chunks):\n",
    "#     chunk_spans = []\n",
    "#     for np in noun_chunks:\n",
    "#         np_span= [(m.start(), m.end()) for m in re.finditer(np, doc)]\n",
    "#         chunk_spans.append(np_span)\n",
    "#     return chunk_spans\n",
    "\n",
    "\n",
    "def compute_token_spans(const_parse_sent, txt):\n",
    "    tokens = const_parse_sent.leaves()\n",
    "    offset = 0\n",
    "    for token in tokens:\n",
    "        offset = txt.find(token, offset)\n",
    "        yield token, offset, offset+len(token)\n",
    "        offset += len(token)\n",
    "\n",
    "        \n",
    "def assign_word_spans(noun_phrases_w_spans, doc, token_spans):\n",
    "    chunk_spans = []\n",
    "    for np in noun_phrases_w_spans:\n",
    "        char_span = [(m.start(), m.end()) for m in re.finditer(np, doc)][0]\n",
    "        start, end = char_span\n",
    "        start_w, end_w = None, None\n",
    "        for w_idx, token_span in enumerate(token_spans):\n",
    "            token, ts, te = token_span\n",
    "            if ts == start:\n",
    "                start_w = w_idx\n",
    "            if te == end:\n",
    "                end_w = w_idx + 1\n",
    "        if type(start_w) == int and type(end_w) == int:\n",
    "            chunk_spans.append([start_w, end_w])\n",
    "        else:\n",
    "            print('failed')\n",
    "    return chunk_spans\n",
    "\n",
    "\n",
    "def np_chunker(doc, parsed_sents):\n",
    "    noun_phrases = [list(extract_np(sent)) for sent in parsed_sents]\n",
    "#     noun_phrase_spans = [list(extract_np_spans(doc, sent)) for sent in noun_phrases]\n",
    "    token_spans = [list(compute_token_spans(sent, doc)) for sent in parsed_sents]\n",
    "    noun_phrase_spans = [assign_word_spans(noun_phrases[n], doc, token_spans[n]) for n in range(len(parsed_sents))]\n",
    "    return {'chunks': noun_phrase_spans, 'named_chunks': noun_phrases}"
   ]
  },
  {
   "cell_type": "code",
   "execution_count": 2467,
   "metadata": {
    "hidden": true,
    "run_control": {
     "frozen": false,
     "read_only": false
    }
   },
   "outputs": [
    {
     "data": {
      "text/plain": [
       "{'chunks': [[[0, 3], [6, 7], [10, 12], [13, 15]]],\n",
       " 'named_chunks': [['The red-haired businessman',\n",
       "   'accountant',\n",
       "   'the phone',\n",
       "   'his office']]}"
      ]
     },
     "execution_count": 2467,
     "metadata": {},
     "output_type": "execute_result"
    }
   ],
   "source": [
    "np_chunker(doc, [sent0])"
   ]
  },
  {
   "cell_type": "code",
   "execution_count": 2469,
   "metadata": {
    "hidden": true,
    "run_control": {
     "frozen": false,
     "read_only": false
    }
   },
   "outputs": [
    {
     "data": {
      "text/plain": [
       "{'chunks': [[[0, 3], [6, 7], [10, 12], [13, 15]]],\n",
       " 'named_chunks': [['The red-haired businessman',\n",
       "   'accountant',\n",
       "   'the phone',\n",
       "   'his office']]}"
      ]
     },
     "execution_count": 2469,
     "metadata": {},
     "output_type": "execute_result"
    }
   ],
   "source": [
    "np_chunker(doc, [sent0])"
   ]
  },
  {
   "cell_type": "code",
   "execution_count": 2471,
   "metadata": {
    "hidden": true,
    "run_control": {
     "frozen": false,
     "read_only": false
    }
   },
   "outputs": [],
   "source": [
    "# np_chunker(doc, sent_parses)"
   ]
  },
  {
   "cell_type": "code",
   "execution_count": 2430,
   "metadata": {
    "hidden": true,
    "run_control": {
     "frozen": false,
     "read_only": false
    }
   },
   "outputs": [],
   "source": [
    "nps = list(extract_np(sent0))"
   ]
  },
  {
   "cell_type": "code",
   "execution_count": 2431,
   "metadata": {
    "hidden": true,
    "run_control": {
     "frozen": false,
     "read_only": false
    }
   },
   "outputs": [],
   "source": [
    "test_phrase = ' '.join(ttst.leaves())"
   ]
  },
  {
   "cell_type": "code",
   "execution_count": 2432,
   "metadata": {
    "hidden": true,
    "run_control": {
     "frozen": false,
     "read_only": false
    }
   },
   "outputs": [
    {
     "data": {
      "text/plain": [
       "['The red-haired businessman', 'accountant', 'the phone', 'his office']"
      ]
     },
     "execution_count": 2432,
     "metadata": {},
     "output_type": "execute_result"
    }
   ],
   "source": [
    "nps"
   ]
  },
  {
   "cell_type": "code",
   "execution_count": 2401,
   "metadata": {
    "hidden": true,
    "run_control": {
     "frozen": false,
     "read_only": false
    }
   },
   "outputs": [
    {
     "data": {
      "text/plain": [
       "['The red-haired businessman', 'accountant', 'the phone', 'his office']"
      ]
     },
     "execution_count": 2401,
     "metadata": {},
     "output_type": "execute_result"
    }
   ],
   "source": [
    "nps"
   ]
  },
  {
   "cell_type": "code",
   "execution_count": 2450,
   "metadata": {
    "hidden": true,
    "run_control": {
     "frozen": false,
     "read_only": false
    }
   },
   "outputs": [
    {
     "data": {
      "text/plain": [
       "['The red-haired businessman', 'accountant', 'the phone', 'his office']"
      ]
     },
     "execution_count": 2450,
     "metadata": {},
     "output_type": "execute_result"
    }
   ],
   "source": [
    "nps"
   ]
  },
  {
   "cell_type": "code",
   "execution_count": 159,
   "metadata": {
    "hidden": true,
    "run_control": {
     "frozen": false,
     "read_only": false
    }
   },
   "outputs": [
    {
     "ename": "NameError",
     "evalue": "name 'assign_word_spans' is not defined",
     "output_type": "error",
     "traceback": [
      "\u001b[0;31m---------------------------------------------------------------------------\u001b[0m",
      "\u001b[0;31mNameError\u001b[0m                                 Traceback (most recent call last)",
      "\u001b[0;32m<ipython-input-159-9c041d6d745f>\u001b[0m in \u001b[0;36m<module>\u001b[0;34m()\u001b[0m\n\u001b[0;32m----> 1\u001b[0;31m \u001b[0massign_word_spans\u001b[0m\u001b[0;34m(\u001b[0m\u001b[0mnps\u001b[0m\u001b[0;34m,\u001b[0m \u001b[0mdoc\u001b[0m\u001b[0;34m,\u001b[0m \u001b[0mtspans\u001b[0m\u001b[0;34m)\u001b[0m\u001b[0;34m\u001b[0m\u001b[0m\n\u001b[0m",
      "\u001b[0;31mNameError\u001b[0m: name 'assign_word_spans' is not defined"
     ]
    }
   ],
   "source": [
    "assign_word_spans(nps, doc, tspans)"
   ]
  },
  {
   "cell_type": "code",
   "execution_count": 2439,
   "metadata": {
    "hidden": true,
    "run_control": {
     "frozen": false,
     "read_only": false
    }
   },
   "outputs": [
    {
     "data": {
      "text/plain": [
       "[[('The', 'DT'),\n",
       "  ('red-haired', 'JJ'),\n",
       "  ('businessman', 'NN'),\n",
       "  (',', ','),\n",
       "  ('might', 'MD'),\n",
       "  ('be', 'VB'),\n",
       "  ('accountant', 'NN'),\n",
       "  ('is', 'VBZ'),\n",
       "  ('talking', 'VBG'),\n",
       "  ('on', 'IN'),\n",
       "  ('the', 'DT'),\n",
       "  ('phone', 'NN'),\n",
       "  ('in', 'IN'),\n",
       "  ('his', 'PRP$'),\n",
       "  ('office', 'NN'),\n",
       "  ('.', '.')]]"
      ]
     },
     "execution_count": 2439,
     "metadata": {},
     "output_type": "execute_result"
    }
   ],
   "source": [
    "pos_tags"
   ]
  },
  {
   "cell_type": "code",
   "execution_count": 2444,
   "metadata": {
    "hidden": true,
    "run_control": {
     "frozen": false,
     "read_only": false
    }
   },
   "outputs": [
    {
     "data": {
      "text/plain": [
       "[('his', 'PRP$'), ('office', 'NN')]"
      ]
     },
     "execution_count": 2444,
     "metadata": {},
     "output_type": "execute_result"
    }
   ],
   "source": [
    "pos_tags[0][13:15]"
   ]
  },
  {
   "cell_type": "code",
   "execution_count": 2366,
   "metadata": {
    "hidden": true,
    "run_control": {
     "frozen": false,
     "read_only": false
    }
   },
   "outputs": [
    {
     "name": "stdout",
     "output_type": "stream",
     "text": [
      "(0, 26)\n",
      "(37, 47)\n",
      "(62, 71)\n",
      "(75, 85)\n"
     ]
    }
   ],
   "source": [
    "assign_word_spans(nps, doc)"
   ]
  },
  {
   "cell_type": "code",
   "execution_count": 2358,
   "metadata": {
    "hidden": true,
    "run_control": {
     "frozen": false,
     "read_only": false
    }
   },
   "outputs": [
    {
     "data": {
      "text/plain": [
       "[(37, 47)]"
      ]
     },
     "execution_count": 2358,
     "metadata": {},
     "output_type": "execute_result"
    }
   ],
   "source": [
    "np_spans"
   ]
  },
  {
   "cell_type": "code",
   "execution_count": 2257,
   "metadata": {
    "hidden": true,
    "run_control": {
     "frozen": false,
     "read_only": false
    }
   },
   "outputs": [
    {
     "data": {
      "text/plain": [
       "'The red-haired businessman'"
      ]
     },
     "execution_count": 2257,
     "metadata": {},
     "output_type": "execute_result"
    }
   ],
   "source": [
    "test_phrase"
   ]
  },
  {
   "cell_type": "code",
   "execution_count": 2259,
   "metadata": {
    "hidden": true,
    "run_control": {
     "frozen": false,
     "read_only": false
    }
   },
   "outputs": [
    {
     "data": {
      "text/plain": [
       "[(0, 3)]"
      ]
     },
     "execution_count": 2259,
     "metadata": {},
     "output_type": "execute_result"
    }
   ],
   "source": [
    "np_spans"
   ]
  },
  {
   "cell_type": "code",
   "execution_count": null,
   "metadata": {
    "hidden": true,
    "run_control": {
     "frozen": false,
     "read_only": false
    }
   },
   "outputs": [],
   "source": [
    "starts = [match.start() for match in re.finditer(re.escape(S), T)]"
   ]
  },
  {
   "cell_type": "code",
   "execution_count": 1777,
   "metadata": {
    "hidden": true,
    "run_control": {
     "frozen": false,
     "read_only": false
    }
   },
   "outputs": [],
   "source": [
    "# test_vid.display_bounding_boxes()"
   ]
  },
  {
   "cell_type": "code",
   "execution_count": 1644,
   "metadata": {
    "hidden": true,
    "run_control": {
     "frozen": false,
     "read_only": false
    }
   },
   "outputs": [],
   "source": [
    "raw_sentences = sent_tokenize(test_vid.description())\n",
    "sent_lens = [len(word_tokenize(s)) for s in raw_sentences]\n",
    "sent_n, word_n = test_ent.data()['labelSpan']\n",
    "word_position = sum(sent_lens[:sent_n]) + word_n"
   ]
  },
  {
   "cell_type": "code",
   "execution_count": 1647,
   "metadata": {
    "hidden": true,
    "run_control": {
     "frozen": false,
     "read_only": false
    }
   },
   "outputs": [
    {
     "data": {
      "text/plain": [
       "12"
      ]
     },
     "execution_count": 1647,
     "metadata": {},
     "output_type": "execute_result"
    }
   ],
   "source": [
    "word_position + len(test_ent.data()['entityLabel'].split())"
   ]
  },
  {
   "cell_type": "code",
   "execution_count": 1648,
   "metadata": {
    "hidden": true,
    "run_control": {
     "frozen": false,
     "read_only": false
    }
   },
   "outputs": [
    {
     "data": {
      "text/plain": [
       "11"
      ]
     },
     "execution_count": 1648,
     "metadata": {},
     "output_type": "execute_result"
    }
   ],
   "source": [
    "word_position"
   ]
  },
  {
   "cell_type": "code",
   "execution_count": 1795,
   "metadata": {
    "hidden": true,
    "run_control": {
     "frozen": false,
     "read_only": false
    }
   },
   "outputs": [],
   "source": [
    "def const_parse(doc, parser):\n",
    "    raw_sentences = sentence_splitter.tokenize(doc)\n",
    "    # sentences = [' '.join([w for w in wordpunct_tokenize(s) if set(w) - punct_set]).replace(' .',  '.') for s in raw_sentences]\n",
    "    sent_parses = [list(i)[0] for i in parser.raw_parse_sents(raw_sentences)]\n",
    "    return sent_parses"
   ]
  },
  {
   "cell_type": "code",
   "execution_count": 1796,
   "metadata": {
    "hidden": true,
    "run_control": {
     "frozen": false,
     "read_only": false
    }
   },
   "outputs": [],
   "source": [
    "constituent_parse = const_parse(test_vid.description(), core_parser)"
   ]
  },
  {
   "cell_type": "code",
   "execution_count": 1797,
   "metadata": {
    "hidden": true,
    "run_control": {
     "frozen": false,
     "read_only": false
    }
   },
   "outputs": [],
   "source": [
    "pos_tags = [sent.pos() for sent in constituent_parse]"
   ]
  },
  {
   "cell_type": "markdown",
   "metadata": {
    "heading_collapsed": true
   },
   "source": [
    "## 2.3 token exp"
   ]
  },
  {
   "cell_type": "code",
   "execution_count": 763,
   "metadata": {
    "hidden": true,
    "run_control": {
     "frozen": false,
     "read_only": false
    }
   },
   "outputs": [],
   "source": [
    "doc = test_vid.description()\n",
    "raw_sentences = sent_tokenize(doc)\n",
    "# sentences = [' '.join(word_tokenize(s)) for s in raw_sentences]"
   ]
  },
  {
   "cell_type": "code",
   "execution_count": 597,
   "metadata": {
    "hidden": true,
    "run_control": {
     "frozen": false,
     "read_only": false
    }
   },
   "outputs": [],
   "source": [
    "from nltk.tokenize.punkt import PunktSentenceTokenizer, PunktParameters"
   ]
  },
  {
   "cell_type": "code",
   "execution_count": 598,
   "metadata": {
    "hidden": true,
    "run_control": {
     "frozen": false,
     "read_only": false
    }
   },
   "outputs": [],
   "source": [
    "punkt_param = PunktParameters()\n",
    "punkt_param.abbrev_types = set(['dr', 'vs', 'mr', 'mrs', 'prof', 'inc', 'ms'])\n",
    "sentence_splitter = PunktSentenceTokenizer(punkt_param)"
   ]
  },
  {
   "cell_type": "code",
   "execution_count": 784,
   "metadata": {
    "hidden": true,
    "run_control": {
     "frozen": false,
     "read_only": false
    }
   },
   "outputs": [],
   "source": [
    "raw_sentences = sentence_splitter.tokenize(doc)"
   ]
  },
  {
   "cell_type": "code",
   "execution_count": 797,
   "metadata": {
    "hidden": true,
    "run_control": {
     "frozen": false,
     "read_only": false
    }
   },
   "outputs": [],
   "source": [
    "sentences = [' '.join([w for w in wordpunct_tokenize(s) if set(w) - punct_set]) for s in raw_sentences]"
   ]
  },
  {
   "cell_type": "code",
   "execution_count": 795,
   "metadata": {
    "hidden": true,
    "run_control": {
     "frozen": false,
     "read_only": false
    }
   },
   "outputs": [
    {
     "data": {
      "text/plain": [
       "['Barney is driving in the car.']"
      ]
     },
     "execution_count": 795,
     "metadata": {},
     "output_type": "execute_result"
    }
   ],
   "source": [
    "sentences"
   ]
  },
  {
   "cell_type": "code",
   "execution_count": 789,
   "metadata": {
    "hidden": true,
    "run_control": {
     "frozen": false,
     "read_only": false
    }
   },
   "outputs": [],
   "source": [
    "punct_set = set(punct_marks)"
   ]
  },
  {
   "cell_type": "code",
   "execution_count": 787,
   "metadata": {
    "hidden": true,
    "run_control": {
     "frozen": false,
     "read_only": false
    }
   },
   "outputs": [
    {
     "data": {
      "text/plain": [
       "['Barney', 'is', 'driving', 'in', 'the', 'car', '.,']"
      ]
     },
     "execution_count": 787,
     "metadata": {},
     "output_type": "execute_result"
    }
   ],
   "source": [
    "[w for w in wordpunct_tokenize(raw_sentences[0]) if w not in punct_marks]"
   ]
  },
  {
   "cell_type": "code",
   "execution_count": 781,
   "metadata": {
    "hidden": true,
    "run_control": {
     "frozen": false,
     "read_only": false
    }
   },
   "outputs": [
    {
     "ename": "NameError",
     "evalue": "name 's' is not defined",
     "output_type": "error",
     "traceback": [
      "\u001b[0;31m---------------------------------------------------------------------------\u001b[0m",
      "\u001b[0;31mNameError\u001b[0m                                 Traceback (most recent call last)",
      "\u001b[0;32m<ipython-input-781-3ecd7e395437>\u001b[0m in \u001b[0;36m<module>\u001b[0;34m()\u001b[0m\n\u001b[0;32m----> 1\u001b[0;31m \u001b[0;34m[\u001b[0m\u001b[0mw\u001b[0m \u001b[0;32mfor\u001b[0m \u001b[0mw\u001b[0m \u001b[0;32min\u001b[0m \u001b[0mwordpunct_tokenize\u001b[0m\u001b[0;34m(\u001b[0m\u001b[0ms\u001b[0m\u001b[0;34m)\u001b[0m \u001b[0;32mif\u001b[0m \u001b[0mw\u001b[0m \u001b[0;32mnot\u001b[0m \u001b[0;32min\u001b[0m \u001b[0mpunct_marks\u001b[0m\u001b[0;34m]\u001b[0m\u001b[0;34m\u001b[0m\u001b[0m\n\u001b[0m",
      "\u001b[0;31mNameError\u001b[0m: name 's' is not defined"
     ]
    }
   ],
   "source": [
    "[w for w in wordpunct_tokenize(s) if w not in punct_marks]"
   ]
  },
  {
   "cell_type": "code",
   "execution_count": 779,
   "metadata": {
    "hidden": true,
    "run_control": {
     "frozen": false,
     "read_only": false
    }
   },
   "outputs": [
    {
     "data": {
      "text/plain": [
       "['Barney is driving in the car .,']"
      ]
     },
     "execution_count": 779,
     "metadata": {},
     "output_type": "execute_result"
    }
   ],
   "source": [
    "sentences"
   ]
  },
  {
   "cell_type": "code",
   "execution_count": 770,
   "metadata": {
    "hidden": true,
    "run_control": {
     "frozen": false,
     "read_only": false
    }
   },
   "outputs": [
    {
     "data": {
      "text/plain": [
       "'Barney is driving in the car.,'"
      ]
     },
     "execution_count": 770,
     "metadata": {},
     "output_type": "execute_result"
    }
   ],
   "source": [
    "doc"
   ]
  },
  {
   "cell_type": "code",
   "execution_count": 594,
   "metadata": {
    "hidden": true,
    "run_control": {
     "frozen": false,
     "read_only": false
    }
   },
   "outputs": [],
   "source": [
    "tokenizer = PunktSentenceTokenizer()"
   ]
  },
  {
   "cell_type": "code",
   "execution_count": 764,
   "metadata": {
    "hidden": true,
    "run_control": {
     "frozen": false,
     "read_only": false
    }
   },
   "outputs": [
    {
     "data": {
      "text/plain": [
       "['Barney is driving in the car.,']"
      ]
     },
     "execution_count": 764,
     "metadata": {},
     "output_type": "execute_result"
    }
   ],
   "source": [
    "sentence_splitter.tokenize(doc)"
   ]
  },
  {
   "cell_type": "code",
   "execution_count": 768,
   "metadata": {
    "hidden": true,
    "run_control": {
     "frozen": false,
     "read_only": false
    }
   },
   "outputs": [
    {
     "data": {
      "text/plain": [
       "['Barney is driving in the car.,']"
      ]
     },
     "execution_count": 768,
     "metadata": {},
     "output_type": "execute_result"
    }
   ],
   "source": [
    "raw_sentences"
   ]
  },
  {
   "cell_type": "code",
   "execution_count": null,
   "metadata": {
    "hidden": true,
    "run_control": {
     "frozen": false,
     "read_only": false
    }
   },
   "outputs": [],
   "source": []
  },
  {
   "cell_type": "code",
   "execution_count": 618,
   "metadata": {
    "hidden": true,
    "run_control": {
     "frozen": false,
     "read_only": false
    }
   },
   "outputs": [],
   "source": [
    "nlp = spacy.load('en')\n",
    "\n",
    "core_nlp_base = '/Users/schwenk/wrk/animation_gan/phrase_cues/deps/stanford_core_nlp/stanford-corenlp-full-2017-06-09/'\n",
    "core_parser = CoreNLPParser(url='http://localhost:9000')    \n",
    "\n",
    "coref_results = unpickle_this('pickled_data/coref_results_full_2.pkl')"
   ]
  },
  {
   "cell_type": "code",
   "execution_count": 730,
   "metadata": {
    "hidden": true,
    "run_control": {
     "frozen": false,
     "read_only": false
    }
   },
   "outputs": [],
   "source": [
    "def perform_parse_exp(videos, parse_lookup={}, coref_res={}):\n",
    "    for vid in videos:\n",
    "        try:\n",
    "            vid._data['parse'] = parse_lookup[vid.gid()]\n",
    "            vid.data()['parse']['coref'] = coref_res[vid.gid()]\n",
    "        except KeyError:\n",
    "            parse_video(vid, nlp, core_parser)\n",
    "            vid.data()['parse']['coref'] = []"
   ]
  },
  {
   "cell_type": "code",
   "execution_count": 911,
   "metadata": {
    "hidden": true,
    "run_control": {
     "frozen": false,
     "read_only": false
    }
   },
   "outputs": [],
   "source": [
    "perform_parse_exp([test_vid])"
   ]
  },
  {
   "cell_type": "code",
   "execution_count": 682,
   "metadata": {
    "hidden": true,
    "run_control": {
     "frozen": false,
     "read_only": false
    }
   },
   "outputs": [],
   "source": [
    "import string"
   ]
  },
  {
   "cell_type": "code",
   "execution_count": 756,
   "metadata": {
    "hidden": true,
    "run_control": {
     "frozen": false,
     "read_only": false
    }
   },
   "outputs": [],
   "source": [
    "punct_marks = list(string.punctuation)"
   ]
  },
  {
   "cell_type": "code",
   "execution_count": 687,
   "metadata": {
    "hidden": true,
    "run_control": {
     "frozen": false,
     "read_only": false
    }
   },
   "outputs": [],
   "source": [
    "cleaned_desc = []\n",
    "for sent in test_vid.data()['parse']['pos_tags']:\n",
    "    cleaned_sent = []\n",
    "    for word_pos in sent:\n",
    "        if word_pos[1] not in punct_marks:\n",
    "            cleaned_sent.append(word_pos)\n",
    "    cleaned_desc.append(cleaned_sent)"
   ]
  },
  {
   "cell_type": "code",
   "execution_count": 689,
   "metadata": {
    "hidden": true,
    "run_control": {
     "frozen": false,
     "read_only": false
    }
   },
   "outputs": [],
   "source": [
    "test_vid.data()['parse']['pos_tags'] = cleaned_desc"
   ]
  },
  {
   "cell_type": "code",
   "execution_count": null,
   "metadata": {
    "hidden": true,
    "run_control": {
     "frozen": false,
     "read_only": false
    }
   },
   "outputs": [],
   "source": []
  },
  {
   "cell_type": "code",
   "execution_count": null,
   "metadata": {
    "hidden": true,
    "run_control": {
     "frozen": false,
     "read_only": false
    }
   },
   "outputs": [],
   "source": []
  },
  {
   "cell_type": "code",
   "execution_count": null,
   "metadata": {
    "hidden": true,
    "run_control": {
     "frozen": false,
     "read_only": false
    }
   },
   "outputs": [],
   "source": []
  },
  {
   "cell_type": "code",
   "execution_count": null,
   "metadata": {
    "hidden": true,
    "run_control": {
     "frozen": false,
     "read_only": false
    }
   },
   "outputs": [],
   "source": []
  },
  {
   "cell_type": "markdown",
   "metadata": {
    "heading_collapsed": true
   },
   "source": [
    "## 2.4 remove missing entities"
   ]
  },
  {
   "cell_type": "code",
   "execution_count": 38,
   "metadata": {
    "hidden": true,
    "run_control": {
     "frozen": false,
     "read_only": false
    }
   },
   "outputs": [],
   "source": [
    "traj_dir = '/Users/schwenk/wrk/animation_gan/dataset/v2p5/trajectories/'"
   ]
  },
  {
   "cell_type": "code",
   "execution_count": 39,
   "metadata": {
    "hidden": true,
    "run_control": {
     "frozen": false,
     "read_only": false
    }
   },
   "outputs": [],
   "source": [
    "tracking_files = os.listdir(traj_dir + 'tracking')\n",
    "segmentation_files = os.listdir(traj_dir + 'segmentation')"
   ]
  },
  {
   "cell_type": "code",
   "execution_count": 40,
   "metadata": {
    "hidden": true,
    "run_control": {
     "frozen": false,
     "read_only": false
    }
   },
   "outputs": [],
   "source": [
    "def check_ent_traj(video):\n",
    "    missing_ents = []\n",
    "    for entity in video.data()['objects'] + video.data()['characters']:\n",
    "        tf = entity.gid() + '.npy'\n",
    "        sf = entity.gid() + '_segm.npy.npz'\n",
    "        if tf not in tracking_files or sf not in segmentation_files:\n",
    "            missing_ents.append(entity.gid())\n",
    "    return missing_ents"
   ]
  },
  {
   "cell_type": "code",
   "execution_count": 41,
   "metadata": {
    "hidden": true,
    "run_control": {
     "frozen": false,
     "read_only": false
    }
   },
   "outputs": [
    {
     "name": "stderr",
     "output_type": "stream",
     "text": [
      "100%|██████████| 26296/26296 [01:28<00:00, 297.52it/s]\n"
     ]
    }
   ],
   "source": [
    "problem_vids = []\n",
    "problem_ents = []\n",
    "for vid in tqdm(complete_vids_all):\n",
    "    check_traj = check_ent_traj(vid)\n",
    "    if check_traj:\n",
    "        problem_vids.append(vid.gid())\n",
    "        problem_ents.extend(check_traj)"
   ]
  },
  {
   "cell_type": "code",
   "execution_count": 42,
   "metadata": {
    "hidden": true,
    "run_control": {
     "frozen": false,
     "read_only": false
    }
   },
   "outputs": [
    {
     "data": {
      "text/plain": [
       "78"
      ]
     },
     "execution_count": 42,
     "metadata": {},
     "output_type": "execute_result"
    }
   ],
   "source": [
    "len(problem_vids)"
   ]
  },
  {
   "cell_type": "code",
   "execution_count": 43,
   "metadata": {
    "hidden": true,
    "run_control": {
     "frozen": false,
     "read_only": false
    }
   },
   "outputs": [],
   "source": [
    "# vids_to_remove = set(verification_failures['missing entity span'] + verification_failures['no'] + problem_vids)\n",
    "vids_to_remove = problem_vids"
   ]
  },
  {
   "cell_type": "code",
   "execution_count": 46,
   "metadata": {
    "hidden": true,
    "run_control": {
     "frozen": false,
     "read_only": false
    }
   },
   "outputs": [
    {
     "data": {
      "text/plain": [
       "78"
      ]
     },
     "execution_count": 46,
     "metadata": {},
     "output_type": "execute_result"
    }
   ],
   "source": [
    "len(vids_to_remove)"
   ]
  },
  {
   "cell_type": "code",
   "execution_count": 27,
   "metadata": {
    "hidden": true,
    "run_control": {
     "frozen": false,
     "read_only": false
    }
   },
   "outputs": [
    {
     "data": {
      "text/plain": [
       "26160"
      ]
     },
     "execution_count": 27,
     "metadata": {},
     "output_type": "execute_result"
    }
   ],
   "source": [
    "len(final_clean_complete_vids)"
   ]
  },
  {
   "cell_type": "code",
   "execution_count": 24,
   "metadata": {
    "hidden": true,
    "run_control": {
     "frozen": false,
     "read_only": false
    }
   },
   "outputs": [],
   "source": [
    "final_clean_complete_vids = [vid for vid in complete_vids_all if vid.gid() not in vids_to_remove and 'pos_tags' in vid.data()['parse']]"
   ]
  },
  {
   "cell_type": "code",
   "execution_count": 26,
   "metadata": {
    "hidden": true,
    "run_control": {
     "frozen": false,
     "read_only": false
    }
   },
   "outputs": [],
   "source": [
    "pickle_this(final_clean_complete_vids, 'complete_ds_checkpoint_v2p8_cleaned.pkl')"
   ]
  },
  {
   "cell_type": "code",
   "execution_count": 982,
   "metadata": {
    "hidden": true,
    "run_control": {
     "frozen": false,
     "read_only": false
    }
   },
   "outputs": [],
   "source": [
    "complete_dataset.generate_release_version('v3p5', complete_vids=final_clean_complete_vids)"
   ]
  },
  {
   "cell_type": "code",
   "execution_count": null,
   "metadata": {
    "hidden": true,
    "run_control": {
     "frozen": false,
     "read_only": false
    }
   },
   "outputs": [],
   "source": []
  },
  {
   "cell_type": "code",
   "execution_count": null,
   "metadata": {
    "hidden": true,
    "run_control": {
     "frozen": false,
     "read_only": false
    }
   },
   "outputs": [],
   "source": []
  },
  {
   "cell_type": "code",
   "execution_count": null,
   "metadata": {
    "hidden": true,
    "run_control": {
     "frozen": false,
     "read_only": false
    }
   },
   "outputs": [],
   "source": []
  },
  {
   "cell_type": "markdown",
   "metadata": {},
   "source": [
    "## 2.5 write ds json"
   ]
  },
  {
   "cell_type": "code",
   "execution_count": 143,
   "metadata": {
    "code_folding": [],
    "run_control": {
     "frozen": false,
     "marked": false,
     "read_only": false
    }
   },
   "outputs": [],
   "source": [
    "def dataset_to_json(dataset, version, out_dir='dataset'):\n",
    "    to_json = copy.deepcopy(dataset)\n",
    "    for vid in to_json:\n",
    "        vid._data['characters'] = [char.data()\n",
    "                                   for char in vid.data()['characters']]\n",
    "        vid._data['objects'] = [char.data() for char in vid.data()['objects']]\n",
    "\n",
    "    ds_json = [vid.data() for vid in to_json]\n",
    "    out_file = os.path.join(out_dir, 'dataset_v{}.json'.format(version))\n",
    "    with open(out_file, 'w') as f:\n",
    "        json.dump(ds_json, f, sort_keys=True, indent=4)"
   ]
  },
  {
   "cell_type": "code",
   "execution_count": 144,
   "metadata": {
    "run_control": {
     "frozen": false,
     "read_only": false
    }
   },
   "outputs": [],
   "source": [
    "dataset_to_json(final_clean_complete_vids, '3p0')"
   ]
  },
  {
   "cell_type": "code",
   "execution_count": 105,
   "metadata": {
    "run_control": {
     "frozen": false,
     "read_only": false
    }
   },
   "outputs": [],
   "source": [
    "only_coref = [len(vid.data()['parse']['pos_tags']) for vid in complete_vids_all]"
   ]
  },
  {
   "cell_type": "code",
   "execution_count": 98,
   "metadata": {
    "run_control": {
     "frozen": false,
     "read_only": false
    }
   },
   "outputs": [
    {
     "data": {
      "text/plain": [
       "26225"
      ]
     },
     "execution_count": 98,
     "metadata": {},
     "output_type": "execute_result"
    }
   ],
   "source": [
    "sum(only_coref)"
   ]
  },
  {
   "cell_type": "markdown",
   "metadata": {
    "heading_collapsed": true
   },
   "source": [
    "# 3. gen segmentation anno data"
   ]
  },
  {
   "cell_type": "code",
   "execution_count": 479,
   "metadata": {
    "hidden": true,
    "run_control": {
     "frozen": false,
     "read_only": false
    }
   },
   "outputs": [],
   "source": [
    "def draw_single_ent_box(video, ent):\n",
    "    frames = video.get_key_frame_images()\n",
    "    drawn_ent_box = pil.fromarray(video.draw_char_boxes(frames, chars=[ent])[1])\n",
    "    return drawn_ent_box"
   ]
  },
  {
   "cell_type": "code",
   "execution_count": 480,
   "metadata": {
    "hidden": true,
    "run_control": {
     "frozen": false,
     "read_only": false
    }
   },
   "outputs": [],
   "source": [
    "with open('ws_sample_ids.txt') as f:\n",
    "    rand_test_sample = f.readlines()\n",
    "    rand_test_sample = list(set([l.strip() for l in rand_test_sample]))"
   ]
  },
  {
   "cell_type": "code",
   "execution_count": 481,
   "metadata": {
    "hidden": true,
    "run_control": {
     "frozen": false,
     "read_only": false
    }
   },
   "outputs": [
    {
     "name": "stderr",
     "output_type": "stream",
     "text": [
      "100%|██████████| 100/100 [00:59<00:00,  1.67it/s]\n"
     ]
    }
   ],
   "source": [
    "for v_id in tqdm(rand_test_sample):\n",
    "    vid = complete_dataset.get_video(v_id)\n",
    "    for ent in vid.data()['objects'] + vid.data()['characters']:\n",
    "        drawn_ent_box = draw_single_ent_box(vid, ent)\n",
    "        drawn_ent_box.save('./bb_for_segm/' + ent.gid() + '_bb.png')"
   ]
  },
  {
   "cell_type": "code",
   "execution_count": null,
   "metadata": {
    "hidden": true,
    "run_control": {
     "frozen": false,
     "read_only": false
    }
   },
   "outputs": [],
   "source": []
  },
  {
   "cell_type": "code",
   "execution_count": null,
   "metadata": {
    "hidden": true,
    "run_control": {
     "frozen": false,
     "read_only": false
    }
   },
   "outputs": [],
   "source": []
  },
  {
   "cell_type": "code",
   "execution_count": null,
   "metadata": {
    "hidden": true,
    "run_control": {
     "frozen": false,
     "read_only": false
    }
   },
   "outputs": [],
   "source": []
  },
  {
   "cell_type": "markdown",
   "metadata": {
    "heading_collapsed": true
   },
   "source": [
    "# 4. clean and spellcheck"
   ]
  },
  {
   "cell_type": "code",
   "execution_count": 28,
   "metadata": {
    "hidden": true,
    "run_control": {
     "frozen": false,
     "read_only": false
    }
   },
   "outputs": [],
   "source": [
    "import enchant\n",
    "from nltk.corpus import stopwords\n",
    "import string\n",
    "from nltk.tokenize import word_tokenize\n",
    "from nltk.tokenize import wordpunct_tokenize\n",
    "\n",
    "from fuzzywuzzy import fuzz\n",
    "# import difflib\n",
    "# import diff_match_patch\n",
    "\n",
    "# dmp = diff_match_patch.diff_match_patch()\n",
    "\n",
    "edict = enchant.Dict(\"en_US\")\n",
    "anglo_edict = enchant.Dict(\"en_UK\")\n",
    "cached_sw = stopwords.words(\"english\") + list(string.punctuation)"
   ]
  },
  {
   "cell_type": "code",
   "execution_count": 29,
   "metadata": {
    "hidden": true,
    "run_control": {
     "frozen": false,
     "read_only": false
    }
   },
   "outputs": [],
   "source": [
    "main_characters = {\n",
    "    \"Fred\",\n",
    "    \"Wilma\",\n",
    "    \"Mr Slate\",\n",
    "    \"Barney\",\n",
    "    \"Betty\",\n",
    "    \"Pebbles\",\n",
    "    \"Dino\",\n",
    "    \"Baby Puss\",\n",
    "    \"Hoppy\",\n",
    "    \"Bamm Bamm\",\n",
    "}\n",
    "\n",
    "other_chars_names = ['gazoo', 'lodabricks', 'slaghoople', 'poobaah']\n",
    "\n",
    "other_words = ['bandana', 'tv', 'bandana', 'bowtie', 'sabretooth', 'creepella', 'polkadot', \n",
    "               'turban', 'monical', 'unibrow', 'accordion', 'boutineer', 'handkerchief', 'xray', \n",
    "               'onesie', 'midcentury', 'cafe', 'squatty', 'earings']\n",
    "\n",
    "words_to_remove = ['whine', 'turbine', 'accordant', 'according', 'turbid', 'voile', 'acous', 'google', 'googles', 'leper', 'deres', 'powerless', 'powerfulness', 'fervent', 'weaning', 'grail']\n",
    "\n",
    "_ = [edict.remove_from_session(word) for word in words_to_remove]\n",
    "_ = [[edict.add(char_word.lower()) for char_word in char.split()] for char in list(main_characters) + other_chars_names + other_words]\n",
    "\n",
    "_ = [anglo_edict.remove_from_session(word) for word in words_to_remove]\n",
    "\n",
    "manual_corrections = {  'lieing': 'lying',\n",
    "                        'infront': 'in font',\n",
    "                        'ladie': 'lady',\n",
    "                        'servent': 'servant',\n",
    "                        'wiht': 'with',\n",
    "                        'preformer': 'performer',\n",
    "                        'hinging': 'hanging',\n",
    "                        'bule': 'blue',\n",
    "                        'yount': 'young',\n",
    "                      'od': 'old',\n",
    "                      'dres': 'dress',\n",
    "                      'handshacking': 'hand shaking',\n",
    "                      'cru': 'crew',\n",
    "                      'hankerchief': 'handkerchief',\n",
    "                      'cowbow': 'cowboy',\n",
    "                      'helmit': 'helmet',\n",
    "                      'wearning': 'wearing',\n",
    "                      'broen': 'wearing'\n",
    "                     }"
   ]
  },
  {
   "cell_type": "code",
   "execution_count": 30,
   "metadata": {
    "code_folding": [
     21
    ],
    "hidden": true,
    "run_control": {
     "frozen": false,
     "read_only": false
    }
   },
   "outputs": [],
   "source": [
    "def check_mispelled(word):\n",
    "    return word and word.isalpha() and not (edict.check(word))\n",
    "\n",
    "def check_word_rules(word):\n",
    "    split_len = 2 < min([len(w) for w in word.split()])\n",
    "    not_proper = word[0].islower()\n",
    "    return not_proper and split_len\n",
    "\n",
    "def correct_spelling_error(misspelled_word):\n",
    "    if misspelled_word in manual_corrections:\n",
    "        return manual_corrections[misspelled_word]\n",
    "    suggested_spellings = edict.suggest(misspelled_word)\n",
    "    match_ratios = [fuzz.token_sort_ratio(misspelled_word, word) for word in suggested_spellings]\n",
    "    words_sorted_by_ratio = sorted(zip(suggested_spellings, match_ratios), key=lambda x: x[1], reverse=True)\n",
    "    words_sorted_by_ratio = [wordscore for wordscore in words_sorted_by_ratio if check_word_rules(wordscore[0])]\n",
    "    check_compounds = [word[0] for word in words_sorted_by_ratio if word[0].replace(' ', '') == misspelled_word]\n",
    "    if check_compounds:\n",
    "        return check_compounds[0]\n",
    "    if words_sorted_by_ratio[0][1] > 80:\n",
    "        return words_sorted_by_ratio[0][0]\n",
    "\n",
    "    for word, score in words_sorted_by_ratio:\n",
    "        if score >= 75 and word[0] == misspelled_word[0]:\n",
    "            return word\n",
    "        elif score >= 75:                    \n",
    "            return word\n",
    "    return None\n",
    "\n",
    "def apply_spelling_fix(orig_text):\n",
    "    orig_text_tokens = wordpunct_tokenize(orig_text)\n",
    "    processed_tokens = []\n",
    "    for token in orig_text_tokens:\n",
    "        norm_token = token.lower()\n",
    "        if len(norm_token) < 4:\n",
    "            processed_tokens.append(token)\n",
    "            continue\n",
    "        if check_mispelled(norm_token):\n",
    "            suggested_replacements = edict.suggest(token)\n",
    "            replacement_text = correct_spelling_error(norm_token, suggested_replacements)\n",
    "            if replacement_text:\n",
    "                if norm_token[0].isupper():\n",
    "                    replacement_text = upper(replacement_text[0]) + replaced_text[1:]\n",
    "                processed_tokens.append(replacement_text)\n",
    "            else:\n",
    "                processed_tokens.append(token)\n",
    "        else:\n",
    "            processed_tokens.append(token)\n",
    "    return ' '.join(processed_tokens)\n",
    "\n",
    "def diff_corrected_text(orig_text, corrected_text):\n",
    "    diff = dmp.diff_main(orig_text, corrected_text)\n",
    "    return HTML(dmp.diff_prettyHtml(diff))\n",
    "\n",
    "def specify_lesson_q_path(lesson):\n",
    "    pass\n",
    "\n",
    "def apply_spelling_and_grammar_to_ds(ck12_ds):\n",
    "    return\n",
    "\n",
    "def spellcheck_entry(entry_words):\n",
    "    misspellings = [check_mispelled(word) for word in entry_words]\n",
    "    if sum(misspellings):\n",
    "        for idx, is_mispelled in enumerate(misspellings):\n",
    "            if is_mispelled:\n",
    "                suggested_replacement = correct_spelling_error(entry_words[idx])\n",
    "                if suggested_replacement:\n",
    "#                     words_changed.append([char_name_words[idx], suggested_replacement])\n",
    "                    entry_words[idx] = suggested_replacement\n",
    "        return entry_words\n",
    "    else:\n",
    "        return None\n",
    "\n",
    "def spellcheck_video(video):\n",
    "    corrected_words = []\n",
    "    for entity in video._data['characters'] + video._data['objects']:\n",
    "        if 'entityLabel' not in entity.data().keys():\n",
    "            pass\n",
    "        entry_words = wordpunct_tokenize(entity.data()['entityLabel'])\n",
    "#         print(entry_words)\n",
    "        new_corrected_words = spellcheck_entry(entry_words)\n",
    "        if new_corrected_words:\n",
    "            entity._data['originalSpelling'] = entity._data['entityLabel']\n",
    "            entity._data['entityLabel'] = ' '.join(new_corrected_words).replace(' , ', ', ').replace(' . ', '.')\n",
    "            corrected_words.append(new_corrected_words)\n",
    "    description_words = wordpunct_tokenize(video.description())\n",
    "    new_corrected_words = spellcheck_entry(description_words)\n",
    "    if new_corrected_words:\n",
    "        video._data['originalDescription'] = video._data['description']\n",
    "        video._data['description'] = ' '.join(new_corrected_words).replace(' , ', ', ').replace(' . ', '.')\n",
    "        corrected_words.append(new_corrected_words)\n",
    "    return corrected_words\n",
    "\n",
    "def spellcheck_dataset(dataset):\n",
    "    corrected = {}\n",
    "    for vid in dataset:\n",
    "        try:\n",
    "            corrections = spellcheck_video(vid)\n",
    "            if corrections:\n",
    "                corrected[vid.gid()] = corrections\n",
    "        except:\n",
    "            pass\n",
    "#             print(vid.gid())\n",
    "    return corrected\n",
    "\n",
    "def grammar_check_video(video):\n",
    "    all_errors = []\n",
    "    for entity in video._data['characters']:\n",
    "        errors = gram_checker.check(entity.data()['entityLabel'])\n",
    "        if errors:\n",
    "            all_errors.append(errors)\n",
    "    return all_errors\n",
    "\n",
    "def grammar_check_dataset(dataset):\n",
    "    corrected = {}\n",
    "    for vid in dataset:\n",
    "        corrections = grammar_check_video(vid)\n",
    "        if corrections:\n",
    "            corrected[vid.gid()] = corrections\n",
    "    return corrected"
   ]
  },
  {
   "cell_type": "markdown",
   "metadata": {
    "hidden": true
   },
   "source": [
    "## 4.1 grammer experiment"
   ]
  },
  {
   "cell_type": "code",
   "execution_count": 30,
   "metadata": {
    "hidden": true,
    "run_control": {
     "frozen": false,
     "read_only": false
    }
   },
   "outputs": [],
   "source": [
    "import language_check"
   ]
  },
  {
   "cell_type": "code",
   "execution_count": 268,
   "metadata": {
    "hidden": true,
    "run_control": {
     "frozen": false,
     "read_only": false
    }
   },
   "outputs": [],
   "source": [
    "gram_checker = language_check.LanguageTool('en-US')\n",
    "gram_checker.disabled = set(['UPPERCASE_SENTENCE_START'])\n",
    "gram_checker.disable_spellchecking()"
   ]
  },
  {
   "cell_type": "code",
   "execution_count": 269,
   "metadata": {
    "hidden": true,
    "run_control": {
     "frozen": false,
     "read_only": false
    }
   },
   "outputs": [
    {
     "data": {
      "text/plain": [
       "[]"
      ]
     },
     "execution_count": 269,
     "metadata": {},
     "output_type": "execute_result"
    }
   ],
   "source": [
    "grammar_check_video(test_vid)"
   ]
  },
  {
   "cell_type": "code",
   "execution_count": null,
   "metadata": {
    "hidden": true,
    "run_control": {
     "frozen": false,
     "read_only": false
    }
   },
   "outputs": [],
   "source": [
    "desc_with_errors = {}\n",
    "corrected_desc = {}\n",
    "for diag, desc_text in diagram_desc_dict.items():\n",
    "    errors = gram_checker.check(desc_text)\n",
    "    if errors:\n",
    "        desc_with_errors[diag] = errors\n",
    "        corrected_desc[diag] = gram_checker.correct(desc_text)"
   ]
  },
  {
   "cell_type": "code",
   "execution_count": null,
   "metadata": {
    "hidden": true,
    "run_control": {
     "frozen": false,
     "read_only": false
    }
   },
   "outputs": [],
   "source": []
  },
  {
   "cell_type": "code",
   "execution_count": null,
   "metadata": {
    "hidden": true,
    "run_control": {
     "frozen": false,
     "read_only": false
    }
   },
   "outputs": [],
   "source": [
    "test_vid = prod_dataset_2_3_4.get_video('s_01_e_23_shot_030081_030155')"
   ]
  },
  {
   "cell_type": "code",
   "execution_count": null,
   "metadata": {
    "hidden": true,
    "run_control": {
     "frozen": false,
     "marked": true,
     "read_only": false
    }
   },
   "outputs": [],
   "source": [
    "corrected_words = spellcheck_entry(test_ent)\n",
    "if corrected_words:\n",
    "    t = ' '.join(corrected_words).replace(' , ', ', ').replace(' . ', '.')"
   ]
  },
  {
   "cell_type": "code",
   "execution_count": null,
   "metadata": {
    "hidden": true,
    "run_control": {
     "frozen": false,
     "read_only": false
    }
   },
   "outputs": [],
   "source": [
    "' '.join(char_name_words).replace(' , ', ', ').replace(' . ', '.')"
   ]
  },
  {
   "cell_type": "code",
   "execution_count": null,
   "metadata": {
    "hidden": true,
    "run_control": {
     "frozen": false,
     "read_only": false
    }
   },
   "outputs": [],
   "source": [
    "dataset_v1p1 = copy.deepcopy(complete_vids)"
   ]
  },
  {
   "cell_type": "code",
   "execution_count": null,
   "metadata": {
    "hidden": true,
    "run_control": {
     "frozen": false,
     "read_only": false
    }
   },
   "outputs": [],
   "source": [
    "corrected_words = spellcheck_dataset(tqdm(selected_vids_3a))"
   ]
  },
  {
   "cell_type": "code",
   "execution_count": null,
   "metadata": {
    "hidden": true,
    "run_control": {
     "frozen": false,
     "read_only": false
    }
   },
   "outputs": [],
   "source": [
    "gram_errs = grammar_check_dataset(tqdm(selected_vids_3a))"
   ]
  },
  {
   "cell_type": "code",
   "execution_count": null,
   "metadata": {
    "hidden": true,
    "run_control": {
     "frozen": false,
     "read_only": false
    }
   },
   "outputs": [],
   "source": [
    "spelling_and_grammar_issue_vids = set(gram_errs.keys()).union(set(corrected_words.keys()))"
   ]
  },
  {
   "cell_type": "code",
   "execution_count": null,
   "metadata": {
    "hidden": true,
    "run_control": {
     "frozen": false,
     "read_only": false
    }
   },
   "outputs": [],
   "source": [
    "len(spelling_and_grammar_issue_vids)"
   ]
  },
  {
   "cell_type": "code",
   "execution_count": null,
   "metadata": {
    "hidden": true,
    "run_control": {
     "frozen": false,
     "read_only": false
    }
   },
   "outputs": [],
   "source": [
    "clean_selected_vids_3a = [vid for vid in selected_vids_3a if vid.gid() not in spelling_and_grammar_issue_vids]"
   ]
  },
  {
   "cell_type": "code",
   "execution_count": null,
   "metadata": {
    "hidden": true,
    "run_control": {
     "frozen": false,
     "read_only": false
    }
   },
   "outputs": [],
   "source": [
    "len(clean_selected_vids_3a)"
   ]
  },
  {
   "cell_type": "code",
   "execution_count": null,
   "metadata": {
    "hidden": true,
    "run_control": {
     "frozen": false,
     "read_only": false
    }
   },
   "outputs": [],
   "source": [
    "'s_03_e_27_shot_022812_022886'  in spelling_and_grammar_issue_vids"
   ]
  },
  {
   "cell_type": "code",
   "execution_count": null,
   "metadata": {
    "hidden": true,
    "run_control": {
     "frozen": false,
     "read_only": false
    }
   },
   "outputs": [],
   "source": [
    "pickle_this(clean_selected_vids_3a, 'prod_2_3_4_clean_have_3a_need_3b.pkl')"
   ]
  },
  {
   "cell_type": "code",
   "execution_count": null,
   "metadata": {
    "hidden": true,
    "run_control": {
     "frozen": false,
     "read_only": false
    }
   },
   "outputs": [],
   "source": [
    "pickle_this(dataset_v0p1, 'dataset_v0p1.pkl')\n",
    "\n",
    "with open('dataset_v0p1.json', 'w') as f:\n",
    "    json.dump(dataset_v0p1, f, indent=4, sort_keys=True)"
   ]
  },
  {
   "cell_type": "markdown",
   "metadata": {},
   "source": [
    "# 5. DS integrity checks"
   ]
  },
  {
   "cell_type": "code",
   "execution_count": 147,
   "metadata": {},
   "outputs": [],
   "source": [
    "test_vid = complete_dataset.data[0]"
   ]
  },
  {
   "cell_type": "code",
   "execution_count": 179,
   "metadata": {},
   "outputs": [
    {
     "data": {
      "text/plain": [
       "{\n",
       "    \"characters\": [\n",
       "        {\n",
       "            \"entityLabel\": \"fred\",\n",
       "            \"entitySpan\": [\n",
       "                0,\n",
       "                1\n",
       "            ],\n",
       "            \"globalID\": \"s_02_e_08_shot_019539_019613_char_0\",\n",
       "            \"labelNPC\": \"fred\",\n",
       "            \"rectangles\": [\n",
       "                [\n",
       "                    181,\n",
       "                    43,\n",
       "                    489,\n",
       "                    478\n",
       "                ],\n",
       "                [\n",
       "                    179,\n",
       "                    46,\n",
       "                    491,\n",
       "                    480\n",
       "                ],\n",
       "                [\n",
       "                    179,\n",
       "                    46,\n",
       "                    490,\n",
       "                    480\n",
       "                ]\n",
       "            ]\n",
       "        }\n",
       "    ],\n",
       "    \"description\": \"Fred is speaking to someone else in the room.\",\n",
       "    \"globalID\": \"s_02_e_08_shot_019539_019613\",\n",
       "    \"keyFrames\": [\n",
       "        \"s_02_e_08_shot_019539_019613_10.png\",\n",
       "        \"s_02_e_08_shot_019539_019613_40.png\",\n",
       "        \"s_02_e_08_shot_019539_019613_70.png\"\n",
       "    ],\n",
       "    \"objects\": [],\n",
       "    \"parse\": {\n",
       "        \"coref\": [],\n",
       "        \"noun_phrase_chunks\": {\n",
       "            \"aligned_description\": \"Fred is speaking to someone else in the room.\",\n",
       "            \"chunks\": [\n",
       "                [\n",
       "                    0,\n",
       "                    1\n",
       "                ],\n",
       "                [\n",
       "                    4,\n",
       "                    6\n",
       "                ],\n",
       "                [\n",
       "                    7,\n",
       "                    9\n",
       "                ]\n",
       "            ],\n",
       "            \"named_chunks\": [\n",
       "                \"Fred\",\n",
       "                \"someone else\",\n",
       "                \"the room\"\n",
       "            ],\n",
       "            \"token_spans\": [\n",
       "                [\n",
       "                    \"Fred\",\n",
       "                    0,\n",
       "                    4\n",
       "                ],\n",
       "                [\n",
       "                    \"is\",\n",
       "                    5,\n",
       "                    7\n",
       "                ],\n",
       "                [\n",
       "                    \"speaking\",\n",
       "                    8,\n",
       "                    16\n",
       "                ],\n",
       "                [\n",
       "                    \"to\",\n",
       "                    17,\n",
       "                    19\n",
       "                ],\n",
       "                [\n",
       "                    \"someone\",\n",
       "                    20,\n",
       "                    27\n",
       "                ],\n",
       "                [\n",
       "                    \"else\",\n",
       "                    28,\n",
       "                    32\n",
       "                ],\n",
       "                [\n",
       "                    \"in\",\n",
       "                    33,\n",
       "                    35\n",
       "                ],\n",
       "                [\n",
       "                    \"the\",\n",
       "                    36,\n",
       "                    39\n",
       "                ],\n",
       "                [\n",
       "                    \"room\",\n",
       "                    40,\n",
       "                    44\n",
       "                ],\n",
       "                [\n",
       "                    \".\",\n",
       "                    44,\n",
       "                    45\n",
       "                ]\n",
       "            ]\n",
       "        },\n",
       "        \"pos_tags\": [\n",
       "            [\n",
       "                \"Fred\",\n",
       "                \"NNP\"\n",
       "            ],\n",
       "            [\n",
       "                \"is\",\n",
       "                \"VBZ\"\n",
       "            ],\n",
       "            [\n",
       "                \"speaking\",\n",
       "                \"VBG\"\n",
       "            ],\n",
       "            [\n",
       "                \"to\",\n",
       "                \"TO\"\n",
       "            ],\n",
       "            [\n",
       "                \"someone\",\n",
       "                \"NN\"\n",
       "            ],\n",
       "            [\n",
       "                \"else\",\n",
       "                \"RB\"\n",
       "            ],\n",
       "            [\n",
       "                \"in\",\n",
       "                \"IN\"\n",
       "            ],\n",
       "            [\n",
       "                \"the\",\n",
       "                \"DT\"\n",
       "            ],\n",
       "            [\n",
       "                \"room\",\n",
       "                \"NN\"\n",
       "            ],\n",
       "            [\n",
       "                \".\",\n",
       "                \".\"\n",
       "            ]\n",
       "        ]\n",
       "    },\n",
       "    \"setting\": \"room\",\n",
       "    \"status\": {\n",
       "        \"go\": true,\n",
       "        \"reason\": \"\",\n",
       "        \"stage\": \"stage_4b- no objects\"\n",
       "    }\n",
       "}"
      ]
     },
     "execution_count": 179,
     "metadata": {},
     "output_type": "execute_result"
    }
   ],
   "source": [
    "test_vid"
   ]
  },
  {
   "cell_type": "code",
   "execution_count": 238,
   "metadata": {},
   "outputs": [],
   "source": [
    "def validate_vid(video):\n",
    "    for field, val in video.data().items():\n",
    "        if not val and field != 'objects':\n",
    "            return {'vid': video.gid(), 'failed_on':field}\n",
    "#     for ent in video.data()['characters'] + video.data()['objects']:\n",
    "#         for field, val in ent.data().items():\n",
    "#             if not val:\n",
    "#                 return video.gid()"
   ]
  },
  {
   "cell_type": "code",
   "execution_count": 239,
   "metadata": {},
   "outputs": [],
   "source": [
    "failed_vids = [validate_vid(vid) for vid in final_clean_complete_vids]\n",
    "failed_vids = [vid for vid in failed_vids if vid]\n",
    "failed_df = pd.DataFrame(failed_vids)"
   ]
  },
  {
   "cell_type": "code",
   "execution_count": 240,
   "metadata": {},
   "outputs": [
    {
     "data": {
      "text/plain": [
       "setting    121\n",
       "Name: failed_on, dtype: int64"
      ]
     },
     "execution_count": 240,
     "metadata": {},
     "output_type": "execute_result"
    }
   ],
   "source": [
    "failed_df['failed_on'].value_counts()"
   ]
  },
  {
   "cell_type": "code",
   "execution_count": 242,
   "metadata": {},
   "outputs": [
    {
     "data": {
      "text/html": [
       "<div>\n",
       "<style scoped>\n",
       "    .dataframe tbody tr th:only-of-type {\n",
       "        vertical-align: middle;\n",
       "    }\n",
       "\n",
       "    .dataframe tbody tr th {\n",
       "        vertical-align: top;\n",
       "    }\n",
       "\n",
       "    .dataframe thead th {\n",
       "        text-align: right;\n",
       "    }\n",
       "</style>\n",
       "<table border=\"1\" class=\"dataframe\">\n",
       "  <thead>\n",
       "    <tr style=\"text-align: right;\">\n",
       "      <th></th>\n",
       "      <th>failed_on</th>\n",
       "      <th>vid</th>\n",
       "    </tr>\n",
       "  </thead>\n",
       "  <tbody>\n",
       "    <tr>\n",
       "      <th>0</th>\n",
       "      <td>setting</td>\n",
       "      <td>s_05_e_24_shot_013596_013670</td>\n",
       "    </tr>\n",
       "    <tr>\n",
       "      <th>1</th>\n",
       "      <td>setting</td>\n",
       "      <td>s_04_e_13_shot_007813_007887</td>\n",
       "    </tr>\n",
       "    <tr>\n",
       "      <th>2</th>\n",
       "      <td>setting</td>\n",
       "      <td>s_03_e_19_shot_035167_035241</td>\n",
       "    </tr>\n",
       "    <tr>\n",
       "      <th>3</th>\n",
       "      <td>setting</td>\n",
       "      <td>s_01_e_23_shot_027192_027266</td>\n",
       "    </tr>\n",
       "    <tr>\n",
       "      <th>4</th>\n",
       "      <td>setting</td>\n",
       "      <td>s_05_e_13_shot_012232_012306</td>\n",
       "    </tr>\n",
       "    <tr>\n",
       "      <th>5</th>\n",
       "      <td>setting</td>\n",
       "      <td>s_05_e_22_shot_034309_034383</td>\n",
       "    </tr>\n",
       "    <tr>\n",
       "      <th>6</th>\n",
       "      <td>setting</td>\n",
       "      <td>s_03_e_09_shot_038709_038783</td>\n",
       "    </tr>\n",
       "    <tr>\n",
       "      <th>7</th>\n",
       "      <td>setting</td>\n",
       "      <td>s_06_e_15_shot_013344_013418</td>\n",
       "    </tr>\n",
       "    <tr>\n",
       "      <th>8</th>\n",
       "      <td>setting</td>\n",
       "      <td>s_02_e_13_shot_029973_030047</td>\n",
       "    </tr>\n",
       "    <tr>\n",
       "      <th>9</th>\n",
       "      <td>setting</td>\n",
       "      <td>s_03_e_09_shot_035325_035399</td>\n",
       "    </tr>\n",
       "    <tr>\n",
       "      <th>10</th>\n",
       "      <td>setting</td>\n",
       "      <td>s_02_e_01_shot_030444_030518</td>\n",
       "    </tr>\n",
       "    <tr>\n",
       "      <th>11</th>\n",
       "      <td>setting</td>\n",
       "      <td>s_03_e_16_shot_002365_002439</td>\n",
       "    </tr>\n",
       "    <tr>\n",
       "      <th>12</th>\n",
       "      <td>setting</td>\n",
       "      <td>s_01_e_15_shot_018876_018950</td>\n",
       "    </tr>\n",
       "    <tr>\n",
       "      <th>13</th>\n",
       "      <td>setting</td>\n",
       "      <td>s_05_e_25_shot_023738_023812</td>\n",
       "    </tr>\n",
       "    <tr>\n",
       "      <th>14</th>\n",
       "      <td>setting</td>\n",
       "      <td>s_03_e_17_shot_010714_010788</td>\n",
       "    </tr>\n",
       "    <tr>\n",
       "      <th>15</th>\n",
       "      <td>setting</td>\n",
       "      <td>s_03_e_28_shot_025619_025693</td>\n",
       "    </tr>\n",
       "    <tr>\n",
       "      <th>16</th>\n",
       "      <td>setting</td>\n",
       "      <td>s_05_e_16_shot_034593_034667</td>\n",
       "    </tr>\n",
       "    <tr>\n",
       "      <th>17</th>\n",
       "      <td>setting</td>\n",
       "      <td>s_04_e_14_shot_021862_021936</td>\n",
       "    </tr>\n",
       "    <tr>\n",
       "      <th>18</th>\n",
       "      <td>setting</td>\n",
       "      <td>s_05_e_16_shot_024885_024959</td>\n",
       "    </tr>\n",
       "    <tr>\n",
       "      <th>19</th>\n",
       "      <td>setting</td>\n",
       "      <td>s_03_e_18_shot_010721_010795</td>\n",
       "    </tr>\n",
       "    <tr>\n",
       "      <th>20</th>\n",
       "      <td>setting</td>\n",
       "      <td>s_02_e_05_shot_005313_005387</td>\n",
       "    </tr>\n",
       "    <tr>\n",
       "      <th>21</th>\n",
       "      <td>setting</td>\n",
       "      <td>s_06_e_05_shot_031898_031972</td>\n",
       "    </tr>\n",
       "    <tr>\n",
       "      <th>22</th>\n",
       "      <td>setting</td>\n",
       "      <td>s_06_e_24_shot_019556_019630</td>\n",
       "    </tr>\n",
       "    <tr>\n",
       "      <th>23</th>\n",
       "      <td>setting</td>\n",
       "      <td>s_02_e_18_shot_019136_019210</td>\n",
       "    </tr>\n",
       "    <tr>\n",
       "      <th>24</th>\n",
       "      <td>setting</td>\n",
       "      <td>s_01_e_13_shot_019657_019731</td>\n",
       "    </tr>\n",
       "    <tr>\n",
       "      <th>25</th>\n",
       "      <td>setting</td>\n",
       "      <td>s_06_e_11_shot_006006_006080</td>\n",
       "    </tr>\n",
       "    <tr>\n",
       "      <th>26</th>\n",
       "      <td>setting</td>\n",
       "      <td>s_01_e_17_shot_005850_005924</td>\n",
       "    </tr>\n",
       "    <tr>\n",
       "      <th>27</th>\n",
       "      <td>setting</td>\n",
       "      <td>s_02_e_12_shot_035330_035404</td>\n",
       "    </tr>\n",
       "    <tr>\n",
       "      <th>28</th>\n",
       "      <td>setting</td>\n",
       "      <td>s_06_e_21_shot_012402_012476</td>\n",
       "    </tr>\n",
       "    <tr>\n",
       "      <th>29</th>\n",
       "      <td>setting</td>\n",
       "      <td>s_05_e_17_shot_004431_004505</td>\n",
       "    </tr>\n",
       "    <tr>\n",
       "      <th>...</th>\n",
       "      <td>...</td>\n",
       "      <td>...</td>\n",
       "    </tr>\n",
       "    <tr>\n",
       "      <th>91</th>\n",
       "      <td>setting</td>\n",
       "      <td>s_02_e_21_shot_030871_030945</td>\n",
       "    </tr>\n",
       "    <tr>\n",
       "      <th>92</th>\n",
       "      <td>setting</td>\n",
       "      <td>s_05_e_02_shot_028743_028817</td>\n",
       "    </tr>\n",
       "    <tr>\n",
       "      <th>93</th>\n",
       "      <td>setting</td>\n",
       "      <td>s_06_e_03_shot_015829_015903</td>\n",
       "    </tr>\n",
       "    <tr>\n",
       "      <th>94</th>\n",
       "      <td>setting</td>\n",
       "      <td>s_06_e_02_shot_022196_022270</td>\n",
       "    </tr>\n",
       "    <tr>\n",
       "      <th>95</th>\n",
       "      <td>setting</td>\n",
       "      <td>s_03_e_09_shot_001283_001357</td>\n",
       "    </tr>\n",
       "    <tr>\n",
       "      <th>96</th>\n",
       "      <td>setting</td>\n",
       "      <td>s_03_e_23_shot_030987_031061</td>\n",
       "    </tr>\n",
       "    <tr>\n",
       "      <th>97</th>\n",
       "      <td>setting</td>\n",
       "      <td>s_01_e_22_shot_010941_011015</td>\n",
       "    </tr>\n",
       "    <tr>\n",
       "      <th>98</th>\n",
       "      <td>setting</td>\n",
       "      <td>s_06_e_11_shot_011000_011074</td>\n",
       "    </tr>\n",
       "    <tr>\n",
       "      <th>99</th>\n",
       "      <td>setting</td>\n",
       "      <td>s_03_e_11_shot_013123_013197</td>\n",
       "    </tr>\n",
       "    <tr>\n",
       "      <th>100</th>\n",
       "      <td>setting</td>\n",
       "      <td>s_02_e_14_shot_022165_022239</td>\n",
       "    </tr>\n",
       "    <tr>\n",
       "      <th>101</th>\n",
       "      <td>setting</td>\n",
       "      <td>s_05_e_20_shot_005588_005662</td>\n",
       "    </tr>\n",
       "    <tr>\n",
       "      <th>102</th>\n",
       "      <td>setting</td>\n",
       "      <td>s_02_e_28_shot_007326_007400</td>\n",
       "    </tr>\n",
       "    <tr>\n",
       "      <th>103</th>\n",
       "      <td>setting</td>\n",
       "      <td>s_05_e_07_shot_035090_035164</td>\n",
       "    </tr>\n",
       "    <tr>\n",
       "      <th>104</th>\n",
       "      <td>setting</td>\n",
       "      <td>s_01_e_14_shot_010398_010472</td>\n",
       "    </tr>\n",
       "    <tr>\n",
       "      <th>105</th>\n",
       "      <td>setting</td>\n",
       "      <td>s_05_e_01_shot_012257_012331</td>\n",
       "    </tr>\n",
       "    <tr>\n",
       "      <th>106</th>\n",
       "      <td>setting</td>\n",
       "      <td>s_06_e_13_shot_026794_026868</td>\n",
       "    </tr>\n",
       "    <tr>\n",
       "      <th>107</th>\n",
       "      <td>setting</td>\n",
       "      <td>s_01_e_20_shot_029238_029312</td>\n",
       "    </tr>\n",
       "    <tr>\n",
       "      <th>108</th>\n",
       "      <td>setting</td>\n",
       "      <td>s_01_e_03_shot_011425_011499</td>\n",
       "    </tr>\n",
       "    <tr>\n",
       "      <th>109</th>\n",
       "      <td>setting</td>\n",
       "      <td>s_05_e_22_shot_036010_036084</td>\n",
       "    </tr>\n",
       "    <tr>\n",
       "      <th>110</th>\n",
       "      <td>setting</td>\n",
       "      <td>s_03_e_01_shot_016509_016583</td>\n",
       "    </tr>\n",
       "    <tr>\n",
       "      <th>111</th>\n",
       "      <td>setting</td>\n",
       "      <td>s_04_e_22_shot_029720_029794</td>\n",
       "    </tr>\n",
       "    <tr>\n",
       "      <th>112</th>\n",
       "      <td>setting</td>\n",
       "      <td>s_01_e_23_shot_028290_028364</td>\n",
       "    </tr>\n",
       "    <tr>\n",
       "      <th>113</th>\n",
       "      <td>setting</td>\n",
       "      <td>s_02_e_12_shot_021688_021762</td>\n",
       "    </tr>\n",
       "    <tr>\n",
       "      <th>114</th>\n",
       "      <td>setting</td>\n",
       "      <td>s_04_e_04_shot_008811_008885</td>\n",
       "    </tr>\n",
       "    <tr>\n",
       "      <th>115</th>\n",
       "      <td>setting</td>\n",
       "      <td>s_06_e_25_shot_003149_003223</td>\n",
       "    </tr>\n",
       "    <tr>\n",
       "      <th>116</th>\n",
       "      <td>setting</td>\n",
       "      <td>s_06_e_23_shot_004323_004397</td>\n",
       "    </tr>\n",
       "    <tr>\n",
       "      <th>117</th>\n",
       "      <td>setting</td>\n",
       "      <td>s_02_e_27_shot_033979_034053</td>\n",
       "    </tr>\n",
       "    <tr>\n",
       "      <th>118</th>\n",
       "      <td>setting</td>\n",
       "      <td>s_01_e_11_shot_022388_022462</td>\n",
       "    </tr>\n",
       "    <tr>\n",
       "      <th>119</th>\n",
       "      <td>setting</td>\n",
       "      <td>s_02_e_27_shot_010177_010251</td>\n",
       "    </tr>\n",
       "    <tr>\n",
       "      <th>120</th>\n",
       "      <td>setting</td>\n",
       "      <td>s_02_e_22_shot_024086_024160</td>\n",
       "    </tr>\n",
       "  </tbody>\n",
       "</table>\n",
       "<p>121 rows × 2 columns</p>\n",
       "</div>"
      ],
      "text/plain": [
       "    failed_on                           vid\n",
       "0     setting  s_05_e_24_shot_013596_013670\n",
       "1     setting  s_04_e_13_shot_007813_007887\n",
       "2     setting  s_03_e_19_shot_035167_035241\n",
       "3     setting  s_01_e_23_shot_027192_027266\n",
       "4     setting  s_05_e_13_shot_012232_012306\n",
       "5     setting  s_05_e_22_shot_034309_034383\n",
       "6     setting  s_03_e_09_shot_038709_038783\n",
       "7     setting  s_06_e_15_shot_013344_013418\n",
       "8     setting  s_02_e_13_shot_029973_030047\n",
       "9     setting  s_03_e_09_shot_035325_035399\n",
       "10    setting  s_02_e_01_shot_030444_030518\n",
       "11    setting  s_03_e_16_shot_002365_002439\n",
       "12    setting  s_01_e_15_shot_018876_018950\n",
       "13    setting  s_05_e_25_shot_023738_023812\n",
       "14    setting  s_03_e_17_shot_010714_010788\n",
       "15    setting  s_03_e_28_shot_025619_025693\n",
       "16    setting  s_05_e_16_shot_034593_034667\n",
       "17    setting  s_04_e_14_shot_021862_021936\n",
       "18    setting  s_05_e_16_shot_024885_024959\n",
       "19    setting  s_03_e_18_shot_010721_010795\n",
       "20    setting  s_02_e_05_shot_005313_005387\n",
       "21    setting  s_06_e_05_shot_031898_031972\n",
       "22    setting  s_06_e_24_shot_019556_019630\n",
       "23    setting  s_02_e_18_shot_019136_019210\n",
       "24    setting  s_01_e_13_shot_019657_019731\n",
       "25    setting  s_06_e_11_shot_006006_006080\n",
       "26    setting  s_01_e_17_shot_005850_005924\n",
       "27    setting  s_02_e_12_shot_035330_035404\n",
       "28    setting  s_06_e_21_shot_012402_012476\n",
       "29    setting  s_05_e_17_shot_004431_004505\n",
       "..        ...                           ...\n",
       "91    setting  s_02_e_21_shot_030871_030945\n",
       "92    setting  s_05_e_02_shot_028743_028817\n",
       "93    setting  s_06_e_03_shot_015829_015903\n",
       "94    setting  s_06_e_02_shot_022196_022270\n",
       "95    setting  s_03_e_09_shot_001283_001357\n",
       "96    setting  s_03_e_23_shot_030987_031061\n",
       "97    setting  s_01_e_22_shot_010941_011015\n",
       "98    setting  s_06_e_11_shot_011000_011074\n",
       "99    setting  s_03_e_11_shot_013123_013197\n",
       "100   setting  s_02_e_14_shot_022165_022239\n",
       "101   setting  s_05_e_20_shot_005588_005662\n",
       "102   setting  s_02_e_28_shot_007326_007400\n",
       "103   setting  s_05_e_07_shot_035090_035164\n",
       "104   setting  s_01_e_14_shot_010398_010472\n",
       "105   setting  s_05_e_01_shot_012257_012331\n",
       "106   setting  s_06_e_13_shot_026794_026868\n",
       "107   setting  s_01_e_20_shot_029238_029312\n",
       "108   setting  s_01_e_03_shot_011425_011499\n",
       "109   setting  s_05_e_22_shot_036010_036084\n",
       "110   setting  s_03_e_01_shot_016509_016583\n",
       "111   setting  s_04_e_22_shot_029720_029794\n",
       "112   setting  s_01_e_23_shot_028290_028364\n",
       "113   setting  s_02_e_12_shot_021688_021762\n",
       "114   setting  s_04_e_04_shot_008811_008885\n",
       "115   setting  s_06_e_25_shot_003149_003223\n",
       "116   setting  s_06_e_23_shot_004323_004397\n",
       "117   setting  s_02_e_27_shot_033979_034053\n",
       "118   setting  s_01_e_11_shot_022388_022462\n",
       "119   setting  s_02_e_27_shot_010177_010251\n",
       "120   setting  s_02_e_22_shot_024086_024160\n",
       "\n",
       "[121 rows x 2 columns]"
      ]
     },
     "execution_count": 242,
     "metadata": {},
     "output_type": "execute_result"
    }
   ],
   "source": [
    "failed_df"
   ]
  },
  {
   "cell_type": "code",
   "execution_count": 241,
   "metadata": {
    "scrolled": true
   },
   "outputs": [
    {
     "ename": "AttributeError",
     "evalue": "'list' object has no attribute 'iloc'",
     "output_type": "error",
     "traceback": [
      "\u001b[0;31m---------------------------------------------------------------------------\u001b[0m",
      "\u001b[0;31mAttributeError\u001b[0m                            Traceback (most recent call last)",
      "\u001b[0;32m<ipython-input-241-c4822c88141e>\u001b[0m in \u001b[0;36m<module>\u001b[0;34m()\u001b[0m\n\u001b[0;32m----> 1\u001b[0;31m \u001b[0mcomplete_dataset\u001b[0m\u001b[0;34m.\u001b[0m\u001b[0mget_video\u001b[0m\u001b[0;34m(\u001b[0m\u001b[0mfailed_vids\u001b[0m\u001b[0;34m.\u001b[0m\u001b[0miloc\u001b[0m\u001b[0;34m[\u001b[0m\u001b[0;36m0\u001b[0m\u001b[0;34m]\u001b[0m\u001b[0;34m)\u001b[0m\u001b[0;34m\u001b[0m\u001b[0m\n\u001b[0m",
      "\u001b[0;31mAttributeError\u001b[0m: 'list' object has no attribute 'iloc'"
     ]
    }
   ],
   "source": [
    "complete_dataset.get_video(failed_vids.iloc[0])"
   ]
  },
  {
   "cell_type": "code",
   "execution_count": null,
   "metadata": {},
   "outputs": [],
   "source": []
  },
  {
   "cell_type": "code",
   "execution_count": null,
   "metadata": {},
   "outputs": [],
   "source": []
  },
  {
   "cell_type": "code",
   "execution_count": null,
   "metadata": {},
   "outputs": [],
   "source": []
  },
  {
   "cell_type": "markdown",
   "metadata": {
    "heading_collapsed": true
   },
   "source": [
    "# 6. hide"
   ]
  },
  {
   "cell_type": "code",
   "execution_count": null,
   "metadata": {
    "hidden": true,
    "run_control": {
     "frozen": false,
     "read_only": false
    }
   },
   "outputs": [],
   "source": [
    "def concat_pos_tags(pos_tags):\n",
    "    pos_tags_concat = []\n",
    "    for pos in pos_tags:\n",
    "        for tagged_word in pos:\n",
    "            pos_tags_concat.append(tagged_word)\n",
    "\n",
    "    return pos_tags_concat\n",
    "\n",
    "def identify_referring_indices(\n",
    "        entity_npc,\n",
    "        entity_label_span,\n",
    "        descr_npcs,\n",
    "        coref_span_sets):\n",
    "    referring_idx = set()\n",
    "    s, e = entity_label_span\n",
    "    entity_label_span_set = set(range(s, e))\n",
    "    for i, descr_npc in enumerate(descr_npcs['named_chunks']):\n",
    "        s, e = descr_npcs['chunks'][i]\n",
    "        descr_npc_span_set = set(range(s, e))\n",
    "        if entity_npc.lower() == descr_npc.lower() and \\\n",
    "                (len(entity_label_span_set & descr_npc_span_set) > 0):\n",
    "            referring_idx.update(descr_npc_span_set)\n",
    "            break\n",
    "\n",
    "    for coref_span_set in coref_span_sets:\n",
    "        if len(coref_span_set & referring_idx) > 0:\n",
    "            referring_idx.update(coref_span_set)\n",
    "\n",
    "    for descr_npc_span in descr_npcs['chunks']:\n",
    "        s, e = descr_npc_span\n",
    "        descr_npc_span_set = set(range(s, e))\n",
    "        if len(descr_npc_span_set & referring_idx) > 0:\n",
    "            referring_idx.update(descr_npc_span_set)\n",
    "\n",
    "    return sorted(list(referring_idx))\n",
    "\n",
    "def get_coref_cluster_span_sets(coref):\n",
    "    if coref == []:\n",
    "        return []\n",
    "\n",
    "    coref_cluster_span_sets = []\n",
    "\n",
    "    for i, cluster in enumerate(coref['clusters']):\n",
    "        cluster_span = set()\n",
    "        for cluster_item in cluster:\n",
    "            cluster_span.update(set(range(cluster_item[0], cluster_item[1])))\n",
    "\n",
    "        coref_cluster_span_sets.append(cluster_span)\n",
    "\n",
    "    return coref_cluster_span_sets\n",
    "\n",
    "count = defaultdict(list)\n",
    "\n",
    "for video_anno_obj in fail_vids[:1]:\n",
    "    video_anno = video_anno_obj.data()\n",
    "    pos_tags = video_anno['parse']['pos_tags']\n",
    "    pos_tags_concat = concat_pos_tags(pos_tags)\n",
    "    coref = video_anno['parse']['coref']\n",
    "    coref_span_sets = get_coref_cluster_span_sets(coref)\n",
    "    npcs = video_anno['parse']['noun_phrase_chunks']\n",
    "    for entity_anno_obj in video_anno['characters']+video_anno['objects']:\n",
    "        entity_anno = entity_anno_obj.data()\n",
    "        if 'None' == entity_anno['entityLabel']:\n",
    "            count['none object'].append(video_anno_obj.gid())\n",
    "        try:\n",
    "            npc = entity_anno['labelNPC']\n",
    "        except KeyError:\n",
    "            count['missing NPC label'].append(video_anno_obj.gid())\n",
    "            break\n",
    "\n",
    "        if 'entitySpan' not in entity_anno:\n",
    "            count['missing entity span'].append(video_anno_obj.gid())\n",
    "            break\n",
    "\n",
    "        referring_idxs = identify_referring_indices(\n",
    "            npc,\n",
    "            entity_anno['entitySpan'],\n",
    "            npcs,\n",
    "            coref_span_sets)\n",
    "        try:\n",
    "            referring_words = \\\n",
    "                [pos_tags_concat[idx] for idx in referring_idxs]\n",
    "        except:\n",
    "            count['referring word issue'].append(video_anno_obj.gid())\n",
    "            break\n",
    "\n",
    "        if len(referring_words) == 0:\n",
    "            count['no referring words'].append(video_anno_obj.gid())\n",
    "            break"
   ]
  },
  {
   "cell_type": "code",
   "execution_count": null,
   "metadata": {
    "hidden": true,
    "run_control": {
     "frozen": false,
     "read_only": false
    }
   },
   "outputs": [],
   "source": [
    "# # cleaned_prod_batch_1 = [vid for vid in prod_batch_1 if vid not in remove_vids]\n",
    "\n",
    "# prod_dataset = FlintstonesDataset(cleaned_prod_batch_1)\n",
    "\n",
    "# prod_dataset.update_s1a(processed_stage_1_a)\n",
    "# prod_dataset.filter_on_s1_quality(failed_stage_1)\n",
    "# prod_dataset.update_s1b(processed_stage_1_b)\n",
    "\n",
    "# prod_dataset.update_s3a(stage_3a_settings)\n",
    "# prod_dataset.update_s3b(all_stage_3b_descriptions)\n",
    "\n",
    "# prod_dataset.update_s4a(all_stage_4a_boxes)\n",
    "# prod_dataset.update_s4b(all_stage_4b_boxes)\n",
    "\n",
    "# complete_vids = prod_dataset.filter_videos({'stage': 'stage_4b- objects', 'go': True}) + prod_dataset.filter_videos({'stage': 'stage_4b- no objects', 'go': True}) + prod_dataset.filter_videos({'stage': 'stage_4a', 'go': True})\n",
    "# # go_vids = prod_dataset.filter_videos({'go': True})\n",
    "# len(complete_vids)\n",
    "\n",
    "# prod_dataset\n",
    "\n",
    "# perform_parse(complete_vids, parse_lookup)\n",
    "\n",
    "# # _ = [interpolate_all_video_entites(vid) for vid in complete_vids]\n",
    "\n",
    "# _ = [vid.assign_ent_npcs(vid._data['objects'], False) for vid in complete_vids]\n",
    "# _ = [vid.assign_ent_npcs(vid._data['characters']) for vid in complete_vids]\n",
    "\n",
    "# spellcheck_dataset(complete_vids)\n",
    "\n",
    "# _ = [vid.assign_ent_npcs(vid._data['objects'], False) for vid in complete_vids]\n",
    "# _ = [vid.assign_ent_npcs(vid._data['characters']) for vid in complete_vids]\n",
    "\n",
    "# # complete_vids[0].data()['parse']\n",
    "\n",
    "# ds_errors = prod_dataset.verify_dataset()\n",
    "\n",
    "# {e: len(set(v)) for e, v in ds_errors.items()}\n",
    "\n",
    "# prod_dataset.generate_release_version('1p1')\n",
    "\n",
    "# # remove_vids = ds_errors['referring word issue'] + ds_errors['missing entity span']"
   ]
  },
  {
   "cell_type": "code",
   "execution_count": null,
   "metadata": {
    "hidden": true,
    "run_control": {
     "frozen": false,
     "read_only": false
    }
   },
   "outputs": [],
   "source": [
    "# gray = cv2.cvtColor(test_img,cv2.COLOR_BGR2GRAY)\n",
    "# ret, thresh = cv2.threshold(gray,0,255,cv2.THRESH_BINARY_INV+cv2.THRESH_OTSU)\n",
    "\n",
    "# # noise removal\n",
    "# kernel = np.ones((3,3),np.uint8)\n",
    "# opening = cv2.morphologyEx(thresh,cv2.MORPH_OPEN,kernel, iterations = 2)\n",
    "# # sure background area\n",
    "# sure_bg = cv2.dilate(opening,kernel,iterations=3)\n",
    "# # Finding sure foreground area\n",
    "# dist_transform = cv2.distanceTransform(opening,cv2.DIST_L2,5)\n",
    "# ret, sure_fg = cv2.threshold(dist_transform,0.7*dist_transform.max(),255,0)\n",
    "# # Finding unknown region\n",
    "# sure_fg = np.uint8(sure_fg)\n",
    "# unknown = cv2.subtract(sure_bg,sure_fg)\n",
    "\n",
    "# ret, markers = cv2.connectedComponents(sure_fg)\n",
    "# # Add one to all labels so that sure background is not 0, but 1\n",
    "# markers = markers+1\n",
    "# # Now, mark the region of unknown with zero\n",
    "# markers[unknown==255] = 0\n",
    "\n",
    "# markers = cv2.watershed(test_img,markers)\n",
    "# test_img[markers == -1] = [255,0,0]\n",
    "\n",
    "# pil.fromarray(test_img)\n"
   ]
  },
  {
   "cell_type": "code",
   "execution_count": null,
   "metadata": {
    "hidden": true,
    "run_control": {
     "frozen": false,
     "read_only": false
    }
   },
   "outputs": [],
   "source": [
    "with open('first_sample_ids.txt', 'w') as f:\n",
    "    f.writelines([i +  '\\n' for i in   sample_ids])"
   ]
  },
  {
   "cell_type": "code",
   "execution_count": null,
   "metadata": {
    "hidden": true,
    "run_control": {
     "frozen": false,
     "read_only": false
    }
   },
   "outputs": [],
   "source": [
    "# w_cor = unpickle_this('./stage_3/corrected_descriptions.pkl')"
   ]
  },
  {
   "cell_type": "code",
   "execution_count": null,
   "metadata": {
    "hidden": true,
    "run_control": {
     "frozen": false,
     "read_only": false
    }
   },
   "outputs": [],
   "source": [
    "## pickle_this(prod_dataset_2, 'prod_batch_2_for_s1.pkl')\n",
    "# pickle_this(prod_dataset_3, 'prod_batch_3_for_s1.pkl')\n",
    "# pickle_this(prod_dataset_4, 'prod_batch_4_for_s1.pkl')"
   ]
  },
  {
   "cell_type": "code",
   "execution_count": null,
   "metadata": {
    "hidden": true,
    "run_control": {
     "frozen": false,
     "read_only": false
    }
   },
   "outputs": [],
   "source": [
    "# # prod_dataset = flintstones_pipeline.FlintstonesDataset([vid_id])\n",
    "# prod_dataset = flintstones_pipeline.FlintstonesDataset(prod_batch_1)\n",
    "\n",
    "# prod_dataset.update_s1a(processed_stage_1_a)\n",
    "\n",
    "# # sorted_vids = prod_dataset.sorted_by_episode()\n",
    "# # prod_dataset\n"
   ]
  },
  {
   "cell_type": "code",
   "execution_count": null,
   "metadata": {
    "hidden": true,
    "run_control": {
     "frozen": false,
     "read_only": false
    }
   },
   "outputs": [],
   "source": [
    "# prod_dataset.update_s3a(stage_3a_settings)\n",
    "\n",
    "# prod_dataset.update_s3b(stage_3b_descriptions)\n",
    "\n",
    "# go_vids = prod_dataset.filter_videos({'go': True})\n",
    "\n",
    "# # pickle_this(go_vids, 'v0p2_to_parse.pkl')\n",
    "\n",
    "# # dataset_to_json(go_vids, '0p2_to_parse')"
   ]
  },
  {
   "cell_type": "code",
   "execution_count": null,
   "metadata": {
    "hidden": true,
    "run_control": {
     "frozen": false,
     "read_only": false
    }
   },
   "outputs": [],
   "source": [
    "# char_bboxes = np.load(bbox_dir + test_vid.gid() + '_char_0.npy')\n"
   ]
  },
  {
   "cell_type": "code",
   "execution_count": null,
   "metadata": {
    "hidden": true,
    "run_control": {
     "frozen": false,
     "read_only": false
    }
   },
   "outputs": [],
   "source": [
    "# ds_produ# char_bboxes = np.load(bbox_dir + test_vid.gid() + '_char_0.npy')\n",
    "ction = make_ds_skeleton(production_videos)\n",
    "# ds_complete_stage1_v1 = [vid for vid in ds_production if vid['globalID'] in processed_stage_1_a and vid['globalID'] in processed_stage_1_b]\n",
    "\n",
    "# stg1a = set(processed_stage_1_a.keys())\n",
    "# stg1b = set(processed_stage_1_b.keys())\n",
    "\n",
    "# len(stg1a.difference(stg1b))\n",
    "\n",
    "# single_clip = [vid for vid in ds_production if vid['globalID'] == 's_01_e_02_shot_014615_014689'][0]\n",
    "\n",
    "# pass_vids = [vid for bin_n, vid in vid_bins.items() if bin_n in pass_bins]\n",
    "# pass_vid_ids = set([item for sublist in pass_vids for item in sublist])\n",
    "\n",
    "# ds_complete_stage1_v1 = [vid for vid in ds_complete_stage1_v1 if vid['globalID'] in pass_vid_ids]\n",
    "\n",
    "# len(ds_complete_stage1_v1)\n",
    "\n",
    "# ds_complete_stage1_v1_all_clean = [vid for vid in ds_complete_stage1_v1 if vid['globalID'] not in shot_change]\n",
    "\n",
    "# len(ds_complete_stage1_v1_all_clean) / 12819\n",
    "\n",
    "# # weird_vid = [vid for vid in ds_complete_stage1_v1 if vid['globalID'] == 's_06_e_24_shot_005808_005882']\n",
    "\n",
    "# single_char_clips = [clip for clip in ds_complete_stage1_v1_all_clean if len(clip['characters']) == 1]\n",
    "\n",
    "# multi_char_clips = [clip for clip in ds_complete_stage1_v1_all_clean if len(clip['characters']) > 1 and len(clip['characters']) < 4]\n",
    "\n",
    "# all_reasonably_sized = [clip for clip in ds_complete_stage1_v1_all_clean if len(clip['characters']) > 0 and len(clip['characters']) < 4]\n",
    "\n",
    "# len(all_reasonably_sized)\n",
    "\n",
    "# # multi_char_sample = random.sample(multi_char_clips, 100)\n",
    "\n",
    "# len(multi_char_sample)\n",
    "\n",
    "# # pickle_this(multi_char_clips, 'stage_1_multi_char_sample.pkl')\n",
    "\n",
    "# # pickle_this(all_reasonably_sized, 'stage_1_less_than_4chars.pkl')\n",
    "\n",
    "# # pickle_this(single_char_clips, 'stage_1_single_char_updated.pkl')\n",
    "\n",
    "# # single_clip = three_char_clips[1]\n",
    "# # single_clip "
   ]
  },
  {
   "cell_type": "code",
   "execution_count": null,
   "metadata": {
    "hidden": true,
    "run_control": {
     "frozen": false,
     "read_only": false
    }
   },
   "outputs": [],
   "source": [
    "# # rem_reason = 'no characters annotated in stage1a'\n",
    "\n",
    "# filt_vids = prod_dataset.filter_videos({'reason': rem_reason})\n",
    "# len(filt_vids)\n",
    "\n",
    "# rand_vid = random.choice(filt_vids)\n",
    "# rand_vid.display_gif()"
   ]
  },
  {
   "cell_type": "code",
   "execution_count": null,
   "metadata": {
    "hidden": true,
    "run_control": {
     "frozen": false,
     "read_only": false
    }
   },
   "outputs": [],
   "source": [
    "# for vid in go_vids:\n",
    "#     vid.vid_data['parse'] = stage_3b_parses[vid.gid()] \n",
    "\n",
    "# for vid in go_vids:\n",
    "#     vid.vid_data['characters'] = [char.data() for char in vid.vid_data['characters']]\n",
    "\n",
    "# ds_json = [vid.vid_data for vid in go_vids]\n",
    "\n",
    "# len(ds_json)\n",
    "\n",
    "# tc = ds_json[0]['characters'][0]\n",
    "\n",
    "# with open('dataset_v0p2.json', 'w') as f:\n",
    "#     json.dump(ds_json, f, sort_keys=True, indent=4)\n",
    "\n",
    "# demo_vid = prod_dataset.get_video('s_05_e_09_shot_032756_032830')\n",
    "\n",
    "# demo_vid.display_keyframes()\n",
    "\n",
    "# demo_vid.display_gif()"
   ]
  },
  {
   "cell_type": "code",
   "execution_count": null,
   "metadata": {
    "hidden": true,
    "run_control": {
     "frozen": false,
     "read_only": false
    }
   },
   "outputs": [],
   "source": []
  },
  {
   "cell_type": "code",
   "execution_count": null,
   "metadata": {
    "code_folding": [],
    "hidden": true,
    "run_control": {
     "frozen": false,
     "read_only": false
    }
   },
   "outputs": [],
   "source": [
    "from anigen_tools.segmentation import segment_entity_rect\n",
    "from anigen_tools.tracking import draw_all_bboxes\n",
    "from anigen_tools.tracking import scale_boxes"
   ]
  },
  {
   "cell_type": "code",
   "execution_count": null,
   "metadata": {
    "hidden": true,
    "run_control": {
     "frozen": false,
     "read_only": false
    }
   },
   "outputs": [],
   "source": [
    "test_vid = complete_dataset.get_video('s_05_e_09_shot_040095_040169')"
   ]
  },
  {
   "cell_type": "code",
   "execution_count": null,
   "metadata": {
    "hidden": true,
    "run_control": {
     "frozen": false,
     "read_only": false
    }
   },
   "outputs": [],
   "source": [
    "test_vid.display_bounding_boxes()"
   ]
  },
  {
   "cell_type": "code",
   "execution_count": null,
   "metadata": {
    "hidden": true,
    "run_control": {
     "frozen": false,
     "read_only": false
    },
    "scrolled": true
   },
   "outputs": [],
   "source": [
    "frame_n = 40\n",
    "test_frames = np.load('./retrieved/trajectories/frame_arr_data/s_05_e_09_shot_040095_040169.npy')\n",
    "test_rects = np.load('./retrieved/trajectories/tracking/s_05_e_09_shot_040095_040169_char_0.npy')\n",
    "test_rects_1 = np.load('./retrieved/trajectories/tracking/s_05_e_09_shot_040095_040169_bed,_0_5.npy')\n",
    "\n",
    "orig_frame = test_frames[frame_n]"
   ]
  },
  {
   "cell_type": "code",
   "execution_count": null,
   "metadata": {
    "hidden": true,
    "run_control": {
     "frozen": false,
     "read_only": false
    }
   },
   "outputs": [],
   "source": [
    "draw_all_bboxes(orig_frame, [test_rects[frame_n]])"
   ]
  },
  {
   "cell_type": "code",
   "execution_count": null,
   "metadata": {
    "hidden": true,
    "run_control": {
     "frozen": false,
     "read_only": false
    }
   },
   "outputs": [],
   "source": [
    "new_dim = 128\n",
    "owidth = 640\n",
    "oheight = 480\n",
    "\n",
    "scale_down = new_dim / owidth\n",
    "asp_ratio = owidth / oheight"
   ]
  },
  {
   "cell_type": "code",
   "execution_count": null,
   "metadata": {
    "hidden": true,
    "run_control": {
     "frozen": false,
     "read_only": false
    }
   },
   "outputs": [],
   "source": [
    "scale_boxes(raw_bboxes, (640, 480), (128, 128))"
   ]
  },
  {
   "cell_type": "code",
   "execution_count": null,
   "metadata": {
    "hidden": true,
    "run_control": {
     "frozen": false,
     "read_only": false
    }
   },
   "outputs": [],
   "source": [
    "raw_bboxes = [test_rects[frame_n]]\n",
    "bboxes = copy.deepcopy([bb.reshape(2, 2) for bb in raw_bboxes])\n",
    "\n",
    "def scale_box(bbox):\n",
    "    bb = copy.deepcopy(bbox).reshape(2, 2)\n",
    "    bb[:, 0] = bb[:, 0] * scale_down\n",
    "    bb[:, 1] = bb[:, 1] * scale_down * asp_ratio\n",
    "    return bb.reshape(4,)"
   ]
  },
  {
   "cell_type": "code",
   "execution_count": null,
   "metadata": {
    "hidden": true,
    "run_control": {
     "frozen": false,
     "read_only": false
    }
   },
   "outputs": [],
   "source": [
    "scaled_ent_box = scale_box(test_rects[40])"
   ]
  },
  {
   "cell_type": "code",
   "execution_count": null,
   "metadata": {
    "hidden": true,
    "run_control": {
     "frozen": false,
     "read_only": false
    }
   },
   "outputs": [],
   "source": [
    "# _ = cv2.rectangle(orig_frame, tuple(scaled_ent_box[0]), tuple(scaled_ent_box[1]), (0, 255, 255) , thickness=1)\n",
    "# pil.fromarray(orig_frame)"
   ]
  },
  {
   "cell_type": "code",
   "execution_count": null,
   "metadata": {
    "hidden": true,
    "run_control": {
     "frozen": false,
     "read_only": false
    }
   },
   "outputs": [],
   "source": [
    "test_rects[40]"
   ]
  },
  {
   "cell_type": "code",
   "execution_count": null,
   "metadata": {
    "hidden": true,
    "run_control": {
     "frozen": false,
     "read_only": false
    }
   },
   "outputs": [],
   "source": [
    "kernel = np.ones((5,5),np.uint8)"
   ]
  },
  {
   "cell_type": "code",
   "execution_count": null,
   "metadata": {
    "hidden": true,
    "run_control": {
     "frozen": false,
     "read_only": false
    }
   },
   "outputs": [],
   "source": [
    "frame_n = 40\n",
    "scaled_ent_box = scale_box(test_rects[40])\n",
    "char_mask = segment_entity_rect(test_frames[frame_n], scaled_ent_box)\n",
    "dilated_mask = cv2.dilate(char_mask, kernel, iterations = 1)"
   ]
  },
  {
   "cell_type": "code",
   "execution_count": null,
   "metadata": {
    "hidden": true,
    "run_control": {
     "frozen": false,
     "read_only": false
    }
   },
   "outputs": [],
   "source": [
    "from anigen_tools.segmentation import segment_all_video_entities"
   ]
  },
  {
   "cell_type": "code",
   "execution_count": null,
   "metadata": {
    "hidden": true,
    "run_control": {
     "frozen": false,
     "read_only": false
    }
   },
   "outputs": [],
   "source": [
    "segment_all_video_entities(test_vid, True)"
   ]
  },
  {
   "cell_type": "code",
   "execution_count": null,
   "metadata": {
    "hidden": true,
    "run_control": {
     "frozen": false,
     "read_only": false
    }
   },
   "outputs": [],
   "source": [
    "char_mask.shape"
   ]
  },
  {
   "cell_type": "code",
   "execution_count": null,
   "metadata": {
    "hidden": true,
    "run_control": {
     "frozen": false,
     "read_only": false
    }
   },
   "outputs": [],
   "source": [
    "pil.fromarray((e1 + e2) * 255, mode='L')"
   ]
  },
  {
   "cell_type": "code",
   "execution_count": null,
   "metadata": {
    "hidden": true,
    "run_control": {
     "frozen": false,
     "read_only": false
    }
   },
   "outputs": [],
   "source": []
  },
  {
   "cell_type": "code",
   "execution_count": null,
   "metadata": {
    "hidden": true,
    "run_control": {
     "frozen": false,
     "read_only": false
    }
   },
   "outputs": [],
   "source": [
    "e1 = np.load('./retrieved/trajectories/segmentation/s_05_e_09_shot_040095_040169_bed,_0_5_segm.npy')\n",
    "e2 = np.load('./retrieved/trajectories/segmentation/s_05_e_09_shot_040095_040169_char_0_segm.npy')"
   ]
  },
  {
   "cell_type": "code",
   "execution_count": null,
   "metadata": {
    "hidden": true,
    "run_control": {
     "frozen": false,
     "read_only": false
    }
   },
   "outputs": [],
   "source": [
    "frame_n=1\n",
    "img_seg, char_mask = segment_entity_rect(test_vid.get_key_frame_images()[frame_n], test_vid.data()['characters'][0].data()['rectangles'][frame_n])\n",
    "# img_seg1, char_mask1 = segment_entity_rect(test_vid.get_key_frame_images()[frame_n], test_vid.data()['characters'][1].data()['rectangles'][frame_n])\n",
    "# _, obj_mask = segment_entity_rect(test_vid.get_key_frame_images()[frame_n], test_vid.data()['objects'][0].data()['rectangles'][frame_n])\n",
    "# _, obj_mask1 = segment_entity_rect(test_vid.get_key_frame_images()[frame_n], test_vid.data()['objects'][1].data()['rectangles'][frame_n])"
   ]
  },
  {
   "cell_type": "code",
   "execution_count": null,
   "metadata": {
    "hidden": true,
    "run_control": {
     "frozen": false,
     "read_only": false
    }
   },
   "outputs": [],
   "source": [
    "pil.fromarray(char_mask.reshape(480, 640)*255, mode='L')"
   ]
  },
  {
   "cell_type": "code",
   "execution_count": null,
   "metadata": {
    "hidden": true,
    "run_control": {
     "frozen": false,
     "read_only": false
    }
   },
   "outputs": [],
   "source": [
    "combined_mask = e1 + e2"
   ]
  },
  {
   "cell_type": "code",
   "execution_count": null,
   "metadata": {
    "hidden": true,
    "run_control": {
     "frozen": false,
     "read_only": false
    }
   },
   "outputs": [],
   "source": [
    "# c = 255 - (obj_mask)\n",
    "# np.putmask(combined_mask, c < combined_mask, c)"
   ]
  },
  {
   "cell_type": "code",
   "execution_count": null,
   "metadata": {
    "hidden": true,
    "run_control": {
     "frozen": false,
     "read_only": false
    }
   },
   "outputs": [],
   "source": [
    "combined_mask += (obj_mask)"
   ]
  },
  {
   "cell_type": "code",
   "execution_count": null,
   "metadata": {
    "hidden": true,
    "run_control": {
     "frozen": false,
     "read_only": false
    }
   },
   "outputs": [],
   "source": [
    "dilated_mask = cv2.dilate(combined_mask, kernel, iterations = 2).reshape(combined_mask.shape)"
   ]
  },
  {
   "cell_type": "code",
   "execution_count": null,
   "metadata": {
    "hidden": true,
    "run_control": {
     "frozen": false,
     "read_only": false
    }
   },
   "outputs": [],
   "source": [
    "invmask = 1 - (dilated_mask)"
   ]
  },
  {
   "cell_type": "code",
   "execution_count": null,
   "metadata": {
    "hidden": true,
    "run_control": {
     "frozen": false,
     "read_only": false
    }
   },
   "outputs": [],
   "source": [
    "bg_image = orig_frame * invmask + invmask + dilated_mask * 255"
   ]
  },
  {
   "cell_type": "code",
   "execution_count": null,
   "metadata": {
    "hidden": true,
    "run_control": {
     "frozen": false,
     "read_only": false
    }
   },
   "outputs": [],
   "source": [
    "orig_frame.save('bg_tests/' + test_vid.gid() + '.png')"
   ]
  },
  {
   "cell_type": "code",
   "execution_count": null,
   "metadata": {
    "hidden": true,
    "run_control": {
     "frozen": false,
     "read_only": false
    }
   },
   "outputs": [],
   "source": [
    "pil.fromarray(bg_image).save('bg_tests/' + test_vid.gid() + '_cutout.png')"
   ]
  },
  {
   "cell_type": "code",
   "execution_count": null,
   "metadata": {
    "hidden": true,
    "run_control": {
     "frozen": false,
     "read_only": false
    }
   },
   "outputs": [],
   "source": []
  },
  {
   "cell_type": "code",
   "execution_count": null,
   "metadata": {
    "hidden": true,
    "run_control": {
     "frozen": false,
     "read_only": false
    }
   },
   "outputs": [],
   "source": []
  },
  {
   "cell_type": "code",
   "execution_count": null,
   "metadata": {
    "hidden": true,
    "run_control": {
     "frozen": false,
     "read_only": false
    }
   },
   "outputs": [],
   "source": []
  },
  {
   "cell_type": "code",
   "execution_count": null,
   "metadata": {
    "hidden": true,
    "run_control": {
     "frozen": false,
     "read_only": false
    }
   },
   "outputs": [],
   "source": []
  },
  {
   "cell_type": "code",
   "execution_count": null,
   "metadata": {
    "hidden": true,
    "run_control": {
     "frozen": false,
     "read_only": false
    }
   },
   "outputs": [],
   "source": [
    "pil.frombytes(mode='1', size=ents_masked_out.shape[::-1], data=np.packbits(ents_masked_out, axis=1))"
   ]
  },
  {
   "cell_type": "code",
   "execution_count": null,
   "metadata": {
    "hidden": true,
    "run_control": {
     "frozen": false,
     "read_only": false
    }
   },
   "outputs": [],
   "source": [
    "frame_dir = './object_tracking/vid_arr_data/'\n",
    "bbox_dir = 'object_tracking/interpolated_char_bboxes/'"
   ]
  },
  {
   "cell_type": "code",
   "execution_count": null,
   "metadata": {
    "hidden": true,
    "run_control": {
     "frozen": false,
     "read_only": false
    }
   },
   "outputs": [],
   "source": [
    "new_dim = 128\n",
    "owidth = 640\n",
    "oheight = 480\n",
    "\n",
    "scale_down = new_dim / owidth\n",
    "asp_ratio = owidth / oheight\n",
    "\n",
    "\n",
    "def draw_bbox(frame_arr_square, char_bb, entity_type = 'character'):\n",
    "    color_assignments = {\n",
    "        'character': (0, 255, 255),\n",
    "        'object': (0, 255, 0),\n",
    "    }\n",
    "    frame_arr = cv2.resize(frame_arr_square, None, fx = asp_ratio, fy=1)\n",
    "    char_bb = char_bb.reshape(2, 2)\n",
    "    char_bb[:, 0] = char_bb[:, 0] * scale_down * asp_ratio\n",
    "    char_bb[:, 1] = char_bb[:, 1] * scale_down * asp_ratio\n",
    "    char_bb = char_bb.astype(int)\n",
    "#     open_cv_image = frame_1[:, :, ::].copy()\n",
    "    return pil.fromarray(cv2.rectangle(frame_arr, tuple(char_bb[0]), tuple(char_bb[1]), color_assignments[entity_type] , thickness=1))\n",
    "\n",
    "\n",
    "def draw_inter_seq(eid, play=True):\n",
    "    outfile = 'interp_viz/' + get_vid_from_eid(eid) + '_interp.gif'\n",
    "\n",
    "    examine_vid = get_vid_from_eid(eid)\n",
    "    entity_key_rects = get_entity(prod_dataset, eid).rect()\n",
    "    entity_rects = interpolate_rects(entity_key_rects, [9,39,69], 75)\n",
    "    entity_rects = np.nan_to_num(entity_rects)\n",
    "    frame_arr_data = np.load(frame_dir + examine_vid + '.npy')\n",
    "    interp_img_seq = [draw_bbox(frame_arr_data[frame_n], entity_rects[frame_n], 'object') for frame_n in range(frame_arr_data.shape[0])]\n",
    "    if play:\n",
    "        interp_img_seq[0].save(outfile, save_all=True, optimize=True, duration=42, append_images=interp_img_seq[1:])\n",
    "        return Image(filename=outfile)\n",
    "    return interp_img_seq\n",
    "\n",
    "\n",
    "def draw_all_bboxes(frame_arr_square, raw_bboxes, entity_type = 'character'):\n",
    "    color_assignments = {\n",
    "        'character': (0, 255, 255),\n",
    "        'object': (0, 255, 0),\n",
    "    }\n",
    "    frame_arr = cv2.resize(frame_arr_square, None, fx = asp_ratio, fy=1)\n",
    "    bboxes = [bb.reshape(2, 2) for bb in raw_bboxes]\n",
    "    for bb in bboxes:\n",
    "        bb[:, 0] = bb[:, 0] * scale_down * asp_ratio\n",
    "        bb[:, 1] = bb[:, 1] * scale_down * asp_ratio\n",
    "    bboxes = [bb.astype(int) for bb in bboxes]\n",
    "    _ = [cv2.rectangle(frame_arr, tuple(bb[0]), tuple(bb[1]), color_assignments[entity_type] , thickness=1) for bb in bboxes]\n",
    "    return pil.fromarray(frame_arr)\n",
    "\n",
    "\n",
    "def draw_video_interps(video, play=True, out_dir='interp_viz'):\n",
    "    outfile = os.path.join(out_dir, video.gid() + '_interp.gif')\n",
    "    entity_interps = interpolate_all_video_entites(video)\n",
    "    frame_arr_data = np.load(frame_dir + video.gid() + '.npy')\n",
    "    interp_img_seq = [draw_all_bboxes(frame_arr_data[frame_n], [entity_rect[frame_n] for entity_rect in entity_interps], 'object') for frame_n in range(frame_arr_data.shape[0])]\n",
    "    interp_img_seq[0].save(outfile, save_all=True, optimize=True, duration=42, append_images=interp_img_seq[1:])\n",
    "    if play:\n",
    "        return Image(filename=outfile)\n",
    "    return interp_img_seq"
   ]
  },
  {
   "cell_type": "code",
   "execution_count": null,
   "metadata": {
    "hidden": true,
    "run_control": {
     "frozen": false,
     "read_only": false
    }
   },
   "outputs": [],
   "source": [
    "# test_vid.data()['objects']"
   ]
  },
  {
   "cell_type": "code",
   "execution_count": null,
   "metadata": {
    "hidden": true,
    "run_control": {
     "frozen": false,
     "read_only": false
    }
   },
   "outputs": [],
   "source": [
    "draw_video_interps(test_vid)"
   ]
  },
  {
   "cell_type": "code",
   "execution_count": null,
   "metadata": {
    "hidden": true,
    "run_control": {
     "frozen": false,
     "read_only": false
    }
   },
   "outputs": [],
   "source": [
    "draw_inter_seq(test_obj[1].gid())"
   ]
  },
  {
   "cell_type": "code",
   "execution_count": null,
   "metadata": {
    "hidden": true,
    "run_control": {
     "frozen": false,
     "read_only": false
    }
   },
   "outputs": [],
   "source": [
    "entity_to_examine = examine_series.index[200]\n",
    "entity_to_examine = 's_01_e_01_shot_008499_008573_hands_1_7'\n",
    "print(entity_to_examine)"
   ]
  },
  {
   "cell_type": "code",
   "execution_count": null,
   "metadata": {
    "hidden": true,
    "run_control": {
     "frozen": false,
     "read_only": false
    }
   },
   "outputs": [],
   "source": [
    "draw_inter_seq('s_01_e_01_shot_008499_008573_hands_1_7')"
   ]
  },
  {
   "cell_type": "code",
   "execution_count": null,
   "metadata": {
    "hidden": true,
    "run_control": {
     "frozen": false,
     "read_only": false
    },
    "scrolled": false
   },
   "outputs": [],
   "source": [
    "# prod_dataset.get_video('s_01_e_01_shot_008499_008573').data()['objects']"
   ]
  },
  {
   "cell_type": "markdown",
   "metadata": {
    "hidden": true
   },
   "source": [
    "'Fred lies backyard in the hammock. He makes a flapping gesture with his hands.'\n",
    "hammock, hands"
   ]
  },
  {
   "cell_type": "code",
   "execution_count": null,
   "metadata": {
    "hidden": true,
    "run_control": {
     "frozen": false,
     "read_only": false
    }
   },
   "outputs": [],
   "source": [
    "prod_dataset.get_video('s_01_e_01_shot_021791_021865').data()['objects']"
   ]
  },
  {
   "cell_type": "code",
   "execution_count": null,
   "metadata": {
    "hidden": true,
    "run_control": {
     "frozen": false,
     "read_only": false
    }
   },
   "outputs": [],
   "source": [
    "prod_dataset.get_video('s_01_e_01_shot_021791_021865').description()"
   ]
  },
  {
   "cell_type": "code",
   "execution_count": null,
   "metadata": {
    "hidden": true,
    "run_control": {
     "frozen": false,
     "read_only": false
    }
   },
   "outputs": [],
   "source": [
    "def get_entity(dataset, eid):\n",
    "    vid = get_vid_from_eid(eid)\n",
    "    video = dataset.get_video(vid)\n",
    "    entity = [entity for entity in video.data()['characters'] + video.data()['objects'] if entity.gid() == eid]\n",
    "    if entity:\n",
    "        return entity[0]\n",
    "    else:\n",
    "        return None"
   ]
  },
  {
   "cell_type": "code",
   "execution_count": null,
   "metadata": {
    "hidden": true,
    "run_control": {
     "frozen": false,
     "read_only": false
    }
   },
   "outputs": [],
   "source": [
    "from amt_utils.bboxes import comp_boxes_iou"
   ]
  },
  {
   "cell_type": "code",
   "execution_count": null,
   "metadata": {
    "hidden": true,
    "run_control": {
     "frozen": false,
     "read_only": false
    }
   },
   "outputs": [],
   "source": [
    "def detect_movement(entity, thresh=0.4):\n",
    "    first, middle, last = entity.rect()\n",
    "    if not first or not  middle or not last:\n",
    "        return 1\n",
    "    comp12 = comp_boxes_iou(np.array(first), np.array(middle))\n",
    "    comp23 = comp_boxes_iou(np.array(last), np.array(middle))\n",
    "    return min(comp12, comp23)\n",
    "#     return comp12 < thresh or comp23 < thresh"
   ]
  },
  {
   "cell_type": "code",
   "execution_count": null,
   "metadata": {
    "hidden": true,
    "run_control": {
     "frozen": false,
     "read_only": false
    }
   },
   "outputs": [],
   "source": [
    "moving_objects_per_vid = [{ent.gid(): detect_movement(ent, 0.3) for ent in vid.data()['characters'] + vid.data()['objects']} for vid in go_vids]"
   ]
  },
  {
   "cell_type": "code",
   "execution_count": null,
   "metadata": {
    "hidden": true,
    "run_control": {
     "frozen": false,
     "read_only": false
    }
   },
   "outputs": [],
   "source": [
    "moving_objects = {}\n",
    "for vid in moving_objects_per_vid:\n",
    "    for gid, does_move in vid.items():\n",
    "        moving_objects[gid] = does_move"
   ]
  },
  {
   "cell_type": "code",
   "execution_count": null,
   "metadata": {
    "hidden": true,
    "run_control": {
     "frozen": false,
     "read_only": false
    }
   },
   "outputs": [],
   "source": [
    "movement_series = pd.Series(moving_objects)"
   ]
  },
  {
   "cell_type": "markdown",
   "metadata": {
    "hidden": true
   },
   "source": [
    "0.3 4% \n",
    "\n",
    "0.5: 8%\n",
    "\n",
    "0.7: 29%"
   ]
  },
  {
   "cell_type": "code",
   "execution_count": null,
   "metadata": {
    "hidden": true,
    "run_control": {
     "frozen": false,
     "read_only": false
    }
   },
   "outputs": [],
   "source": [
    "next_batch_vids = [vid for vid in prod_dataset.data if vid.gid() in next_batch_vid_ids]"
   ]
  },
  {
   "cell_type": "code",
   "execution_count": null,
   "metadata": {
    "hidden": true,
    "run_control": {
     "frozen": false,
     "read_only": false
    }
   },
   "outputs": [],
   "source": [
    "s4a_latest_go_vids = prod_dataset.filter_videos({'stage': 'stage_4a', 'go': True})"
   ]
  },
  {
   "cell_type": "code",
   "execution_count": null,
   "metadata": {
    "hidden": true,
    "run_control": {
     "frozen": false,
     "read_only": false
    }
   },
   "outputs": [],
   "source": [
    "_ = [vid.update_stage4a(obj_hit_results) for vid in s4a_latest_go_vids]"
   ]
  },
  {
   "cell_type": "code",
   "execution_count": null,
   "metadata": {
    "hidden": true,
    "run_control": {
     "frozen": false,
     "read_only": false
    }
   },
   "outputs": [],
   "source": [
    "next_batch_vids_to_4b_anno = [vid for vid in s4a_latest_go_vids if vid.gid() in next_batch_vid_ids]"
   ]
  },
  {
   "cell_type": "code",
   "execution_count": null,
   "metadata": {
    "hidden": true,
    "run_control": {
     "frozen": false,
     "read_only": false
    }
   },
   "outputs": [],
   "source": [
    "st_frames = !ls /Users/schwenk/wrk/animation_gan/build_dataset/stage_4/subtask_frames/\n",
    "stf_ids = [f.rsplit('_', 1)[0] for f in st_frames]\n",
    "missing_sfs = set(new_syf_ids).difference(set(stf_ids))"
   ]
  }
 ],
 "metadata": {
  "kernelspec": {
   "display_name": "Python 3",
   "language": "python",
   "name": "python3"
  },
  "language_info": {
   "codemirror_mode": {
    "name": "ipython",
    "version": 3
   },
   "file_extension": ".py",
   "mimetype": "text/x-python",
   "name": "python",
   "nbconvert_exporter": "python",
   "pygments_lexer": "ipython3",
   "version": "3.6.4"
  },
  "notify_time": "30"
 },
 "nbformat": 4,
 "nbformat_minor": 2
}
